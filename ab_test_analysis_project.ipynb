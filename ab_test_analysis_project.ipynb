{
 "cells": [
  {
   "cell_type": "markdown",
   "metadata": {},
   "source": [
    "Together with the marketing department at a big online store, we've compiled a list of hypotheses that may help boost revenue.\n",
    "\n",
    "**Purpose of the analysis:** prioritize hypotheses, launch an A/B test, and analyze the results."
   ]
  },
  {
   "cell_type": "markdown",
   "metadata": {},
   "source": [
    "**Description of the data**\n",
    "\n",
    "*The hypotheses table:*\n",
    "- Hypotheses — brief descriptions of the hypotheses\n",
    "- Reach — user reach, on a scale of one to ten\n",
    "- Impact — impact on users, on a scale of one to ten\n",
    "- Confidence — confidence in the hypothesis, on a scale of one to ten\n",
    "- Effort — the resources required to test a hypothesis, on a scale of one to ten. The higher the Effort value, the more resource-intensive the test.\n",
    "\n",
    "*The orders table:*\n",
    "- transactionId — order identifier\n",
    "- visitorId — identifier of the user who placed the order\n",
    "- date — of the order\n",
    "- revenue — from the order\n",
    "- group — the A/B test group that the user belongs to\n",
    "\n",
    "*The visits table:*\n",
    "- date — date\n",
    "- group — A/B test group\n",
    "- visits — the number of visits on the date specified in the A/B test group specified"
   ]
  },
  {
   "cell_type": "markdown",
   "metadata": {},
   "source": [
    "## Preprocess the data"
   ]
  },
  {
   "cell_type": "markdown",
   "metadata": {},
   "source": [
    "Download the data and prepare it for analysis​."
   ]
  },
  {
   "cell_type": "code",
   "execution_count": 1,
   "metadata": {},
   "outputs": [],
   "source": [
    "import pandas as pd\n",
    "import datetime as dt\n",
    "import numpy as np\n",
    "import scipy.stats as stats\n",
    "import math\n",
    "import matplotlib.pyplot as plt\n",
    "import warnings\n",
    "warnings.filterwarnings(\"ignore\")"
   ]
  },
  {
   "cell_type": "code",
   "execution_count": 2,
   "metadata": {},
   "outputs": [
    {
     "name": "stdout",
     "output_type": "stream",
     "text": [
      "Requirement already satisfied: sidetable in c:\\users\\eduda\\anaconda3\\lib\\site-packages (0.9.0)\n",
      "Requirement already satisfied: pandas>=1.0 in c:\\users\\eduda\\anaconda3\\lib\\site-packages (from sidetable) (1.4.2)\n",
      "Requirement already satisfied: pytz>=2020.1 in c:\\users\\eduda\\anaconda3\\lib\\site-packages (from pandas>=1.0->sidetable) (2021.3)\n",
      "Requirement already satisfied: python-dateutil>=2.8.1 in c:\\users\\eduda\\anaconda3\\lib\\site-packages (from pandas>=1.0->sidetable) (2.8.2)\n",
      "Requirement already satisfied: numpy>=1.18.5 in c:\\users\\eduda\\anaconda3\\lib\\site-packages (from pandas>=1.0->sidetable) (1.21.5)\n",
      "Requirement already satisfied: six>=1.5 in c:\\users\\eduda\\anaconda3\\lib\\site-packages (from python-dateutil>=2.8.1->pandas>=1.0->sidetable) (1.16.0)\n"
     ]
    }
   ],
   "source": [
    "!pip install sidetable"
   ]
  },
  {
   "cell_type": "code",
   "execution_count": 3,
   "metadata": {},
   "outputs": [],
   "source": [
    "import sidetable as stb"
   ]
  },
  {
   "cell_type": "markdown",
   "metadata": {},
   "source": [
    "Let's download **the hypotheses table**."
   ]
  },
  {
   "cell_type": "code",
   "execution_count": 4,
   "metadata": {},
   "outputs": [
    {
     "data": {
      "text/html": [
       "<div>\n",
       "<style scoped>\n",
       "    .dataframe tbody tr th:only-of-type {\n",
       "        vertical-align: middle;\n",
       "    }\n",
       "\n",
       "    .dataframe tbody tr th {\n",
       "        vertical-align: top;\n",
       "    }\n",
       "\n",
       "    .dataframe thead th {\n",
       "        text-align: right;\n",
       "    }\n",
       "</style>\n",
       "<table border=\"1\" class=\"dataframe\">\n",
       "  <thead>\n",
       "    <tr style=\"text-align: right;\">\n",
       "      <th></th>\n",
       "      <th>Hypothesis</th>\n",
       "      <th>Reach</th>\n",
       "      <th>Impact</th>\n",
       "      <th>Confidence</th>\n",
       "      <th>Effort</th>\n",
       "    </tr>\n",
       "  </thead>\n",
       "  <tbody>\n",
       "    <tr>\n",
       "      <th>0</th>\n",
       "      <td>Add two new channels for attracting traffic. This will bring 30% more users</td>\n",
       "      <td>3</td>\n",
       "      <td>10</td>\n",
       "      <td>8</td>\n",
       "      <td>6</td>\n",
       "    </tr>\n",
       "    <tr>\n",
       "      <th>1</th>\n",
       "      <td>Launch your own delivery service. This will shorten delivery time</td>\n",
       "      <td>2</td>\n",
       "      <td>5</td>\n",
       "      <td>4</td>\n",
       "      <td>10</td>\n",
       "    </tr>\n",
       "    <tr>\n",
       "      <th>2</th>\n",
       "      <td>Add product recommendation blocks to the store's site. This will increase conversion and average purchase size</td>\n",
       "      <td>8</td>\n",
       "      <td>3</td>\n",
       "      <td>7</td>\n",
       "      <td>3</td>\n",
       "    </tr>\n",
       "    <tr>\n",
       "      <th>3</th>\n",
       "      <td>Change the category structure. This will increase conversion since users will find the products they want more quickly</td>\n",
       "      <td>8</td>\n",
       "      <td>3</td>\n",
       "      <td>3</td>\n",
       "      <td>8</td>\n",
       "    </tr>\n",
       "    <tr>\n",
       "      <th>4</th>\n",
       "      <td>Change the background color on the main page. This will increase user engagement</td>\n",
       "      <td>3</td>\n",
       "      <td>1</td>\n",
       "      <td>1</td>\n",
       "      <td>1</td>\n",
       "    </tr>\n",
       "    <tr>\n",
       "      <th>5</th>\n",
       "      <td>Add a customer review page. This will increase the number of orders</td>\n",
       "      <td>3</td>\n",
       "      <td>2</td>\n",
       "      <td>2</td>\n",
       "      <td>3</td>\n",
       "    </tr>\n",
       "    <tr>\n",
       "      <th>6</th>\n",
       "      <td>Show banners with current offers and sales on the main page. This will boost conversion</td>\n",
       "      <td>5</td>\n",
       "      <td>3</td>\n",
       "      <td>8</td>\n",
       "      <td>3</td>\n",
       "    </tr>\n",
       "    <tr>\n",
       "      <th>7</th>\n",
       "      <td>Add a subscription form to all the main pages. This will help you compile a mailing list</td>\n",
       "      <td>10</td>\n",
       "      <td>7</td>\n",
       "      <td>8</td>\n",
       "      <td>5</td>\n",
       "    </tr>\n",
       "    <tr>\n",
       "      <th>8</th>\n",
       "      <td>Launch a promotion that gives users discounts on their birthdays</td>\n",
       "      <td>1</td>\n",
       "      <td>9</td>\n",
       "      <td>9</td>\n",
       "      <td>5</td>\n",
       "    </tr>\n",
       "  </tbody>\n",
       "</table>\n",
       "</div>"
      ],
      "text/plain": [
       "                                                                                                               Hypothesis  \\\n",
       "0                                             Add two new channels for attracting traffic. This will bring 30% more users   \n",
       "1                                                       Launch your own delivery service. This will shorten delivery time   \n",
       "2          Add product recommendation blocks to the store's site. This will increase conversion and average purchase size   \n",
       "3  Change the category structure. This will increase conversion since users will find the products they want more quickly   \n",
       "4                                        Change the background color on the main page. This will increase user engagement   \n",
       "5                                                     Add a customer review page. This will increase the number of orders   \n",
       "6                                 Show banners with current offers and sales on the main page. This will boost conversion   \n",
       "7                                Add a subscription form to all the main pages. This will help you compile a mailing list   \n",
       "8                                                        Launch a promotion that gives users discounts on their birthdays   \n",
       "\n",
       "   Reach  Impact  Confidence  Effort  \n",
       "0      3      10           8       6  \n",
       "1      2       5           4      10  \n",
       "2      8       3           7       3  \n",
       "3      8       3           3       8  \n",
       "4      3       1           1       1  \n",
       "5      3       2           2       3  \n",
       "6      5       3           8       3  \n",
       "7     10       7           8       5  \n",
       "8      1       9           9       5  "
      ]
     },
     "execution_count": 4,
     "metadata": {},
     "output_type": "execute_result"
    }
   ],
   "source": [
    "try:\n",
    "    hypotheses=pd.read_csv('/datasets/hypotheses_us.csv', sep=';')\n",
    "except:\n",
    "    hypotheses = pd.read_csv('C:\\\\Users\\\\eduda\\\\Downloads\\\\making ab\\\\hypotheses_us.csv', sep=';')\n",
    "pd.options.display.max_colwidth = 150\n",
    "hypotheses"
   ]
  },
  {
   "cell_type": "markdown",
   "metadata": {},
   "source": [
    "We have 9 hypotheses for prioritizing."
   ]
  },
  {
   "cell_type": "markdown",
   "metadata": {},
   "source": [
    "Let's check **the orders table**."
   ]
  },
  {
   "cell_type": "code",
   "execution_count": 5,
   "metadata": {},
   "outputs": [
    {
     "data": {
      "text/html": [
       "<div>\n",
       "<style scoped>\n",
       "    .dataframe tbody tr th:only-of-type {\n",
       "        vertical-align: middle;\n",
       "    }\n",
       "\n",
       "    .dataframe tbody tr th {\n",
       "        vertical-align: top;\n",
       "    }\n",
       "\n",
       "    .dataframe thead th {\n",
       "        text-align: right;\n",
       "    }\n",
       "</style>\n",
       "<table border=\"1\" class=\"dataframe\">\n",
       "  <thead>\n",
       "    <tr style=\"text-align: right;\">\n",
       "      <th></th>\n",
       "      <th>transactionId</th>\n",
       "      <th>visitorId</th>\n",
       "      <th>date</th>\n",
       "      <th>revenue</th>\n",
       "      <th>group</th>\n",
       "    </tr>\n",
       "  </thead>\n",
       "  <tbody>\n",
       "    <tr>\n",
       "      <th>0</th>\n",
       "      <td>3667963787</td>\n",
       "      <td>3312258926</td>\n",
       "      <td>2019-08-15</td>\n",
       "      <td>30.4</td>\n",
       "      <td>B</td>\n",
       "    </tr>\n",
       "    <tr>\n",
       "      <th>1</th>\n",
       "      <td>2804400009</td>\n",
       "      <td>3642806036</td>\n",
       "      <td>2019-08-15</td>\n",
       "      <td>15.2</td>\n",
       "      <td>B</td>\n",
       "    </tr>\n",
       "    <tr>\n",
       "      <th>2</th>\n",
       "      <td>2961555356</td>\n",
       "      <td>4069496402</td>\n",
       "      <td>2019-08-15</td>\n",
       "      <td>10.2</td>\n",
       "      <td>A</td>\n",
       "    </tr>\n",
       "    <tr>\n",
       "      <th>3</th>\n",
       "      <td>3797467345</td>\n",
       "      <td>1196621759</td>\n",
       "      <td>2019-08-15</td>\n",
       "      <td>155.1</td>\n",
       "      <td>B</td>\n",
       "    </tr>\n",
       "    <tr>\n",
       "      <th>4</th>\n",
       "      <td>2282983706</td>\n",
       "      <td>2322279887</td>\n",
       "      <td>2019-08-15</td>\n",
       "      <td>40.5</td>\n",
       "      <td>B</td>\n",
       "    </tr>\n",
       "  </tbody>\n",
       "</table>\n",
       "</div>"
      ],
      "text/plain": [
       "   transactionId   visitorId        date  revenue group\n",
       "0     3667963787  3312258926  2019-08-15     30.4     B\n",
       "1     2804400009  3642806036  2019-08-15     15.2     B\n",
       "2     2961555356  4069496402  2019-08-15     10.2     A\n",
       "3     3797467345  1196621759  2019-08-15    155.1     B\n",
       "4     2282983706  2322279887  2019-08-15     40.5     B"
      ]
     },
     "execution_count": 5,
     "metadata": {},
     "output_type": "execute_result"
    }
   ],
   "source": [
    "try:\n",
    "    orders=pd.read_csv('/datasets/orders_us.csv')\n",
    "except:\n",
    "    orders=pd.read_csv('C:\\\\Users\\\\eduda\\\\Downloads\\\\making ab\\\\orders_us.csv')\n",
    "orders.head()"
   ]
  },
  {
   "cell_type": "code",
   "execution_count": 6,
   "metadata": {},
   "outputs": [
    {
     "name": "stdout",
     "output_type": "stream",
     "text": [
      "<class 'pandas.core.frame.DataFrame'>\n",
      "RangeIndex: 1197 entries, 0 to 1196\n",
      "Data columns (total 5 columns):\n",
      " #   Column         Non-Null Count  Dtype  \n",
      "---  ------         --------------  -----  \n",
      " 0   transactionId  1197 non-null   int64  \n",
      " 1   visitorId      1197 non-null   int64  \n",
      " 2   date           1197 non-null   object \n",
      " 3   revenue        1197 non-null   float64\n",
      " 4   group          1197 non-null   object \n",
      "dtypes: float64(1), int64(2), object(2)\n",
      "memory usage: 46.9+ KB\n"
     ]
    }
   ],
   "source": [
    "orders.info()"
   ]
  },
  {
   "cell_type": "markdown",
   "metadata": {},
   "source": [
    "Let's change data type in 'data' column to datetime and continue checking the table."
   ]
  },
  {
   "cell_type": "code",
   "execution_count": 7,
   "metadata": {},
   "outputs": [
    {
     "data": {
      "text/plain": [
       "dtype('<M8[ns]')"
      ]
     },
     "execution_count": 7,
     "metadata": {},
     "output_type": "execute_result"
    }
   ],
   "source": [
    "orders['date']= orders['date'].map(lambda x: dt.datetime.strptime(x,'%Y-%m-%d'))\n",
    "orders['date'].dtype"
   ]
  },
  {
   "cell_type": "code",
   "execution_count": 8,
   "metadata": {},
   "outputs": [
    {
     "name": "stdout",
     "output_type": "stream",
     "text": [
      "The amount of missing values in the orders table.\n"
     ]
    },
    {
     "data": {
      "text/html": [
       "<style type=\"text/css\">\n",
       "</style>\n",
       "<table id=\"T_0cd09\">\n",
       "  <thead>\n",
       "    <tr>\n",
       "      <th class=\"blank level0\" >&nbsp;</th>\n",
       "      <th id=\"T_0cd09_level0_col0\" class=\"col_heading level0 col0\" >missing</th>\n",
       "      <th id=\"T_0cd09_level0_col1\" class=\"col_heading level0 col1\" >total</th>\n",
       "      <th id=\"T_0cd09_level0_col2\" class=\"col_heading level0 col2\" >percent</th>\n",
       "    </tr>\n",
       "  </thead>\n",
       "  <tbody>\n",
       "    <tr>\n",
       "      <th id=\"T_0cd09_level0_row0\" class=\"row_heading level0 row0\" >transactionId</th>\n",
       "      <td id=\"T_0cd09_row0_col0\" class=\"data row0 col0\" >0</td>\n",
       "      <td id=\"T_0cd09_row0_col1\" class=\"data row0 col1\" >1,197</td>\n",
       "      <td id=\"T_0cd09_row0_col2\" class=\"data row0 col2\" >0.00%</td>\n",
       "    </tr>\n",
       "    <tr>\n",
       "      <th id=\"T_0cd09_level0_row1\" class=\"row_heading level0 row1\" >visitorId</th>\n",
       "      <td id=\"T_0cd09_row1_col0\" class=\"data row1 col0\" >0</td>\n",
       "      <td id=\"T_0cd09_row1_col1\" class=\"data row1 col1\" >1,197</td>\n",
       "      <td id=\"T_0cd09_row1_col2\" class=\"data row1 col2\" >0.00%</td>\n",
       "    </tr>\n",
       "    <tr>\n",
       "      <th id=\"T_0cd09_level0_row2\" class=\"row_heading level0 row2\" >date</th>\n",
       "      <td id=\"T_0cd09_row2_col0\" class=\"data row2 col0\" >0</td>\n",
       "      <td id=\"T_0cd09_row2_col1\" class=\"data row2 col1\" >1,197</td>\n",
       "      <td id=\"T_0cd09_row2_col2\" class=\"data row2 col2\" >0.00%</td>\n",
       "    </tr>\n",
       "    <tr>\n",
       "      <th id=\"T_0cd09_level0_row3\" class=\"row_heading level0 row3\" >revenue</th>\n",
       "      <td id=\"T_0cd09_row3_col0\" class=\"data row3 col0\" >0</td>\n",
       "      <td id=\"T_0cd09_row3_col1\" class=\"data row3 col1\" >1,197</td>\n",
       "      <td id=\"T_0cd09_row3_col2\" class=\"data row3 col2\" >0.00%</td>\n",
       "    </tr>\n",
       "    <tr>\n",
       "      <th id=\"T_0cd09_level0_row4\" class=\"row_heading level0 row4\" >group</th>\n",
       "      <td id=\"T_0cd09_row4_col0\" class=\"data row4 col0\" >0</td>\n",
       "      <td id=\"T_0cd09_row4_col1\" class=\"data row4 col1\" >1,197</td>\n",
       "      <td id=\"T_0cd09_row4_col2\" class=\"data row4 col2\" >0.00%</td>\n",
       "    </tr>\n",
       "  </tbody>\n",
       "</table>\n"
      ],
      "text/plain": [
       "<pandas.io.formats.style.Styler at 0x25e2ce66b80>"
      ]
     },
     "execution_count": 8,
     "metadata": {},
     "output_type": "execute_result"
    }
   ],
   "source": [
    "print('The amount of missing values in the orders table.')\n",
    "orders.stb.missing(style=True)"
   ]
  },
  {
   "cell_type": "code",
   "execution_count": 9,
   "metadata": {},
   "outputs": [
    {
     "name": "stdout",
     "output_type": "stream",
     "text": [
      "The amount of duplicates in the orders table.\n"
     ]
    },
    {
     "data": {
      "text/plain": [
       "0"
      ]
     },
     "execution_count": 9,
     "metadata": {},
     "output_type": "execute_result"
    }
   ],
   "source": [
    "print('The amount of duplicates in the orders table.')\n",
    "orders.duplicated().sum()"
   ]
  },
  {
   "cell_type": "code",
   "execution_count": 10,
   "metadata": {},
   "outputs": [
    {
     "name": "stdout",
     "output_type": "stream",
     "text": [
      "The distribution of the orders table.\n"
     ]
    },
    {
     "data": {
      "text/html": [
       "<div>\n",
       "<style scoped>\n",
       "    .dataframe tbody tr th:only-of-type {\n",
       "        vertical-align: middle;\n",
       "    }\n",
       "\n",
       "    .dataframe tbody tr th {\n",
       "        vertical-align: top;\n",
       "    }\n",
       "\n",
       "    .dataframe thead th {\n",
       "        text-align: right;\n",
       "    }\n",
       "</style>\n",
       "<table border=\"1\" class=\"dataframe\">\n",
       "  <thead>\n",
       "    <tr style=\"text-align: right;\">\n",
       "      <th></th>\n",
       "      <th>transactionId</th>\n",
       "      <th>visitorId</th>\n",
       "      <th>revenue</th>\n",
       "    </tr>\n",
       "  </thead>\n",
       "  <tbody>\n",
       "    <tr>\n",
       "      <th>count</th>\n",
       "      <td>1.197000e+03</td>\n",
       "      <td>1.197000e+03</td>\n",
       "      <td>1197.000000</td>\n",
       "    </tr>\n",
       "    <tr>\n",
       "      <th>mean</th>\n",
       "      <td>2.155621e+09</td>\n",
       "      <td>2.165960e+09</td>\n",
       "      <td>131.491646</td>\n",
       "    </tr>\n",
       "    <tr>\n",
       "      <th>std</th>\n",
       "      <td>1.229085e+09</td>\n",
       "      <td>1.236014e+09</td>\n",
       "      <td>603.004729</td>\n",
       "    </tr>\n",
       "    <tr>\n",
       "      <th>min</th>\n",
       "      <td>1.062393e+06</td>\n",
       "      <td>5.114589e+06</td>\n",
       "      <td>5.000000</td>\n",
       "    </tr>\n",
       "    <tr>\n",
       "      <th>25%</th>\n",
       "      <td>1.166776e+09</td>\n",
       "      <td>1.111826e+09</td>\n",
       "      <td>20.800000</td>\n",
       "    </tr>\n",
       "    <tr>\n",
       "      <th>50%</th>\n",
       "      <td>2.145194e+09</td>\n",
       "      <td>2.217985e+09</td>\n",
       "      <td>50.200000</td>\n",
       "    </tr>\n",
       "    <tr>\n",
       "      <th>75%</th>\n",
       "      <td>3.237740e+09</td>\n",
       "      <td>3.177606e+09</td>\n",
       "      <td>130.400000</td>\n",
       "    </tr>\n",
       "    <tr>\n",
       "      <th>max</th>\n",
       "      <td>4.293856e+09</td>\n",
       "      <td>4.283872e+09</td>\n",
       "      <td>19920.400000</td>\n",
       "    </tr>\n",
       "  </tbody>\n",
       "</table>\n",
       "</div>"
      ],
      "text/plain": [
       "       transactionId     visitorId       revenue\n",
       "count   1.197000e+03  1.197000e+03   1197.000000\n",
       "mean    2.155621e+09  2.165960e+09    131.491646\n",
       "std     1.229085e+09  1.236014e+09    603.004729\n",
       "min     1.062393e+06  5.114589e+06      5.000000\n",
       "25%     1.166776e+09  1.111826e+09     20.800000\n",
       "50%     2.145194e+09  2.217985e+09     50.200000\n",
       "75%     3.237740e+09  3.177606e+09    130.400000\n",
       "max     4.293856e+09  4.283872e+09  19920.400000"
      ]
     },
     "execution_count": 10,
     "metadata": {},
     "output_type": "execute_result"
    }
   ],
   "source": [
    "print('The distribution of the orders table.')\n",
    "orders.describe()"
   ]
  },
  {
   "cell_type": "markdown",
   "metadata": {},
   "source": [
    "We don't have missing values, duplucates and zero-values. But the max revenue looks too high, may be it abnormal values."
   ]
  },
  {
   "cell_type": "markdown",
   "metadata": {},
   "source": [
    "Let's check that the visitors are correctly divided into groups - none of the visitors got into either group A or group B. Make queries by groups and compare the visitor IDs."
   ]
  },
  {
   "cell_type": "code",
   "execution_count": 11,
   "metadata": {},
   "outputs": [
    {
     "data": {
      "text/plain": [
       "557"
      ]
     },
     "execution_count": 11,
     "metadata": {},
     "output_type": "execute_result"
    }
   ],
   "source": [
    "ordersA=orders.query('group == \"A\"')\n",
    "len(ordersA)"
   ]
  },
  {
   "cell_type": "code",
   "execution_count": 12,
   "metadata": {},
   "outputs": [
    {
     "data": {
      "text/plain": [
       "640"
      ]
     },
     "execution_count": 12,
     "metadata": {},
     "output_type": "execute_result"
    }
   ],
   "source": [
    "ordersB=orders.query('group == \"B\"')\n",
    "len(ordersB)"
   ]
  },
  {
   "cell_type": "code",
   "execution_count": 13,
   "metadata": {},
   "outputs": [
    {
     "data": {
      "text/plain": [
       "0.12968749999999996"
      ]
     },
     "execution_count": 13,
     "metadata": {},
     "output_type": "execute_result"
    }
   ],
   "source": [
    "1-len(ordersA)/len(ordersB)"
   ]
  },
  {
   "cell_type": "markdown",
   "metadata": {},
   "source": [
    "Groups are not equal - group B bigger then A on 13%."
   ]
  },
  {
   "cell_type": "code",
   "execution_count": 14,
   "metadata": {},
   "outputs": [
    {
     "data": {
      "text/plain": [
       "92"
      ]
     },
     "execution_count": 14,
     "metadata": {},
     "output_type": "execute_result"
    }
   ],
   "source": [
    "doubledOrders=ordersB[ordersB['visitorId'].isin(ordersA['visitorId'].unique())].reset_index(drop=True)\n",
    "doubledOrders.shape[0]"
   ]
  },
  {
   "cell_type": "markdown",
   "metadata": {},
   "source": [
    "We have 92 orders from users, which are present in both groups. We will delete them since it is impossible to track which version users viewed when they made purchases."
   ]
  },
  {
   "cell_type": "code",
   "execution_count": 15,
   "metadata": {},
   "outputs": [
    {
     "data": {
      "text/html": [
       "<div>\n",
       "<style scoped>\n",
       "    .dataframe tbody tr th:only-of-type {\n",
       "        vertical-align: middle;\n",
       "    }\n",
       "\n",
       "    .dataframe tbody tr th {\n",
       "        vertical-align: top;\n",
       "    }\n",
       "\n",
       "    .dataframe thead th {\n",
       "        text-align: right;\n",
       "    }\n",
       "</style>\n",
       "<table border=\"1\" class=\"dataframe\">\n",
       "  <thead>\n",
       "    <tr style=\"text-align: right;\">\n",
       "      <th></th>\n",
       "      <th>transactionId</th>\n",
       "      <th>visitorId</th>\n",
       "      <th>date</th>\n",
       "      <th>revenue</th>\n",
       "      <th>group</th>\n",
       "    </tr>\n",
       "  </thead>\n",
       "  <tbody>\n",
       "    <tr>\n",
       "      <th>0</th>\n",
       "      <td>3667963787</td>\n",
       "      <td>3312258926</td>\n",
       "      <td>2019-08-15</td>\n",
       "      <td>30.4</td>\n",
       "      <td>B</td>\n",
       "    </tr>\n",
       "    <tr>\n",
       "      <th>1</th>\n",
       "      <td>2804400009</td>\n",
       "      <td>3642806036</td>\n",
       "      <td>2019-08-15</td>\n",
       "      <td>15.2</td>\n",
       "      <td>B</td>\n",
       "    </tr>\n",
       "    <tr>\n",
       "      <th>2</th>\n",
       "      <td>3797467345</td>\n",
       "      <td>1196621759</td>\n",
       "      <td>2019-08-15</td>\n",
       "      <td>155.1</td>\n",
       "      <td>B</td>\n",
       "    </tr>\n",
       "    <tr>\n",
       "      <th>3</th>\n",
       "      <td>2282983706</td>\n",
       "      <td>2322279887</td>\n",
       "      <td>2019-08-15</td>\n",
       "      <td>40.5</td>\n",
       "      <td>B</td>\n",
       "    </tr>\n",
       "    <tr>\n",
       "      <th>4</th>\n",
       "      <td>182168103</td>\n",
       "      <td>935554773</td>\n",
       "      <td>2019-08-15</td>\n",
       "      <td>35.0</td>\n",
       "      <td>B</td>\n",
       "    </tr>\n",
       "    <tr>\n",
       "      <th>...</th>\n",
       "      <td>...</td>\n",
       "      <td>...</td>\n",
       "      <td>...</td>\n",
       "      <td>...</td>\n",
       "      <td>...</td>\n",
       "    </tr>\n",
       "    <tr>\n",
       "      <th>1011</th>\n",
       "      <td>3592955527</td>\n",
       "      <td>608641596</td>\n",
       "      <td>2019-08-14</td>\n",
       "      <td>255.7</td>\n",
       "      <td>B</td>\n",
       "    </tr>\n",
       "    <tr>\n",
       "      <th>1012</th>\n",
       "      <td>2662137336</td>\n",
       "      <td>3733762160</td>\n",
       "      <td>2019-08-14</td>\n",
       "      <td>100.8</td>\n",
       "      <td>B</td>\n",
       "    </tr>\n",
       "    <tr>\n",
       "      <th>1013</th>\n",
       "      <td>2203539145</td>\n",
       "      <td>370388673</td>\n",
       "      <td>2019-08-14</td>\n",
       "      <td>50.1</td>\n",
       "      <td>A</td>\n",
       "    </tr>\n",
       "    <tr>\n",
       "      <th>1014</th>\n",
       "      <td>1807773912</td>\n",
       "      <td>573423106</td>\n",
       "      <td>2019-08-14</td>\n",
       "      <td>165.3</td>\n",
       "      <td>A</td>\n",
       "    </tr>\n",
       "    <tr>\n",
       "      <th>1015</th>\n",
       "      <td>3936777065</td>\n",
       "      <td>2108080724</td>\n",
       "      <td>2019-08-15</td>\n",
       "      <td>3120.1</td>\n",
       "      <td>B</td>\n",
       "    </tr>\n",
       "  </tbody>\n",
       "</table>\n",
       "<p>1016 rows × 5 columns</p>\n",
       "</div>"
      ],
      "text/plain": [
       "      transactionId   visitorId       date  revenue group\n",
       "0        3667963787  3312258926 2019-08-15     30.4     B\n",
       "1        2804400009  3642806036 2019-08-15     15.2     B\n",
       "2        3797467345  1196621759 2019-08-15    155.1     B\n",
       "3        2282983706  2322279887 2019-08-15     40.5     B\n",
       "4         182168103   935554773 2019-08-15     35.0     B\n",
       "...             ...         ...        ...      ...   ...\n",
       "1011     3592955527   608641596 2019-08-14    255.7     B\n",
       "1012     2662137336  3733762160 2019-08-14    100.8     B\n",
       "1013     2203539145   370388673 2019-08-14     50.1     A\n",
       "1014     1807773912   573423106 2019-08-14    165.3     A\n",
       "1015     3936777065  2108080724 2019-08-15   3120.1     B\n",
       "\n",
       "[1016 rows x 5 columns]"
      ]
     },
     "execution_count": 15,
     "metadata": {},
     "output_type": "execute_result"
    }
   ],
   "source": [
    "orders_clean=orders.loc[~orders['visitorId'].isin(doubledOrders['visitorId'].unique())].reset_index(drop=True)\n",
    "orders_clean"
   ]
  },
  {
   "cell_type": "code",
   "execution_count": 16,
   "metadata": {},
   "outputs": [
    {
     "data": {
      "text/html": [
       "<div>\n",
       "<style scoped>\n",
       "    .dataframe tbody tr th:only-of-type {\n",
       "        vertical-align: middle;\n",
       "    }\n",
       "\n",
       "    .dataframe tbody tr th {\n",
       "        vertical-align: top;\n",
       "    }\n",
       "\n",
       "    .dataframe thead th {\n",
       "        text-align: right;\n",
       "    }\n",
       "</style>\n",
       "<table border=\"1\" class=\"dataframe\">\n",
       "  <thead>\n",
       "    <tr style=\"text-align: right;\">\n",
       "      <th></th>\n",
       "      <th>transactionId</th>\n",
       "      <th>visitorId</th>\n",
       "      <th>date</th>\n",
       "      <th>revenue</th>\n",
       "      <th>group</th>\n",
       "    </tr>\n",
       "  </thead>\n",
       "  <tbody>\n",
       "  </tbody>\n",
       "</table>\n",
       "</div>"
      ],
      "text/plain": [
       "Empty DataFrame\n",
       "Columns: [transactionId, visitorId, date, revenue, group]\n",
       "Index: []"
      ]
     },
     "execution_count": 16,
     "metadata": {},
     "output_type": "execute_result"
    }
   ],
   "source": [
    "orders_clean.loc[orders_clean['visitorId'].isin(doubledOrders['visitorId'].unique())]"
   ]
  },
  {
   "cell_type": "code",
   "execution_count": 17,
   "metadata": {},
   "outputs": [
    {
     "data": {
      "text/html": [
       "<div>\n",
       "<style scoped>\n",
       "    .dataframe tbody tr th:only-of-type {\n",
       "        vertical-align: middle;\n",
       "    }\n",
       "\n",
       "    .dataframe tbody tr th {\n",
       "        vertical-align: top;\n",
       "    }\n",
       "\n",
       "    .dataframe thead th {\n",
       "        text-align: right;\n",
       "    }\n",
       "</style>\n",
       "<table border=\"1\" class=\"dataframe\">\n",
       "  <thead>\n",
       "    <tr style=\"text-align: right;\">\n",
       "      <th></th>\n",
       "      <th>transactionId</th>\n",
       "      <th>visitorId</th>\n",
       "      <th>revenue</th>\n",
       "    </tr>\n",
       "  </thead>\n",
       "  <tbody>\n",
       "    <tr>\n",
       "      <th>count</th>\n",
       "      <td>1.016000e+03</td>\n",
       "      <td>1.016000e+03</td>\n",
       "      <td>1016.000000</td>\n",
       "    </tr>\n",
       "    <tr>\n",
       "      <th>mean</th>\n",
       "      <td>2.155085e+09</td>\n",
       "      <td>2.128677e+09</td>\n",
       "      <td>130.770866</td>\n",
       "    </tr>\n",
       "    <tr>\n",
       "      <th>std</th>\n",
       "      <td>1.234372e+09</td>\n",
       "      <td>1.221578e+09</td>\n",
       "      <td>648.079810</td>\n",
       "    </tr>\n",
       "    <tr>\n",
       "      <th>min</th>\n",
       "      <td>1.062393e+06</td>\n",
       "      <td>5.114589e+06</td>\n",
       "      <td>5.000000</td>\n",
       "    </tr>\n",
       "    <tr>\n",
       "      <th>25%</th>\n",
       "      <td>1.143481e+09</td>\n",
       "      <td>1.043655e+09</td>\n",
       "      <td>20.775000</td>\n",
       "    </tr>\n",
       "    <tr>\n",
       "      <th>50%</th>\n",
       "      <td>2.144499e+09</td>\n",
       "      <td>2.150274e+09</td>\n",
       "      <td>50.100000</td>\n",
       "    </tr>\n",
       "    <tr>\n",
       "      <th>75%</th>\n",
       "      <td>3.256513e+09</td>\n",
       "      <td>3.146991e+09</td>\n",
       "      <td>126.950000</td>\n",
       "    </tr>\n",
       "    <tr>\n",
       "      <th>max</th>\n",
       "      <td>4.288552e+09</td>\n",
       "      <td>4.283872e+09</td>\n",
       "      <td>19920.400000</td>\n",
       "    </tr>\n",
       "  </tbody>\n",
       "</table>\n",
       "</div>"
      ],
      "text/plain": [
       "       transactionId     visitorId       revenue\n",
       "count   1.016000e+03  1.016000e+03   1016.000000\n",
       "mean    2.155085e+09  2.128677e+09    130.770866\n",
       "std     1.234372e+09  1.221578e+09    648.079810\n",
       "min     1.062393e+06  5.114589e+06      5.000000\n",
       "25%     1.143481e+09  1.043655e+09     20.775000\n",
       "50%     2.144499e+09  2.150274e+09     50.100000\n",
       "75%     3.256513e+09  3.146991e+09    126.950000\n",
       "max     4.288552e+09  4.283872e+09  19920.400000"
      ]
     },
     "execution_count": 17,
     "metadata": {},
     "output_type": "execute_result"
    }
   ],
   "source": [
    "orders_clean.describe()"
   ]
  },
  {
   "cell_type": "markdown",
   "metadata": {},
   "source": [
    "We still have pretty big max 'revenue' value. May be it's outliers, will check it later."
   ]
  },
  {
   "cell_type": "code",
   "execution_count": 18,
   "metadata": {},
   "outputs": [
    {
     "data": {
      "image/png": "[encoded data removed]",
      "text/plain": [
       "<Figure size 432x288 with 1 Axes>"
      ]
     },
     "metadata": {
      "needs_background": "light"
     },
     "output_type": "display_data"
    }
   ],
   "source": [
    "plt.hist(orders_clean['revenue'])\n",
    "plt.title('Distribution of revenue')\n",
    "plt.show()"
   ]
  },
  {
   "cell_type": "code",
   "execution_count": 19,
   "metadata": {},
   "outputs": [
    {
     "data": {
      "image/png": "[encoded data removed]",
      "text/plain": [
       "<Figure size 432x288 with 1 Axes>"
      ]
     },
     "metadata": {
      "needs_background": "light"
     },
     "output_type": "display_data"
    }
   ],
   "source": [
    "x_values=pd.Series(range(0,len(orders_clean['revenue'])))\n",
    "plt.title('Distribution of revenue')\n",
    "plt.scatter(x_values, orders_clean['revenue'], alpha=0.5)\n",
    "plt.show()"
   ]
  },
  {
   "cell_type": "markdown",
   "metadata": {},
   "source": [
    "The histogram was not informative, but on the scatter plot we see two abnormal values - around 20000 and 2500. Let's drop them so as not to distort the test results - find them and make a query."
   ]
  },
  {
   "cell_type": "code",
   "execution_count": 20,
   "metadata": {},
   "outputs": [
    {
     "name": "stdout",
     "output_type": "stream",
     "text": [
      "<class 'pandas.core.frame.DataFrame'>\n",
      "RangeIndex: 1016 entries, 0 to 1015\n",
      "Data columns (total 5 columns):\n",
      " #   Column         Non-Null Count  Dtype         \n",
      "---  ------         --------------  -----         \n",
      " 0   transactionId  1016 non-null   int64         \n",
      " 1   visitorId      1016 non-null   int64         \n",
      " 2   date           1016 non-null   datetime64[ns]\n",
      " 3   revenue        1016 non-null   float64       \n",
      " 4   group          1016 non-null   object        \n",
      "dtypes: datetime64[ns](1), float64(1), int64(2), object(1)\n",
      "memory usage: 39.8+ KB\n"
     ]
    }
   ],
   "source": [
    "orders_clean.info()"
   ]
  },
  {
   "cell_type": "markdown",
   "metadata": {},
   "source": [
    "The final orders table:\n",
    "- is 1016 rows and 5 columns, all values of the appropriate type,\n",
    "- doesn't have missing values, duplicales, zero-values,\n",
    "- doesn't have orders from users which are present in both groups."
   ]
  },
  {
   "cell_type": "markdown",
   "metadata": {},
   "source": [
    "**The visits table:**"
   ]
  },
  {
   "cell_type": "code",
   "execution_count": 21,
   "metadata": {},
   "outputs": [
    {
     "data": {
      "text/html": [
       "<div>\n",
       "<style scoped>\n",
       "    .dataframe tbody tr th:only-of-type {\n",
       "        vertical-align: middle;\n",
       "    }\n",
       "\n",
       "    .dataframe tbody tr th {\n",
       "        vertical-align: top;\n",
       "    }\n",
       "\n",
       "    .dataframe thead th {\n",
       "        text-align: right;\n",
       "    }\n",
       "</style>\n",
       "<table border=\"1\" class=\"dataframe\">\n",
       "  <thead>\n",
       "    <tr style=\"text-align: right;\">\n",
       "      <th></th>\n",
       "      <th>date</th>\n",
       "      <th>group</th>\n",
       "      <th>visits</th>\n",
       "    </tr>\n",
       "  </thead>\n",
       "  <tbody>\n",
       "    <tr>\n",
       "      <th>0</th>\n",
       "      <td>2019-08-01</td>\n",
       "      <td>A</td>\n",
       "      <td>719</td>\n",
       "    </tr>\n",
       "    <tr>\n",
       "      <th>1</th>\n",
       "      <td>2019-08-02</td>\n",
       "      <td>A</td>\n",
       "      <td>619</td>\n",
       "    </tr>\n",
       "    <tr>\n",
       "      <th>2</th>\n",
       "      <td>2019-08-03</td>\n",
       "      <td>A</td>\n",
       "      <td>507</td>\n",
       "    </tr>\n",
       "    <tr>\n",
       "      <th>3</th>\n",
       "      <td>2019-08-04</td>\n",
       "      <td>A</td>\n",
       "      <td>717</td>\n",
       "    </tr>\n",
       "    <tr>\n",
       "      <th>4</th>\n",
       "      <td>2019-08-05</td>\n",
       "      <td>A</td>\n",
       "      <td>756</td>\n",
       "    </tr>\n",
       "  </tbody>\n",
       "</table>\n",
       "</div>"
      ],
      "text/plain": [
       "         date group  visits\n",
       "0  2019-08-01     A     719\n",
       "1  2019-08-02     A     619\n",
       "2  2019-08-03     A     507\n",
       "3  2019-08-04     A     717\n",
       "4  2019-08-05     A     756"
      ]
     },
     "execution_count": 21,
     "metadata": {},
     "output_type": "execute_result"
    }
   ],
   "source": [
    "try:\n",
    "    visits=pd.read_csv('/datasets/visits_us.csv')\n",
    "except:\n",
    "    visits=pd.read_csv('C:\\\\Users\\\\eduda\\\\Downloads\\\\making ab\\\\visits_us.csv')\n",
    "visits.head()"
   ]
  },
  {
   "cell_type": "code",
   "execution_count": 22,
   "metadata": {},
   "outputs": [
    {
     "name": "stdout",
     "output_type": "stream",
     "text": [
      "<class 'pandas.core.frame.DataFrame'>\n",
      "RangeIndex: 62 entries, 0 to 61\n",
      "Data columns (total 3 columns):\n",
      " #   Column  Non-Null Count  Dtype \n",
      "---  ------  --------------  ----- \n",
      " 0   date    62 non-null     object\n",
      " 1   group   62 non-null     object\n",
      " 2   visits  62 non-null     int64 \n",
      "dtypes: int64(1), object(2)\n",
      "memory usage: 1.6+ KB\n"
     ]
    }
   ],
   "source": [
    "visits.info()"
   ]
  },
  {
   "cell_type": "markdown",
   "metadata": {},
   "source": [
    "Let's change data type in 'data' column to datetime and continue checking the table."
   ]
  },
  {
   "cell_type": "code",
   "execution_count": 23,
   "metadata": {},
   "outputs": [
    {
     "data": {
      "text/plain": [
       "dtype('<M8[ns]')"
      ]
     },
     "execution_count": 23,
     "metadata": {},
     "output_type": "execute_result"
    }
   ],
   "source": [
    "visits['date']= visits['date'].map(lambda x: dt.datetime.strptime(x,'%Y-%m-%d'))\n",
    "visits['date'].dtype"
   ]
  },
  {
   "cell_type": "code",
   "execution_count": 24,
   "metadata": {},
   "outputs": [
    {
     "name": "stdout",
     "output_type": "stream",
     "text": [
      "The amount of missing values in the visits table.\n"
     ]
    },
    {
     "data": {
      "text/html": [
       "<style type=\"text/css\">\n",
       "</style>\n",
       "<table id=\"T_44ea5\">\n",
       "  <thead>\n",
       "    <tr>\n",
       "      <th class=\"blank level0\" >&nbsp;</th>\n",
       "      <th id=\"T_44ea5_level0_col0\" class=\"col_heading level0 col0\" >missing</th>\n",
       "      <th id=\"T_44ea5_level0_col1\" class=\"col_heading level0 col1\" >total</th>\n",
       "      <th id=\"T_44ea5_level0_col2\" class=\"col_heading level0 col2\" >percent</th>\n",
       "    </tr>\n",
       "  </thead>\n",
       "  <tbody>\n",
       "    <tr>\n",
       "      <th id=\"T_44ea5_level0_row0\" class=\"row_heading level0 row0\" >date</th>\n",
       "      <td id=\"T_44ea5_row0_col0\" class=\"data row0 col0\" >0</td>\n",
       "      <td id=\"T_44ea5_row0_col1\" class=\"data row0 col1\" >62</td>\n",
       "      <td id=\"T_44ea5_row0_col2\" class=\"data row0 col2\" >0.00%</td>\n",
       "    </tr>\n",
       "    <tr>\n",
       "      <th id=\"T_44ea5_level0_row1\" class=\"row_heading level0 row1\" >group</th>\n",
       "      <td id=\"T_44ea5_row1_col0\" class=\"data row1 col0\" >0</td>\n",
       "      <td id=\"T_44ea5_row1_col1\" class=\"data row1 col1\" >62</td>\n",
       "      <td id=\"T_44ea5_row1_col2\" class=\"data row1 col2\" >0.00%</td>\n",
       "    </tr>\n",
       "    <tr>\n",
       "      <th id=\"T_44ea5_level0_row2\" class=\"row_heading level0 row2\" >visits</th>\n",
       "      <td id=\"T_44ea5_row2_col0\" class=\"data row2 col0\" >0</td>\n",
       "      <td id=\"T_44ea5_row2_col1\" class=\"data row2 col1\" >62</td>\n",
       "      <td id=\"T_44ea5_row2_col2\" class=\"data row2 col2\" >0.00%</td>\n",
       "    </tr>\n",
       "  </tbody>\n",
       "</table>\n"
      ],
      "text/plain": [
       "<pandas.io.formats.style.Styler at 0x25e2d87df70>"
      ]
     },
     "execution_count": 24,
     "metadata": {},
     "output_type": "execute_result"
    }
   ],
   "source": [
    "print('The amount of missing values in the visits table.')\n",
    "visits.stb.missing(style=True)"
   ]
  },
  {
   "cell_type": "code",
   "execution_count": 25,
   "metadata": {},
   "outputs": [
    {
     "name": "stdout",
     "output_type": "stream",
     "text": [
      "The amount of duplicates in the visits table.\n"
     ]
    },
    {
     "data": {
      "text/plain": [
       "0"
      ]
     },
     "execution_count": 25,
     "metadata": {},
     "output_type": "execute_result"
    }
   ],
   "source": [
    "print('The amount of duplicates in the visits table.')\n",
    "visits.duplicated().sum()"
   ]
  },
  {
   "cell_type": "code",
   "execution_count": 26,
   "metadata": {},
   "outputs": [
    {
     "name": "stdout",
     "output_type": "stream",
     "text": [
      "The distribution of the visits table.\n"
     ]
    },
    {
     "data": {
      "text/html": [
       "<div>\n",
       "<style scoped>\n",
       "    .dataframe tbody tr th:only-of-type {\n",
       "        vertical-align: middle;\n",
       "    }\n",
       "\n",
       "    .dataframe tbody tr th {\n",
       "        vertical-align: top;\n",
       "    }\n",
       "\n",
       "    .dataframe thead th {\n",
       "        text-align: right;\n",
       "    }\n",
       "</style>\n",
       "<table border=\"1\" class=\"dataframe\">\n",
       "  <thead>\n",
       "    <tr style=\"text-align: right;\">\n",
       "      <th></th>\n",
       "      <th>visits</th>\n",
       "    </tr>\n",
       "  </thead>\n",
       "  <tbody>\n",
       "    <tr>\n",
       "      <th>count</th>\n",
       "      <td>62.000000</td>\n",
       "    </tr>\n",
       "    <tr>\n",
       "      <th>mean</th>\n",
       "      <td>607.290323</td>\n",
       "    </tr>\n",
       "    <tr>\n",
       "      <th>std</th>\n",
       "      <td>114.400560</td>\n",
       "    </tr>\n",
       "    <tr>\n",
       "      <th>min</th>\n",
       "      <td>361.000000</td>\n",
       "    </tr>\n",
       "    <tr>\n",
       "      <th>25%</th>\n",
       "      <td>534.000000</td>\n",
       "    </tr>\n",
       "    <tr>\n",
       "      <th>50%</th>\n",
       "      <td>624.500000</td>\n",
       "    </tr>\n",
       "    <tr>\n",
       "      <th>75%</th>\n",
       "      <td>710.500000</td>\n",
       "    </tr>\n",
       "    <tr>\n",
       "      <th>max</th>\n",
       "      <td>770.000000</td>\n",
       "    </tr>\n",
       "  </tbody>\n",
       "</table>\n",
       "</div>"
      ],
      "text/plain": [
       "           visits\n",
       "count   62.000000\n",
       "mean   607.290323\n",
       "std    114.400560\n",
       "min    361.000000\n",
       "25%    534.000000\n",
       "50%    624.500000\n",
       "75%    710.500000\n",
       "max    770.000000"
      ]
     },
     "execution_count": 26,
     "metadata": {},
     "output_type": "execute_result"
    }
   ],
   "source": [
    "print('The distribution of the visits table.')\n",
    "visits.describe()"
   ]
  },
  {
   "cell_type": "markdown",
   "metadata": {},
   "source": [
    "The final visits table:\n",
    "- is 62 rows and 3 columns, all values of the appropriate type,\n",
    "- doesn't have missing values, duplicales, zero-values."
   ]
  },
  {
   "cell_type": "markdown",
   "metadata": {},
   "source": [
    "## Prioritizing Hypotheses"
   ]
  },
  {
   "cell_type": "code",
   "execution_count": 27,
   "metadata": {},
   "outputs": [
    {
     "data": {
      "text/html": [
       "<div>\n",
       "<style scoped>\n",
       "    .dataframe tbody tr th:only-of-type {\n",
       "        vertical-align: middle;\n",
       "    }\n",
       "\n",
       "    .dataframe tbody tr th {\n",
       "        vertical-align: top;\n",
       "    }\n",
       "\n",
       "    .dataframe thead th {\n",
       "        text-align: right;\n",
       "    }\n",
       "</style>\n",
       "<table border=\"1\" class=\"dataframe\">\n",
       "  <thead>\n",
       "    <tr style=\"text-align: right;\">\n",
       "      <th></th>\n",
       "      <th>Hypothesis</th>\n",
       "      <th>Reach</th>\n",
       "      <th>Impact</th>\n",
       "      <th>Confidence</th>\n",
       "      <th>Effort</th>\n",
       "    </tr>\n",
       "  </thead>\n",
       "  <tbody>\n",
       "    <tr>\n",
       "      <th>0</th>\n",
       "      <td>Add two new channels for attracting traffic. This will bring 30% more users</td>\n",
       "      <td>3</td>\n",
       "      <td>10</td>\n",
       "      <td>8</td>\n",
       "      <td>6</td>\n",
       "    </tr>\n",
       "    <tr>\n",
       "      <th>1</th>\n",
       "      <td>Launch your own delivery service. This will shorten delivery time</td>\n",
       "      <td>2</td>\n",
       "      <td>5</td>\n",
       "      <td>4</td>\n",
       "      <td>10</td>\n",
       "    </tr>\n",
       "    <tr>\n",
       "      <th>2</th>\n",
       "      <td>Add product recommendation blocks to the store's site. This will increase conversion and average purchase size</td>\n",
       "      <td>8</td>\n",
       "      <td>3</td>\n",
       "      <td>7</td>\n",
       "      <td>3</td>\n",
       "    </tr>\n",
       "    <tr>\n",
       "      <th>3</th>\n",
       "      <td>Change the category structure. This will increase conversion since users will find the products they want more quickly</td>\n",
       "      <td>8</td>\n",
       "      <td>3</td>\n",
       "      <td>3</td>\n",
       "      <td>8</td>\n",
       "    </tr>\n",
       "    <tr>\n",
       "      <th>4</th>\n",
       "      <td>Change the background color on the main page. This will increase user engagement</td>\n",
       "      <td>3</td>\n",
       "      <td>1</td>\n",
       "      <td>1</td>\n",
       "      <td>1</td>\n",
       "    </tr>\n",
       "    <tr>\n",
       "      <th>5</th>\n",
       "      <td>Add a customer review page. This will increase the number of orders</td>\n",
       "      <td>3</td>\n",
       "      <td>2</td>\n",
       "      <td>2</td>\n",
       "      <td>3</td>\n",
       "    </tr>\n",
       "    <tr>\n",
       "      <th>6</th>\n",
       "      <td>Show banners with current offers and sales on the main page. This will boost conversion</td>\n",
       "      <td>5</td>\n",
       "      <td>3</td>\n",
       "      <td>8</td>\n",
       "      <td>3</td>\n",
       "    </tr>\n",
       "    <tr>\n",
       "      <th>7</th>\n",
       "      <td>Add a subscription form to all the main pages. This will help you compile a mailing list</td>\n",
       "      <td>10</td>\n",
       "      <td>7</td>\n",
       "      <td>8</td>\n",
       "      <td>5</td>\n",
       "    </tr>\n",
       "    <tr>\n",
       "      <th>8</th>\n",
       "      <td>Launch a promotion that gives users discounts on their birthdays</td>\n",
       "      <td>1</td>\n",
       "      <td>9</td>\n",
       "      <td>9</td>\n",
       "      <td>5</td>\n",
       "    </tr>\n",
       "  </tbody>\n",
       "</table>\n",
       "</div>"
      ],
      "text/plain": [
       "                                                                                                               Hypothesis  \\\n",
       "0                                             Add two new channels for attracting traffic. This will bring 30% more users   \n",
       "1                                                       Launch your own delivery service. This will shorten delivery time   \n",
       "2          Add product recommendation blocks to the store's site. This will increase conversion and average purchase size   \n",
       "3  Change the category structure. This will increase conversion since users will find the products they want more quickly   \n",
       "4                                        Change the background color on the main page. This will increase user engagement   \n",
       "5                                                     Add a customer review page. This will increase the number of orders   \n",
       "6                                 Show banners with current offers and sales on the main page. This will boost conversion   \n",
       "7                                Add a subscription form to all the main pages. This will help you compile a mailing list   \n",
       "8                                                        Launch a promotion that gives users discounts on their birthdays   \n",
       "\n",
       "   Reach  Impact  Confidence  Effort  \n",
       "0      3      10           8       6  \n",
       "1      2       5           4      10  \n",
       "2      8       3           7       3  \n",
       "3      8       3           3       8  \n",
       "4      3       1           1       1  \n",
       "5      3       2           2       3  \n",
       "6      5       3           8       3  \n",
       "7     10       7           8       5  \n",
       "8      1       9           9       5  "
      ]
     },
     "execution_count": 27,
     "metadata": {},
     "output_type": "execute_result"
    }
   ],
   "source": [
    "pd.options.display.max_colwidth = 150\n",
    "hypotheses"
   ]
  },
  {
   "cell_type": "markdown",
   "metadata": {},
   "source": [
    "Let's apply the ICE framework to prioritize hypotheses."
   ]
  },
  {
   "cell_type": "code",
   "execution_count": 28,
   "metadata": {},
   "outputs": [
    {
     "data": {
      "text/html": [
       "<div>\n",
       "<style scoped>\n",
       "    .dataframe tbody tr th:only-of-type {\n",
       "        vertical-align: middle;\n",
       "    }\n",
       "\n",
       "    .dataframe tbody tr th {\n",
       "        vertical-align: top;\n",
       "    }\n",
       "\n",
       "    .dataframe thead th {\n",
       "        text-align: right;\n",
       "    }\n",
       "</style>\n",
       "<table border=\"1\" class=\"dataframe\">\n",
       "  <thead>\n",
       "    <tr style=\"text-align: right;\">\n",
       "      <th></th>\n",
       "      <th>Hypothesis</th>\n",
       "      <th>ICE</th>\n",
       "    </tr>\n",
       "  </thead>\n",
       "  <tbody>\n",
       "    <tr>\n",
       "      <th>0</th>\n",
       "      <td>Launch a promotion that gives users discounts on their birthdays</td>\n",
       "      <td>16.200000</td>\n",
       "    </tr>\n",
       "    <tr>\n",
       "      <th>1</th>\n",
       "      <td>Add two new channels for attracting traffic. This will bring 30% more users</td>\n",
       "      <td>13.333333</td>\n",
       "    </tr>\n",
       "    <tr>\n",
       "      <th>2</th>\n",
       "      <td>Add a subscription form to all the main pages. This will help you compile a mailing list</td>\n",
       "      <td>11.200000</td>\n",
       "    </tr>\n",
       "    <tr>\n",
       "      <th>3</th>\n",
       "      <td>Show banners with current offers and sales on the main page. This will boost conversion</td>\n",
       "      <td>8.000000</td>\n",
       "    </tr>\n",
       "    <tr>\n",
       "      <th>4</th>\n",
       "      <td>Add product recommendation blocks to the store's site. This will increase conversion and average purchase size</td>\n",
       "      <td>7.000000</td>\n",
       "    </tr>\n",
       "    <tr>\n",
       "      <th>5</th>\n",
       "      <td>Launch your own delivery service. This will shorten delivery time</td>\n",
       "      <td>2.000000</td>\n",
       "    </tr>\n",
       "    <tr>\n",
       "      <th>6</th>\n",
       "      <td>Add a customer review page. This will increase the number of orders</td>\n",
       "      <td>1.333333</td>\n",
       "    </tr>\n",
       "    <tr>\n",
       "      <th>7</th>\n",
       "      <td>Change the category structure. This will increase conversion since users will find the products they want more quickly</td>\n",
       "      <td>1.125000</td>\n",
       "    </tr>\n",
       "    <tr>\n",
       "      <th>8</th>\n",
       "      <td>Change the background color on the main page. This will increase user engagement</td>\n",
       "      <td>1.000000</td>\n",
       "    </tr>\n",
       "  </tbody>\n",
       "</table>\n",
       "</div>"
      ],
      "text/plain": [
       "                                                                                                               Hypothesis  \\\n",
       "0                                                        Launch a promotion that gives users discounts on their birthdays   \n",
       "1                                             Add two new channels for attracting traffic. This will bring 30% more users   \n",
       "2                                Add a subscription form to all the main pages. This will help you compile a mailing list   \n",
       "3                                 Show banners with current offers and sales on the main page. This will boost conversion   \n",
       "4          Add product recommendation blocks to the store's site. This will increase conversion and average purchase size   \n",
       "5                                                       Launch your own delivery service. This will shorten delivery time   \n",
       "6                                                     Add a customer review page. This will increase the number of orders   \n",
       "7  Change the category structure. This will increase conversion since users will find the products they want more quickly   \n",
       "8                                        Change the background color on the main page. This will increase user engagement   \n",
       "\n",
       "         ICE  \n",
       "0  16.200000  \n",
       "1  13.333333  \n",
       "2  11.200000  \n",
       "3   8.000000  \n",
       "4   7.000000  \n",
       "5   2.000000  \n",
       "6   1.333333  \n",
       "7   1.125000  \n",
       "8   1.000000  "
      ]
     },
     "execution_count": 28,
     "metadata": {},
     "output_type": "execute_result"
    }
   ],
   "source": [
    "pd.options.display.max_colwidth = 150\n",
    "hypotheses['ICE']=(hypotheses['Impact']*hypotheses['Confidence'])/hypotheses['Effort']\n",
    "ICE=hypotheses[['Hypothesis','ICE']].sort_values(by='ICE', ascending=False).reset_index(drop=True)\n",
    "ICE"
   ]
  },
  {
   "cell_type": "code",
   "execution_count": 29,
   "metadata": {},
   "outputs": [
    {
     "name": "stdout",
     "output_type": "stream",
     "text": [
      "ICE gives us the most promising hypotheses:\n",
      "-Launch a promotion that gives users discounts on their birthdays\n",
      "-Add two new channels for attracting traffic. This will bring 30% more users\n",
      "-Add a subscription form to all the main pages. This will help you compile a mailing list.\n"
     ]
    }
   ],
   "source": [
    "print('ICE gives us the most promising hypotheses:\\n-{}\\n-{}\\n-{}.'.format(*ICE.iloc[:3]['Hypothesis'].values))"
   ]
  },
  {
   "cell_type": "markdown",
   "metadata": {},
   "source": [
    "Let's check the RICE framework to prioritize hypotheses."
   ]
  },
  {
   "cell_type": "code",
   "execution_count": 30,
   "metadata": {},
   "outputs": [
    {
     "data": {
      "text/html": [
       "<div>\n",
       "<style scoped>\n",
       "    .dataframe tbody tr th:only-of-type {\n",
       "        vertical-align: middle;\n",
       "    }\n",
       "\n",
       "    .dataframe tbody tr th {\n",
       "        vertical-align: top;\n",
       "    }\n",
       "\n",
       "    .dataframe thead th {\n",
       "        text-align: right;\n",
       "    }\n",
       "</style>\n",
       "<table border=\"1\" class=\"dataframe\">\n",
       "  <thead>\n",
       "    <tr style=\"text-align: right;\">\n",
       "      <th></th>\n",
       "      <th>Hypothesis</th>\n",
       "      <th>RICE</th>\n",
       "    </tr>\n",
       "  </thead>\n",
       "  <tbody>\n",
       "    <tr>\n",
       "      <th>0</th>\n",
       "      <td>Add a subscription form to all the main pages. This will help you compile a mailing list</td>\n",
       "      <td>112.0</td>\n",
       "    </tr>\n",
       "    <tr>\n",
       "      <th>1</th>\n",
       "      <td>Add product recommendation blocks to the store's site. This will increase conversion and average purchase size</td>\n",
       "      <td>56.0</td>\n",
       "    </tr>\n",
       "    <tr>\n",
       "      <th>2</th>\n",
       "      <td>Add two new channels for attracting traffic. This will bring 30% more users</td>\n",
       "      <td>40.0</td>\n",
       "    </tr>\n",
       "    <tr>\n",
       "      <th>3</th>\n",
       "      <td>Show banners with current offers and sales on the main page. This will boost conversion</td>\n",
       "      <td>40.0</td>\n",
       "    </tr>\n",
       "    <tr>\n",
       "      <th>4</th>\n",
       "      <td>Launch a promotion that gives users discounts on their birthdays</td>\n",
       "      <td>16.2</td>\n",
       "    </tr>\n",
       "    <tr>\n",
       "      <th>5</th>\n",
       "      <td>Change the category structure. This will increase conversion since users will find the products they want more quickly</td>\n",
       "      <td>9.0</td>\n",
       "    </tr>\n",
       "    <tr>\n",
       "      <th>6</th>\n",
       "      <td>Launch your own delivery service. This will shorten delivery time</td>\n",
       "      <td>4.0</td>\n",
       "    </tr>\n",
       "    <tr>\n",
       "      <th>7</th>\n",
       "      <td>Add a customer review page. This will increase the number of orders</td>\n",
       "      <td>4.0</td>\n",
       "    </tr>\n",
       "    <tr>\n",
       "      <th>8</th>\n",
       "      <td>Change the background color on the main page. This will increase user engagement</td>\n",
       "      <td>3.0</td>\n",
       "    </tr>\n",
       "  </tbody>\n",
       "</table>\n",
       "</div>"
      ],
      "text/plain": [
       "                                                                                                               Hypothesis  \\\n",
       "0                                Add a subscription form to all the main pages. This will help you compile a mailing list   \n",
       "1          Add product recommendation blocks to the store's site. This will increase conversion and average purchase size   \n",
       "2                                             Add two new channels for attracting traffic. This will bring 30% more users   \n",
       "3                                 Show banners with current offers and sales on the main page. This will boost conversion   \n",
       "4                                                        Launch a promotion that gives users discounts on their birthdays   \n",
       "5  Change the category structure. This will increase conversion since users will find the products they want more quickly   \n",
       "6                                                       Launch your own delivery service. This will shorten delivery time   \n",
       "7                                                     Add a customer review page. This will increase the number of orders   \n",
       "8                                        Change the background color on the main page. This will increase user engagement   \n",
       "\n",
       "    RICE  \n",
       "0  112.0  \n",
       "1   56.0  \n",
       "2   40.0  \n",
       "3   40.0  \n",
       "4   16.2  \n",
       "5    9.0  \n",
       "6    4.0  \n",
       "7    4.0  \n",
       "8    3.0  "
      ]
     },
     "execution_count": 30,
     "metadata": {},
     "output_type": "execute_result"
    }
   ],
   "source": [
    "pd.options.display.max_colwidth = 150\n",
    "hypotheses['RICE']=(hypotheses['Reach']*hypotheses['Impact']*hypotheses['Confidence'])/hypotheses['Effort']\n",
    "RICE=hypotheses[['Hypothesis','RICE']].sort_values(by='RICE', ascending=False).reset_index(drop=True)\n",
    "RICE"
   ]
  },
  {
   "cell_type": "code",
   "execution_count": 31,
   "metadata": {},
   "outputs": [
    {
     "name": "stdout",
     "output_type": "stream",
     "text": [
      "RICE gives us the most promising hypotheses:\n",
      "-Add a subscription form to all the main pages. This will help you compile a mailing list\n",
      "-Add product recommendation blocks to the store's site. This will increase conversion and average purchase size\n",
      "-Add two new channels for attracting traffic. This will bring 30% more users.\n"
     ]
    }
   ],
   "source": [
    "print('RICE gives us the most promising hypotheses:\\n-{}\\n-{}\\n-{}.'.format(*RICE.iloc[:3]['Hypothesis'].values))"
   ]
  },
  {
   "cell_type": "markdown",
   "metadata": {},
   "source": [
    "**Conclusion**:\n",
    "- the list of priority hypotheses for ICE and RICE methods includes two identical hypotheses, but in different positions:\n",
    "    - 'Add a subscription form to all the main pages.' - the first place by RICE and the third place for ICE,\n",
    "    - 'Add two new channels for attracting traffic.' - the third place by RICE and the second place for ICE.\n",
    "- 'Launch a promotion that gives users discounts on their birthdays.' - the first place by ICE\n",
    "- 'Add product recommendation blocks to the store's site.' - the second place for RICE\n",
    "\n",
    "Those differences can be explained by influence the reach parameter. Therefore, *'Add a subscription form to all the main pages.'* is the most interesting hypothesis for the test - it has the largest audience coverage, it does not require much effort and at the same time has a fairly strong influence on users and has a high confidence paremeter."
   ]
  },
  {
   "cell_type": "markdown",
   "metadata": {},
   "source": [
    "## A/B Test Analysis"
   ]
  },
  {
   "cell_type": "markdown",
   "metadata": {},
   "source": [
    "For test let's divide orders and visits tables by groups and merge them. The orders table we have to group by date before merging."
   ]
  },
  {
   "cell_type": "code",
   "execution_count": 32,
   "metadata": {},
   "outputs": [
    {
     "data": {
      "text/plain": [
       "31"
      ]
     },
     "execution_count": 32,
     "metadata": {},
     "output_type": "execute_result"
    }
   ],
   "source": [
    "orders_A=orders_clean[orders_clean['group'] == \"A\"].groupby('date',as_index=False).agg({'revenue':'sum', 'transactionId':'count'})\n",
    "orders_A.columns=['date','revenue','orders']\n",
    "orders_A.shape[0]"
   ]
  },
  {
   "cell_type": "code",
   "execution_count": 33,
   "metadata": {},
   "outputs": [
    {
     "data": {
      "text/plain": [
       "31"
      ]
     },
     "execution_count": 33,
     "metadata": {},
     "output_type": "execute_result"
    }
   ],
   "source": [
    "orders_B=orders_clean[orders_clean['group'] == \"B\"].groupby('date',as_index=False).agg({'revenue':'sum','transactionId':'count'})\n",
    "orders_B.columns=['date','revenue','orders']\n",
    "orders_B.shape[0]"
   ]
  },
  {
   "cell_type": "code",
   "execution_count": 34,
   "metadata": {},
   "outputs": [
    {
     "data": {
      "text/plain": [
       "31"
      ]
     },
     "execution_count": 34,
     "metadata": {},
     "output_type": "execute_result"
    }
   ],
   "source": [
    "visits_A=visits.query('group == \"A\"').reset_index(drop=True)\n",
    "len(visits_A)"
   ]
  },
  {
   "cell_type": "code",
   "execution_count": 35,
   "metadata": {},
   "outputs": [
    {
     "data": {
      "text/plain": [
       "31"
      ]
     },
     "execution_count": 35,
     "metadata": {},
     "output_type": "execute_result"
    }
   ],
   "source": [
    "visits_B=visits.query('group == \"B\"').reset_index(drop=True)\n",
    "len(visits_B)"
   ]
  },
  {
   "cell_type": "code",
   "execution_count": 36,
   "metadata": {},
   "outputs": [
    {
     "data": {
      "text/html": [
       "<div>\n",
       "<style scoped>\n",
       "    .dataframe tbody tr th:only-of-type {\n",
       "        vertical-align: middle;\n",
       "    }\n",
       "\n",
       "    .dataframe tbody tr th {\n",
       "        vertical-align: top;\n",
       "    }\n",
       "\n",
       "    .dataframe thead th {\n",
       "        text-align: right;\n",
       "    }\n",
       "</style>\n",
       "<table border=\"1\" class=\"dataframe\">\n",
       "  <thead>\n",
       "    <tr style=\"text-align: right;\">\n",
       "      <th></th>\n",
       "      <th>date</th>\n",
       "      <th>revenue</th>\n",
       "      <th>orders</th>\n",
       "      <th>visits</th>\n",
       "    </tr>\n",
       "  </thead>\n",
       "  <tbody>\n",
       "    <tr>\n",
       "      <th>0</th>\n",
       "      <td>2019-08-01</td>\n",
       "      <td>2266.6</td>\n",
       "      <td>23</td>\n",
       "      <td>719</td>\n",
       "    </tr>\n",
       "    <tr>\n",
       "      <th>1</th>\n",
       "      <td>2019-08-02</td>\n",
       "      <td>1468.3</td>\n",
       "      <td>19</td>\n",
       "      <td>619</td>\n",
       "    </tr>\n",
       "    <tr>\n",
       "      <th>2</th>\n",
       "      <td>2019-08-03</td>\n",
       "      <td>1815.2</td>\n",
       "      <td>24</td>\n",
       "      <td>507</td>\n",
       "    </tr>\n",
       "    <tr>\n",
       "      <th>3</th>\n",
       "      <td>2019-08-04</td>\n",
       "      <td>675.5</td>\n",
       "      <td>11</td>\n",
       "      <td>717</td>\n",
       "    </tr>\n",
       "    <tr>\n",
       "      <th>4</th>\n",
       "      <td>2019-08-05</td>\n",
       "      <td>1398.0</td>\n",
       "      <td>22</td>\n",
       "      <td>756</td>\n",
       "    </tr>\n",
       "  </tbody>\n",
       "</table>\n",
       "</div>"
      ],
      "text/plain": [
       "        date  revenue  orders  visits\n",
       "0 2019-08-01   2266.6      23     719\n",
       "1 2019-08-02   1468.3      19     619\n",
       "2 2019-08-03   1815.2      24     507\n",
       "3 2019-08-04    675.5      11     717\n",
       "4 2019-08-05   1398.0      22     756"
      ]
     },
     "execution_count": 36,
     "metadata": {},
     "output_type": "execute_result"
    }
   ],
   "source": [
    "groupA= pd.merge(orders_A,visits_A[['date','visits']],on='date', how='left')\n",
    "groupA.head()"
   ]
  },
  {
   "cell_type": "code",
   "execution_count": 37,
   "metadata": {},
   "outputs": [
    {
     "data": {
      "text/html": [
       "<div>\n",
       "<style scoped>\n",
       "    .dataframe tbody tr th:only-of-type {\n",
       "        vertical-align: middle;\n",
       "    }\n",
       "\n",
       "    .dataframe tbody tr th {\n",
       "        vertical-align: top;\n",
       "    }\n",
       "\n",
       "    .dataframe thead th {\n",
       "        text-align: right;\n",
       "    }\n",
       "</style>\n",
       "<table border=\"1\" class=\"dataframe\">\n",
       "  <thead>\n",
       "    <tr style=\"text-align: right;\">\n",
       "      <th></th>\n",
       "      <th>date</th>\n",
       "      <th>revenue</th>\n",
       "      <th>orders</th>\n",
       "      <th>visits</th>\n",
       "    </tr>\n",
       "  </thead>\n",
       "  <tbody>\n",
       "    <tr>\n",
       "      <th>0</th>\n",
       "      <td>2019-08-01</td>\n",
       "      <td>967.2</td>\n",
       "      <td>17</td>\n",
       "      <td>713</td>\n",
       "    </tr>\n",
       "    <tr>\n",
       "      <th>1</th>\n",
       "      <td>2019-08-02</td>\n",
       "      <td>2568.1</td>\n",
       "      <td>23</td>\n",
       "      <td>581</td>\n",
       "    </tr>\n",
       "    <tr>\n",
       "      <th>2</th>\n",
       "      <td>2019-08-03</td>\n",
       "      <td>1071.6</td>\n",
       "      <td>14</td>\n",
       "      <td>509</td>\n",
       "    </tr>\n",
       "    <tr>\n",
       "      <th>3</th>\n",
       "      <td>2019-08-04</td>\n",
       "      <td>1531.6</td>\n",
       "      <td>14</td>\n",
       "      <td>770</td>\n",
       "    </tr>\n",
       "    <tr>\n",
       "      <th>4</th>\n",
       "      <td>2019-08-05</td>\n",
       "      <td>1449.3</td>\n",
       "      <td>21</td>\n",
       "      <td>707</td>\n",
       "    </tr>\n",
       "  </tbody>\n",
       "</table>\n",
       "</div>"
      ],
      "text/plain": [
       "        date  revenue  orders  visits\n",
       "0 2019-08-01    967.2      17     713\n",
       "1 2019-08-02   2568.1      23     581\n",
       "2 2019-08-03   1071.6      14     509\n",
       "3 2019-08-04   1531.6      14     770\n",
       "4 2019-08-05   1449.3      21     707"
      ]
     },
     "execution_count": 37,
     "metadata": {},
     "output_type": "execute_result"
    }
   ],
   "source": [
    "groupB= pd.merge(orders_B,visits_B[['date','visits']],on='date', how='left')\n",
    "groupB.head()"
   ]
  },
  {
   "cell_type": "markdown",
   "metadata": {},
   "source": [
    "### Graph cumulative revenue by group. "
   ]
  },
  {
   "cell_type": "code",
   "execution_count": 38,
   "metadata": {},
   "outputs": [
    {
     "data": {
      "text/html": [
       "<div>\n",
       "<style scoped>\n",
       "    .dataframe tbody tr th:only-of-type {\n",
       "        vertical-align: middle;\n",
       "    }\n",
       "\n",
       "    .dataframe tbody tr th {\n",
       "        vertical-align: top;\n",
       "    }\n",
       "\n",
       "    .dataframe thead th {\n",
       "        text-align: right;\n",
       "    }\n",
       "</style>\n",
       "<table border=\"1\" class=\"dataframe\">\n",
       "  <thead>\n",
       "    <tr style=\"text-align: right;\">\n",
       "      <th></th>\n",
       "      <th>date</th>\n",
       "      <th>revenue</th>\n",
       "      <th>orders</th>\n",
       "      <th>visits</th>\n",
       "      <th>cumul_rev</th>\n",
       "    </tr>\n",
       "  </thead>\n",
       "  <tbody>\n",
       "    <tr>\n",
       "      <th>0</th>\n",
       "      <td>2019-08-01</td>\n",
       "      <td>2266.6</td>\n",
       "      <td>23</td>\n",
       "      <td>719</td>\n",
       "      <td>2266.6</td>\n",
       "    </tr>\n",
       "    <tr>\n",
       "      <th>1</th>\n",
       "      <td>2019-08-02</td>\n",
       "      <td>1468.3</td>\n",
       "      <td>19</td>\n",
       "      <td>619</td>\n",
       "      <td>3734.9</td>\n",
       "    </tr>\n",
       "    <tr>\n",
       "      <th>2</th>\n",
       "      <td>2019-08-03</td>\n",
       "      <td>1815.2</td>\n",
       "      <td>24</td>\n",
       "      <td>507</td>\n",
       "      <td>5550.1</td>\n",
       "    </tr>\n",
       "    <tr>\n",
       "      <th>3</th>\n",
       "      <td>2019-08-04</td>\n",
       "      <td>675.5</td>\n",
       "      <td>11</td>\n",
       "      <td>717</td>\n",
       "      <td>6225.6</td>\n",
       "    </tr>\n",
       "    <tr>\n",
       "      <th>4</th>\n",
       "      <td>2019-08-05</td>\n",
       "      <td>1398.0</td>\n",
       "      <td>22</td>\n",
       "      <td>756</td>\n",
       "      <td>7623.6</td>\n",
       "    </tr>\n",
       "  </tbody>\n",
       "</table>\n",
       "</div>"
      ],
      "text/plain": [
       "        date  revenue  orders  visits  cumul_rev\n",
       "0 2019-08-01   2266.6      23     719     2266.6\n",
       "1 2019-08-02   1468.3      19     619     3734.9\n",
       "2 2019-08-03   1815.2      24     507     5550.1\n",
       "3 2019-08-04    675.5      11     717     6225.6\n",
       "4 2019-08-05   1398.0      22     756     7623.6"
      ]
     },
     "execution_count": 38,
     "metadata": {},
     "output_type": "execute_result"
    }
   ],
   "source": [
    "groupA['cumul_rev']=groupA['revenue'].cumsum()\n",
    "groupA.head()"
   ]
  },
  {
   "cell_type": "code",
   "execution_count": 39,
   "metadata": {},
   "outputs": [
    {
     "data": {
      "text/html": [
       "<div>\n",
       "<style scoped>\n",
       "    .dataframe tbody tr th:only-of-type {\n",
       "        vertical-align: middle;\n",
       "    }\n",
       "\n",
       "    .dataframe tbody tr th {\n",
       "        vertical-align: top;\n",
       "    }\n",
       "\n",
       "    .dataframe thead th {\n",
       "        text-align: right;\n",
       "    }\n",
       "</style>\n",
       "<table border=\"1\" class=\"dataframe\">\n",
       "  <thead>\n",
       "    <tr style=\"text-align: right;\">\n",
       "      <th></th>\n",
       "      <th>date</th>\n",
       "      <th>revenue</th>\n",
       "      <th>orders</th>\n",
       "      <th>visits</th>\n",
       "      <th>cumul_rev</th>\n",
       "    </tr>\n",
       "  </thead>\n",
       "  <tbody>\n",
       "    <tr>\n",
       "      <th>0</th>\n",
       "      <td>2019-08-01</td>\n",
       "      <td>967.2</td>\n",
       "      <td>17</td>\n",
       "      <td>713</td>\n",
       "      <td>967.2</td>\n",
       "    </tr>\n",
       "    <tr>\n",
       "      <th>1</th>\n",
       "      <td>2019-08-02</td>\n",
       "      <td>2568.1</td>\n",
       "      <td>23</td>\n",
       "      <td>581</td>\n",
       "      <td>3535.3</td>\n",
       "    </tr>\n",
       "    <tr>\n",
       "      <th>2</th>\n",
       "      <td>2019-08-03</td>\n",
       "      <td>1071.6</td>\n",
       "      <td>14</td>\n",
       "      <td>509</td>\n",
       "      <td>4606.9</td>\n",
       "    </tr>\n",
       "    <tr>\n",
       "      <th>3</th>\n",
       "      <td>2019-08-04</td>\n",
       "      <td>1531.6</td>\n",
       "      <td>14</td>\n",
       "      <td>770</td>\n",
       "      <td>6138.5</td>\n",
       "    </tr>\n",
       "    <tr>\n",
       "      <th>4</th>\n",
       "      <td>2019-08-05</td>\n",
       "      <td>1449.3</td>\n",
       "      <td>21</td>\n",
       "      <td>707</td>\n",
       "      <td>7587.8</td>\n",
       "    </tr>\n",
       "  </tbody>\n",
       "</table>\n",
       "</div>"
      ],
      "text/plain": [
       "        date  revenue  orders  visits  cumul_rev\n",
       "0 2019-08-01    967.2      17     713      967.2\n",
       "1 2019-08-02   2568.1      23     581     3535.3\n",
       "2 2019-08-03   1071.6      14     509     4606.9\n",
       "3 2019-08-04   1531.6      14     770     6138.5\n",
       "4 2019-08-05   1449.3      21     707     7587.8"
      ]
     },
     "execution_count": 39,
     "metadata": {},
     "output_type": "execute_result"
    }
   ],
   "source": [
    "groupB['cumul_rev']=groupB['revenue'].cumsum()\n",
    "groupB.head()"
   ]
  },
  {
   "cell_type": "code",
   "execution_count": 40,
   "metadata": {},
   "outputs": [
    {
     "data": {
      "image/png": "[encoded data removed]",
      "text/plain": [
       "<Figure size 1080x432 with 1 Axes>"
      ]
     },
     "metadata": {
      "needs_background": "light"
     },
     "output_type": "display_data"
    }
   ],
   "source": [
    "plt.rcParams[\"figure.figsize\"] = (15,6)\n",
    "plt.plot(groupA['date'], groupA['cumul_rev'], label='A')\n",
    "plt.plot(groupB['date'], groupB['cumul_rev'], label='B')\n",
    "plt.title('Cumulative revenue by group')\n",
    "plt.grid()\n",
    "plt.legend()\n",
    "plt.show()"
   ]
  },
  {
   "cell_type": "markdown",
   "metadata": {},
   "source": [
    "- cumulative revenue for the B group grows until August 18, when we can observe a jump (probably because of outliers) and stabilized after.\n",
    "- cumulative revenue for the A group grows until August 13 and then seems stabilized.\n",
    "- after stabilization group's cumulative revenue goes in parallel.\n",
    "- we can mention the opposite direction for groups between August 5 and 13.\n",
    "- we can see several days when cumulative revenue has the same value for both groups - about August 5 and 13. Maybe it's a coincidence, or something has affected user behavior, or a data loading error."
   ]
  },
  {
   "cell_type": "markdown",
   "metadata": {},
   "source": [
    "### Graph cumulative average order size by group."
   ]
  },
  {
   "cell_type": "code",
   "execution_count": 41,
   "metadata": {},
   "outputs": [
    {
     "data": {
      "text/html": [
       "<div>\n",
       "<style scoped>\n",
       "    .dataframe tbody tr th:only-of-type {\n",
       "        vertical-align: middle;\n",
       "    }\n",
       "\n",
       "    .dataframe tbody tr th {\n",
       "        vertical-align: top;\n",
       "    }\n",
       "\n",
       "    .dataframe thead th {\n",
       "        text-align: right;\n",
       "    }\n",
       "</style>\n",
       "<table border=\"1\" class=\"dataframe\">\n",
       "  <thead>\n",
       "    <tr style=\"text-align: right;\">\n",
       "      <th></th>\n",
       "      <th>date</th>\n",
       "      <th>revenue</th>\n",
       "      <th>orders</th>\n",
       "      <th>visits</th>\n",
       "      <th>cumul_rev</th>\n",
       "      <th>cumul_purch</th>\n",
       "      <th>cumul_avch</th>\n",
       "    </tr>\n",
       "  </thead>\n",
       "  <tbody>\n",
       "    <tr>\n",
       "      <th>0</th>\n",
       "      <td>2019-08-01</td>\n",
       "      <td>2266.6</td>\n",
       "      <td>23</td>\n",
       "      <td>719</td>\n",
       "      <td>2266.6</td>\n",
       "      <td>23</td>\n",
       "      <td>98.547826</td>\n",
       "    </tr>\n",
       "    <tr>\n",
       "      <th>1</th>\n",
       "      <td>2019-08-02</td>\n",
       "      <td>1468.3</td>\n",
       "      <td>19</td>\n",
       "      <td>619</td>\n",
       "      <td>3734.9</td>\n",
       "      <td>42</td>\n",
       "      <td>88.926190</td>\n",
       "    </tr>\n",
       "    <tr>\n",
       "      <th>2</th>\n",
       "      <td>2019-08-03</td>\n",
       "      <td>1815.2</td>\n",
       "      <td>24</td>\n",
       "      <td>507</td>\n",
       "      <td>5550.1</td>\n",
       "      <td>66</td>\n",
       "      <td>84.092424</td>\n",
       "    </tr>\n",
       "    <tr>\n",
       "      <th>3</th>\n",
       "      <td>2019-08-04</td>\n",
       "      <td>675.5</td>\n",
       "      <td>11</td>\n",
       "      <td>717</td>\n",
       "      <td>6225.6</td>\n",
       "      <td>77</td>\n",
       "      <td>80.851948</td>\n",
       "    </tr>\n",
       "    <tr>\n",
       "      <th>4</th>\n",
       "      <td>2019-08-05</td>\n",
       "      <td>1398.0</td>\n",
       "      <td>22</td>\n",
       "      <td>756</td>\n",
       "      <td>7623.6</td>\n",
       "      <td>99</td>\n",
       "      <td>77.006061</td>\n",
       "    </tr>\n",
       "  </tbody>\n",
       "</table>\n",
       "</div>"
      ],
      "text/plain": [
       "        date  revenue  orders  visits  cumul_rev  cumul_purch  cumul_avch\n",
       "0 2019-08-01   2266.6      23     719     2266.6           23   98.547826\n",
       "1 2019-08-02   1468.3      19     619     3734.9           42   88.926190\n",
       "2 2019-08-03   1815.2      24     507     5550.1           66   84.092424\n",
       "3 2019-08-04    675.5      11     717     6225.6           77   80.851948\n",
       "4 2019-08-05   1398.0      22     756     7623.6           99   77.006061"
      ]
     },
     "execution_count": 41,
     "metadata": {},
     "output_type": "execute_result"
    }
   ],
   "source": [
    "groupA['cumul_purch']=groupA['orders'].cumsum()\n",
    "groupA['cumul_avch']=groupA['cumul_rev']/groupA['cumul_purch']\n",
    "groupA.head()"
   ]
  },
  {
   "cell_type": "code",
   "execution_count": 42,
   "metadata": {},
   "outputs": [
    {
     "data": {
      "text/html": [
       "<div>\n",
       "<style scoped>\n",
       "    .dataframe tbody tr th:only-of-type {\n",
       "        vertical-align: middle;\n",
       "    }\n",
       "\n",
       "    .dataframe tbody tr th {\n",
       "        vertical-align: top;\n",
       "    }\n",
       "\n",
       "    .dataframe thead th {\n",
       "        text-align: right;\n",
       "    }\n",
       "</style>\n",
       "<table border=\"1\" class=\"dataframe\">\n",
       "  <thead>\n",
       "    <tr style=\"text-align: right;\">\n",
       "      <th></th>\n",
       "      <th>date</th>\n",
       "      <th>revenue</th>\n",
       "      <th>orders</th>\n",
       "      <th>visits</th>\n",
       "      <th>cumul_rev</th>\n",
       "      <th>cumul_purch</th>\n",
       "      <th>cumul_avch</th>\n",
       "    </tr>\n",
       "  </thead>\n",
       "  <tbody>\n",
       "    <tr>\n",
       "      <th>0</th>\n",
       "      <td>2019-08-01</td>\n",
       "      <td>967.2</td>\n",
       "      <td>17</td>\n",
       "      <td>713</td>\n",
       "      <td>967.2</td>\n",
       "      <td>17</td>\n",
       "      <td>56.894118</td>\n",
       "    </tr>\n",
       "    <tr>\n",
       "      <th>1</th>\n",
       "      <td>2019-08-02</td>\n",
       "      <td>2568.1</td>\n",
       "      <td>23</td>\n",
       "      <td>581</td>\n",
       "      <td>3535.3</td>\n",
       "      <td>40</td>\n",
       "      <td>88.382500</td>\n",
       "    </tr>\n",
       "    <tr>\n",
       "      <th>2</th>\n",
       "      <td>2019-08-03</td>\n",
       "      <td>1071.6</td>\n",
       "      <td>14</td>\n",
       "      <td>509</td>\n",
       "      <td>4606.9</td>\n",
       "      <td>54</td>\n",
       "      <td>85.312963</td>\n",
       "    </tr>\n",
       "    <tr>\n",
       "      <th>3</th>\n",
       "      <td>2019-08-04</td>\n",
       "      <td>1531.6</td>\n",
       "      <td>14</td>\n",
       "      <td>770</td>\n",
       "      <td>6138.5</td>\n",
       "      <td>68</td>\n",
       "      <td>90.272059</td>\n",
       "    </tr>\n",
       "    <tr>\n",
       "      <th>4</th>\n",
       "      <td>2019-08-05</td>\n",
       "      <td>1449.3</td>\n",
       "      <td>21</td>\n",
       "      <td>707</td>\n",
       "      <td>7587.8</td>\n",
       "      <td>89</td>\n",
       "      <td>85.256180</td>\n",
       "    </tr>\n",
       "  </tbody>\n",
       "</table>\n",
       "</div>"
      ],
      "text/plain": [
       "        date  revenue  orders  visits  cumul_rev  cumul_purch  cumul_avch\n",
       "0 2019-08-01    967.2      17     713      967.2           17   56.894118\n",
       "1 2019-08-02   2568.1      23     581     3535.3           40   88.382500\n",
       "2 2019-08-03   1071.6      14     509     4606.9           54   85.312963\n",
       "3 2019-08-04   1531.6      14     770     6138.5           68   90.272059\n",
       "4 2019-08-05   1449.3      21     707     7587.8           89   85.256180"
      ]
     },
     "execution_count": 42,
     "metadata": {},
     "output_type": "execute_result"
    }
   ],
   "source": [
    "groupB['cumul_purch']=groupB['orders'].cumsum()\n",
    "groupB['cumul_avch']=groupB['cumul_rev']/groupB['cumul_purch']\n",
    "groupB.head()"
   ]
  },
  {
   "cell_type": "code",
   "execution_count": 43,
   "metadata": {},
   "outputs": [
    {
     "data": {
      "image/png": "[encoded data removed]",
      "text/plain": [
       "<Figure size 1080x432 with 1 Axes>"
      ]
     },
     "metadata": {
      "needs_background": "light"
     },
     "output_type": "display_data"
    }
   ],
   "source": [
    "plt.plot(groupA['date'], groupA['cumul_avch'], label='A')\n",
    "plt.plot(groupB['date'], groupB['cumul_avch'], label='B')\n",
    "plt.title('Cumulative average order size by group')\n",
    "plt.grid()\n",
    "plt.legend()\n",
    "plt.show()"
   ]
  },
  {
   "cell_type": "markdown",
   "metadata": {},
   "source": [
    "Let's plot also graph just for revenue."
   ]
  },
  {
   "cell_type": "code",
   "execution_count": 44,
   "metadata": {},
   "outputs": [
    {
     "data": {
      "image/png": "[encoded data removed]",
      "text/plain": [
       "<Figure size 1080x432 with 1 Axes>"
      ]
     },
     "metadata": {
      "needs_background": "light"
     },
     "output_type": "display_data"
    }
   ],
   "source": [
    "plt.plot(groupA['date'], groupA['revenue'], label='A')\n",
    "plt.plot(groupB['date'], groupB['revenue'], label='B')\n",
    "plt.title('Revenue by group')\n",
    "plt.grid()\n",
    "plt.legend()\n",
    "plt.show()"
   ]
  },
  {
   "cell_type": "markdown",
   "metadata": {},
   "source": [
    "- for cumulative average order we can see the same opposite rise and fall in the beginning of August. \n",
    "- after that value for the group A  continues to grow until August 13, after that peak - a smooth decline and stabilization.\n",
    "- for group B we we can observe the same jump at August 18, a fall and kinda stabilization after.\n",
    "- we can see fluctuations of overall revenue and opposite directions of  of the chart at the beginning of the test - for example, on August 2 and 6 which shows the impact of changes on user behavior.\n",
    "- the peak at August 18 for group B on revenue graph confirms the presence of outliers on this day."
   ]
  },
  {
   "cell_type": "markdown",
   "metadata": {},
   "source": [
    "### Graph the relative difference in cumulative average order size for group B compared with group A."
   ]
  },
  {
   "cell_type": "code",
   "execution_count": 45,
   "metadata": {},
   "outputs": [
    {
     "data": {
      "image/png": "[encoded data removed]",
      "text/plain": [
       "<Figure size 1080x432 with 1 Axes>"
      ]
     },
     "metadata": {
      "needs_background": "light"
     },
     "output_type": "display_data"
    }
   ],
   "source": [
    "# gathering the data into one DataFrame\n",
    "merged_data = groupA.merge(groupB, left_on='date', right_on='date', how='left', suffixes=['A', 'B'])\n",
    "\n",
    "# plotting a relative difference graph for the average order sizes\n",
    "plt.plot(merged_data['date'], (merged_data['cumul_avchB']/merged_data['cumul_avchA'])-1)\n",
    "\n",
    "# adding the X axis\n",
    "plt.axhline(y=0, color='black', linestyle='--')\n",
    "plt.title('The relative difference in cumulative average order size for group B compared with group A')\n",
    "plt.grid()\n",
    "plt.show()"
   ]
  },
  {
   "cell_type": "markdown",
   "metadata": {},
   "source": [
    "- the relative difference in cumulative average order size for group B compared with group A demonstrates fluctuations.\n",
    "- we can observe a rise until August 7, then a fall until August 13, another rise August 18, fall and stabilization."
   ]
  },
  {
   "cell_type": "markdown",
   "metadata": {},
   "source": [
    "### Calculate each group's  cumulative conversion rate as the ratio of orders to the number of visits for each day."
   ]
  },
  {
   "cell_type": "code",
   "execution_count": 46,
   "metadata": {},
   "outputs": [
    {
     "data": {
      "text/html": [
       "<div>\n",
       "<style scoped>\n",
       "    .dataframe tbody tr th:only-of-type {\n",
       "        vertical-align: middle;\n",
       "    }\n",
       "\n",
       "    .dataframe tbody tr th {\n",
       "        vertical-align: top;\n",
       "    }\n",
       "\n",
       "    .dataframe thead th {\n",
       "        text-align: right;\n",
       "    }\n",
       "</style>\n",
       "<table border=\"1\" class=\"dataframe\">\n",
       "  <thead>\n",
       "    <tr style=\"text-align: right;\">\n",
       "      <th></th>\n",
       "      <th>date</th>\n",
       "      <th>revenue</th>\n",
       "      <th>orders</th>\n",
       "      <th>visits</th>\n",
       "      <th>cumul_rev</th>\n",
       "      <th>cumul_purch</th>\n",
       "      <th>cumul_avch</th>\n",
       "      <th>conversion</th>\n",
       "      <th>cum_conv</th>\n",
       "    </tr>\n",
       "  </thead>\n",
       "  <tbody>\n",
       "    <tr>\n",
       "      <th>0</th>\n",
       "      <td>2019-08-01</td>\n",
       "      <td>2266.6</td>\n",
       "      <td>23</td>\n",
       "      <td>719</td>\n",
       "      <td>2266.6</td>\n",
       "      <td>23</td>\n",
       "      <td>98.547826</td>\n",
       "      <td>0.031989</td>\n",
       "      <td>0.031989</td>\n",
       "    </tr>\n",
       "    <tr>\n",
       "      <th>1</th>\n",
       "      <td>2019-08-02</td>\n",
       "      <td>1468.3</td>\n",
       "      <td>19</td>\n",
       "      <td>619</td>\n",
       "      <td>3734.9</td>\n",
       "      <td>42</td>\n",
       "      <td>88.926190</td>\n",
       "      <td>0.030695</td>\n",
       "      <td>0.031390</td>\n",
       "    </tr>\n",
       "    <tr>\n",
       "      <th>2</th>\n",
       "      <td>2019-08-03</td>\n",
       "      <td>1815.2</td>\n",
       "      <td>24</td>\n",
       "      <td>507</td>\n",
       "      <td>5550.1</td>\n",
       "      <td>66</td>\n",
       "      <td>84.092424</td>\n",
       "      <td>0.047337</td>\n",
       "      <td>0.035772</td>\n",
       "    </tr>\n",
       "    <tr>\n",
       "      <th>3</th>\n",
       "      <td>2019-08-04</td>\n",
       "      <td>675.5</td>\n",
       "      <td>11</td>\n",
       "      <td>717</td>\n",
       "      <td>6225.6</td>\n",
       "      <td>77</td>\n",
       "      <td>80.851948</td>\n",
       "      <td>0.015342</td>\n",
       "      <td>0.030055</td>\n",
       "    </tr>\n",
       "    <tr>\n",
       "      <th>4</th>\n",
       "      <td>2019-08-05</td>\n",
       "      <td>1398.0</td>\n",
       "      <td>22</td>\n",
       "      <td>756</td>\n",
       "      <td>7623.6</td>\n",
       "      <td>99</td>\n",
       "      <td>77.006061</td>\n",
       "      <td>0.029101</td>\n",
       "      <td>0.029837</td>\n",
       "    </tr>\n",
       "  </tbody>\n",
       "</table>\n",
       "</div>"
      ],
      "text/plain": [
       "        date  revenue  orders  visits  cumul_rev  cumul_purch  cumul_avch  \\\n",
       "0 2019-08-01   2266.6      23     719     2266.6           23   98.547826   \n",
       "1 2019-08-02   1468.3      19     619     3734.9           42   88.926190   \n",
       "2 2019-08-03   1815.2      24     507     5550.1           66   84.092424   \n",
       "3 2019-08-04    675.5      11     717     6225.6           77   80.851948   \n",
       "4 2019-08-05   1398.0      22     756     7623.6           99   77.006061   \n",
       "\n",
       "   conversion  cum_conv  \n",
       "0    0.031989  0.031989  \n",
       "1    0.030695  0.031390  \n",
       "2    0.047337  0.035772  \n",
       "3    0.015342  0.030055  \n",
       "4    0.029101  0.029837  "
      ]
     },
     "execution_count": 46,
     "metadata": {},
     "output_type": "execute_result"
    }
   ],
   "source": [
    "groupA['conversion']=groupA['orders']/groupA['visits']\n",
    "groupA['cum_conv']=groupA['orders'].cumsum()/groupA['visits'].cumsum()\n",
    "groupA.head()"
   ]
  },
  {
   "cell_type": "code",
   "execution_count": 47,
   "metadata": {},
   "outputs": [
    {
     "data": {
      "text/html": [
       "<div>\n",
       "<style scoped>\n",
       "    .dataframe tbody tr th:only-of-type {\n",
       "        vertical-align: middle;\n",
       "    }\n",
       "\n",
       "    .dataframe tbody tr th {\n",
       "        vertical-align: top;\n",
       "    }\n",
       "\n",
       "    .dataframe thead th {\n",
       "        text-align: right;\n",
       "    }\n",
       "</style>\n",
       "<table border=\"1\" class=\"dataframe\">\n",
       "  <thead>\n",
       "    <tr style=\"text-align: right;\">\n",
       "      <th></th>\n",
       "      <th>date</th>\n",
       "      <th>revenue</th>\n",
       "      <th>orders</th>\n",
       "      <th>visits</th>\n",
       "      <th>cumul_rev</th>\n",
       "      <th>cumul_purch</th>\n",
       "      <th>cumul_avch</th>\n",
       "      <th>conversion</th>\n",
       "      <th>cum_conv</th>\n",
       "    </tr>\n",
       "  </thead>\n",
       "  <tbody>\n",
       "    <tr>\n",
       "      <th>0</th>\n",
       "      <td>2019-08-01</td>\n",
       "      <td>967.2</td>\n",
       "      <td>17</td>\n",
       "      <td>713</td>\n",
       "      <td>967.2</td>\n",
       "      <td>17</td>\n",
       "      <td>56.894118</td>\n",
       "      <td>0.023843</td>\n",
       "      <td>0.023843</td>\n",
       "    </tr>\n",
       "    <tr>\n",
       "      <th>1</th>\n",
       "      <td>2019-08-02</td>\n",
       "      <td>2568.1</td>\n",
       "      <td>23</td>\n",
       "      <td>581</td>\n",
       "      <td>3535.3</td>\n",
       "      <td>40</td>\n",
       "      <td>88.382500</td>\n",
       "      <td>0.039587</td>\n",
       "      <td>0.030912</td>\n",
       "    </tr>\n",
       "    <tr>\n",
       "      <th>2</th>\n",
       "      <td>2019-08-03</td>\n",
       "      <td>1071.6</td>\n",
       "      <td>14</td>\n",
       "      <td>509</td>\n",
       "      <td>4606.9</td>\n",
       "      <td>54</td>\n",
       "      <td>85.312963</td>\n",
       "      <td>0.027505</td>\n",
       "      <td>0.029950</td>\n",
       "    </tr>\n",
       "    <tr>\n",
       "      <th>3</th>\n",
       "      <td>2019-08-04</td>\n",
       "      <td>1531.6</td>\n",
       "      <td>14</td>\n",
       "      <td>770</td>\n",
       "      <td>6138.5</td>\n",
       "      <td>68</td>\n",
       "      <td>90.272059</td>\n",
       "      <td>0.018182</td>\n",
       "      <td>0.026428</td>\n",
       "    </tr>\n",
       "    <tr>\n",
       "      <th>4</th>\n",
       "      <td>2019-08-05</td>\n",
       "      <td>1449.3</td>\n",
       "      <td>21</td>\n",
       "      <td>707</td>\n",
       "      <td>7587.8</td>\n",
       "      <td>89</td>\n",
       "      <td>85.256180</td>\n",
       "      <td>0.029703</td>\n",
       "      <td>0.027134</td>\n",
       "    </tr>\n",
       "  </tbody>\n",
       "</table>\n",
       "</div>"
      ],
      "text/plain": [
       "        date  revenue  orders  visits  cumul_rev  cumul_purch  cumul_avch  \\\n",
       "0 2019-08-01    967.2      17     713      967.2           17   56.894118   \n",
       "1 2019-08-02   2568.1      23     581     3535.3           40   88.382500   \n",
       "2 2019-08-03   1071.6      14     509     4606.9           54   85.312963   \n",
       "3 2019-08-04   1531.6      14     770     6138.5           68   90.272059   \n",
       "4 2019-08-05   1449.3      21     707     7587.8           89   85.256180   \n",
       "\n",
       "   conversion  cum_conv  \n",
       "0    0.023843  0.023843  \n",
       "1    0.039587  0.030912  \n",
       "2    0.027505  0.029950  \n",
       "3    0.018182  0.026428  \n",
       "4    0.029703  0.027134  "
      ]
     },
     "execution_count": 47,
     "metadata": {},
     "output_type": "execute_result"
    }
   ],
   "source": [
    "groupB['conversion']=groupB['orders']/groupB['visits']\n",
    "groupB['cum_conv']=groupB['orders'].cumsum()/groupB['visits'].cumsum()\n",
    "groupB.head()"
   ]
  },
  {
   "cell_type": "code",
   "execution_count": 48,
   "metadata": {},
   "outputs": [
    {
     "data": {
      "image/png": "[encoded data removed]",
      "text/plain": [
       "<Figure size 1080x432 with 1 Axes>"
      ]
     },
     "metadata": {
      "needs_background": "light"
     },
     "output_type": "display_data"
    }
   ],
   "source": [
    "plt.plot(groupA['date'], groupA['cum_conv'], label='A')\n",
    "plt.plot(groupA['date'], groupB['cum_conv'], label='B')\n",
    "plt.title('Cumulative conversion rate as the ratio of orders to the number of visits for each day by group')\n",
    "plt.grid()\n",
    "plt.legend()\n",
    "plt.show()"
   ]
  },
  {
   "cell_type": "code",
   "execution_count": 49,
   "metadata": {},
   "outputs": [
    {
     "data": {
      "text/plain": [
       "0.02497865072587532"
      ]
     },
     "execution_count": 49,
     "metadata": {},
     "output_type": "execute_result"
    }
   ],
   "source": [
    "#overall conversion control:\n",
    "groupA['orders'].sum()/groupA['visits'].sum()"
   ]
  },
  {
   "cell_type": "code",
   "execution_count": 50,
   "metadata": {},
   "outputs": [
    {
     "data": {
      "text/plain": [
       "0.02897018397124128"
      ]
     },
     "execution_count": 50,
     "metadata": {},
     "output_type": "execute_result"
    }
   ],
   "source": [
    "#overall conversion control:\n",
    "groupB['orders'].sum()/groupB['visits'].sum()"
   ]
  },
  {
   "cell_type": "markdown",
   "metadata": {},
   "source": [
    "- the group B has a little higher conversion rate."
   ]
  },
  {
   "cell_type": "markdown",
   "metadata": {},
   "source": [
    "### Plot a scatter chart of the number of orders per user. "
   ]
  },
  {
   "cell_type": "code",
   "execution_count": 51,
   "metadata": {},
   "outputs": [
    {
     "data": {
      "text/html": [
       "<div>\n",
       "<style scoped>\n",
       "    .dataframe tbody tr th:only-of-type {\n",
       "        vertical-align: middle;\n",
       "    }\n",
       "\n",
       "    .dataframe tbody tr th {\n",
       "        vertical-align: top;\n",
       "    }\n",
       "\n",
       "    .dataframe thead th {\n",
       "        text-align: right;\n",
       "    }\n",
       "</style>\n",
       "<table border=\"1\" class=\"dataframe\">\n",
       "  <thead>\n",
       "    <tr style=\"text-align: right;\">\n",
       "      <th></th>\n",
       "      <th>transactionId</th>\n",
       "      <th>visitorId</th>\n",
       "      <th>date</th>\n",
       "      <th>revenue</th>\n",
       "      <th>group</th>\n",
       "    </tr>\n",
       "  </thead>\n",
       "  <tbody>\n",
       "    <tr>\n",
       "      <th>0</th>\n",
       "      <td>3667963787</td>\n",
       "      <td>3312258926</td>\n",
       "      <td>2019-08-15</td>\n",
       "      <td>30.4</td>\n",
       "      <td>B</td>\n",
       "    </tr>\n",
       "    <tr>\n",
       "      <th>1</th>\n",
       "      <td>2804400009</td>\n",
       "      <td>3642806036</td>\n",
       "      <td>2019-08-15</td>\n",
       "      <td>15.2</td>\n",
       "      <td>B</td>\n",
       "    </tr>\n",
       "    <tr>\n",
       "      <th>2</th>\n",
       "      <td>3797467345</td>\n",
       "      <td>1196621759</td>\n",
       "      <td>2019-08-15</td>\n",
       "      <td>155.1</td>\n",
       "      <td>B</td>\n",
       "    </tr>\n",
       "    <tr>\n",
       "      <th>3</th>\n",
       "      <td>2282983706</td>\n",
       "      <td>2322279887</td>\n",
       "      <td>2019-08-15</td>\n",
       "      <td>40.5</td>\n",
       "      <td>B</td>\n",
       "    </tr>\n",
       "    <tr>\n",
       "      <th>4</th>\n",
       "      <td>182168103</td>\n",
       "      <td>935554773</td>\n",
       "      <td>2019-08-15</td>\n",
       "      <td>35.0</td>\n",
       "      <td>B</td>\n",
       "    </tr>\n",
       "  </tbody>\n",
       "</table>\n",
       "</div>"
      ],
      "text/plain": [
       "   transactionId   visitorId       date  revenue group\n",
       "0     3667963787  3312258926 2019-08-15     30.4     B\n",
       "1     2804400009  3642806036 2019-08-15     15.2     B\n",
       "2     3797467345  1196621759 2019-08-15    155.1     B\n",
       "3     2282983706  2322279887 2019-08-15     40.5     B\n",
       "4      182168103   935554773 2019-08-15     35.0     B"
      ]
     },
     "execution_count": 51,
     "metadata": {},
     "output_type": "execute_result"
    }
   ],
   "source": [
    "orders_clean.head()"
   ]
  },
  {
   "cell_type": "code",
   "execution_count": 52,
   "metadata": {},
   "outputs": [
    {
     "name": "stdout",
     "output_type": "stream",
     "text": [
      "      visitorId  orders\n",
      "908  3967698036       3\n",
      "55    249864742       3\n",
      "478  2108163459       3\n",
      "687  2988190573       3\n",
      "890  3908431265       3\n"
     ]
    }
   ],
   "source": [
    "ordersByUsers = (\n",
    "    orders_clean.drop(['group', 'revenue', 'date'], axis=1)\n",
    "    .groupby('visitorId', as_index=False)\n",
    "    .agg({'transactionId': pd.Series.nunique})\n",
    ")\n",
    "ordersByUsers.columns = ['visitorId', 'orders']\n",
    "print(ordersByUsers.sort_values(by='orders', ascending=False).head())"
   ]
  },
  {
   "cell_type": "code",
   "execution_count": 53,
   "metadata": {},
   "outputs": [
    {
     "data": {
      "image/png": "[encoded data removed]",
      "text/plain": [
       "<Figure size 1080x432 with 1 Axes>"
      ]
     },
     "metadata": {
      "needs_background": "light"
     },
     "output_type": "display_data"
    }
   ],
   "source": [
    "x_values = pd.Series(range(0,len(ordersByUsers)))\n",
    "plt.scatter(x_values, ordersByUsers['orders'], alpha=0.5) \n",
    "plt.title('The number of orders per user')\n",
    "plt.grid()\n",
    "plt.show()"
   ]
  },
  {
   "cell_type": "markdown",
   "metadata": {},
   "source": [
    "- the majority of customers placed only one order. \n",
    "- however, a significant share placed two orders."
   ]
  },
  {
   "cell_type": "markdown",
   "metadata": {},
   "source": [
    "### Calculate the 95th and 99th percentiles for the number of orders per user."
   ]
  },
  {
   "cell_type": "code",
   "execution_count": 54,
   "metadata": {},
   "outputs": [
    {
     "name": "stdout",
     "output_type": "stream",
     "text": [
      "[1. 2.]\n"
     ]
    }
   ],
   "source": [
    "print(np.percentile(ordersByUsers['orders'], [95, 99])) "
   ]
  },
  {
   "cell_type": "markdown",
   "metadata": {},
   "source": [
    "- 5% of users made more than one order and only 1% made more than two.\n",
    "- thus, it would be reasonable to set two orders per user as the lower limit for the number of orders and to filter anomalies on that basis."
   ]
  },
  {
   "cell_type": "markdown",
   "metadata": {},
   "source": [
    "### Plot a scatter chart of order prices."
   ]
  },
  {
   "cell_type": "code",
   "execution_count": 55,
   "metadata": {},
   "outputs": [
    {
     "name": "stdout",
     "output_type": "stream",
     "text": [
      "      visitorId    price\n",
      "440  1920142716  19920.4\n",
      "477  2108080724   3120.1\n",
      "300  1307669133   1425.8\n",
      "202   888512513   1335.6\n",
      "938  4133034833   1050.0\n"
     ]
    }
   ],
   "source": [
    "order_price = (\n",
    "    orders_clean.drop(['group', 'date', 'transactionId'], axis=1)\n",
    "    .groupby('visitorId', as_index=False)\n",
    "    .agg({'revenue': 'mean'})\n",
    ")\n",
    "order_price.columns = ['visitorId', 'price']\n",
    "print(order_price.sort_values(by='price', ascending=False).head())"
   ]
  },
  {
   "cell_type": "code",
   "execution_count": 56,
   "metadata": {
    "scrolled": false
   },
   "outputs": [
    {
     "data": {
      "image/png": "[encoded data removed]",
      "text/plain": [
       "<Figure size 1080x432 with 1 Axes>"
      ]
     },
     "metadata": {
      "needs_background": "light"
     },
     "output_type": "display_data"
    }
   ],
   "source": [
    "x_values = pd.Series(range(0,len(order_price)))\n",
    "plt.scatter(x_values, order_price['price'], alpha=0.5) \n",
    "plt.title('Order price')\n",
    "plt.grid()\n",
    "plt.show()"
   ]
  },
  {
   "cell_type": "markdown",
   "metadata": {},
   "source": [
    "- almost all order prices are up to 2500."
   ]
  },
  {
   "cell_type": "markdown",
   "metadata": {},
   "source": [
    "### Calculate the 95th and 99th percentiles of order prices."
   ]
  },
  {
   "cell_type": "code",
   "execution_count": 57,
   "metadata": {},
   "outputs": [
    {
     "name": "stdout",
     "output_type": "stream",
     "text": [
      "[429.74 830.3 ]\n"
     ]
    }
   ],
   "source": [
    "print(np.percentile(order_price['price'], [95, 99])) "
   ]
  },
  {
   "cell_type": "markdown",
   "metadata": {},
   "source": [
    "- 5% of users made an order worth more than 430 dollars and only 1% of orders have cost more than 831.\n",
    "- thus, it would be reasonable to set order price in 831 dollar as the lower limit for the number of orders and to filter anomalies on that basis."
   ]
  },
  {
   "cell_type": "markdown",
   "metadata": {},
   "source": [
    "### Filter data."
   ]
  },
  {
   "cell_type": "markdown",
   "metadata": {},
   "source": [
    "Let's filter data ased on conclusions in 3.6 and 3.8 steps and calculate all parametrs for future comparison."
   ]
  },
  {
   "cell_type": "code",
   "execution_count": 58,
   "metadata": {},
   "outputs": [
    {
     "data": {
      "text/plain": [
       "7"
      ]
     },
     "execution_count": 58,
     "metadata": {},
     "output_type": "execute_result"
    }
   ],
   "source": [
    "abnormal_orders=ordersByUsers.query('orders>2').reset_index(drop=True)\n",
    "abnormal_orders.shape[0]"
   ]
  },
  {
   "cell_type": "code",
   "execution_count": 59,
   "metadata": {},
   "outputs": [
    {
     "data": {
      "text/plain": [
       "12"
      ]
     },
     "execution_count": 59,
     "metadata": {},
     "output_type": "execute_result"
    }
   ],
   "source": [
    "abnormal_price=order_price.query('price>830').reset_index(drop=True)\n",
    "abnormal_price.shape[0]"
   ]
  },
  {
   "cell_type": "code",
   "execution_count": 60,
   "metadata": {},
   "outputs": [
    {
     "data": {
      "text/plain": [
       "19"
      ]
     },
     "execution_count": 60,
     "metadata": {},
     "output_type": "execute_result"
    }
   ],
   "source": [
    "abnormal_users=pd.merge(abnormal_price,abnormal_orders,on='visitorId', how='outer')\n",
    "abnormal_users.shape[0]"
   ]
  },
  {
   "cell_type": "code",
   "execution_count": 61,
   "metadata": {},
   "outputs": [
    {
     "data": {
      "text/html": [
       "<div>\n",
       "<style scoped>\n",
       "    .dataframe tbody tr th:only-of-type {\n",
       "        vertical-align: middle;\n",
       "    }\n",
       "\n",
       "    .dataframe tbody tr th {\n",
       "        vertical-align: top;\n",
       "    }\n",
       "\n",
       "    .dataframe thead th {\n",
       "        text-align: right;\n",
       "    }\n",
       "</style>\n",
       "<table border=\"1\" class=\"dataframe\">\n",
       "  <thead>\n",
       "    <tr style=\"text-align: right;\">\n",
       "      <th></th>\n",
       "      <th>transactionId</th>\n",
       "      <th>visitorId</th>\n",
       "      <th>date</th>\n",
       "      <th>revenue</th>\n",
       "      <th>group</th>\n",
       "    </tr>\n",
       "  </thead>\n",
       "  <tbody>\n",
       "    <tr>\n",
       "      <th>0</th>\n",
       "      <td>3667963787</td>\n",
       "      <td>3312258926</td>\n",
       "      <td>2019-08-15</td>\n",
       "      <td>30.4</td>\n",
       "      <td>B</td>\n",
       "    </tr>\n",
       "    <tr>\n",
       "      <th>1</th>\n",
       "      <td>2804400009</td>\n",
       "      <td>3642806036</td>\n",
       "      <td>2019-08-15</td>\n",
       "      <td>15.2</td>\n",
       "      <td>B</td>\n",
       "    </tr>\n",
       "    <tr>\n",
       "      <th>2</th>\n",
       "      <td>2961555356</td>\n",
       "      <td>4069496402</td>\n",
       "      <td>2019-08-15</td>\n",
       "      <td>10.2</td>\n",
       "      <td>A</td>\n",
       "    </tr>\n",
       "    <tr>\n",
       "      <th>3</th>\n",
       "      <td>3797467345</td>\n",
       "      <td>1196621759</td>\n",
       "      <td>2019-08-15</td>\n",
       "      <td>155.1</td>\n",
       "      <td>B</td>\n",
       "    </tr>\n",
       "    <tr>\n",
       "      <th>4</th>\n",
       "      <td>2282983706</td>\n",
       "      <td>2322279887</td>\n",
       "      <td>2019-08-15</td>\n",
       "      <td>40.5</td>\n",
       "      <td>B</td>\n",
       "    </tr>\n",
       "  </tbody>\n",
       "</table>\n",
       "</div>"
      ],
      "text/plain": [
       "   transactionId   visitorId       date  revenue group\n",
       "0     3667963787  3312258926 2019-08-15     30.4     B\n",
       "1     2804400009  3642806036 2019-08-15     15.2     B\n",
       "2     2961555356  4069496402 2019-08-15     10.2     A\n",
       "3     3797467345  1196621759 2019-08-15    155.1     B\n",
       "4     2282983706  2322279887 2019-08-15     40.5     B"
      ]
     },
     "execution_count": 61,
     "metadata": {},
     "output_type": "execute_result"
    }
   ],
   "source": [
    "filtered_orders=orders.loc[~orders['visitorId'].isin(abnormal_users['visitorId'].unique())]\n",
    "filtered_orders.head()"
   ]
  },
  {
   "cell_type": "code",
   "execution_count": 62,
   "metadata": {},
   "outputs": [
    {
     "data": {
      "text/plain": [
       "31"
      ]
     },
     "execution_count": 62,
     "metadata": {},
     "output_type": "execute_result"
    }
   ],
   "source": [
    "filtered_orders_A=filtered_orders[filtered_orders['group'] == \"A\"].groupby('date',as_index=False).agg({'revenue':'sum', 'transactionId':'count'})\n",
    "filtered_orders_A.columns=['date','revenue','orders']\n",
    "filtered_orders_A.shape[0]"
   ]
  },
  {
   "cell_type": "code",
   "execution_count": 63,
   "metadata": {},
   "outputs": [
    {
     "data": {
      "text/plain": [
       "31"
      ]
     },
     "execution_count": 63,
     "metadata": {},
     "output_type": "execute_result"
    }
   ],
   "source": [
    "filtered_orders_B=filtered_orders[filtered_orders['group'] == \"B\"].groupby('date',as_index=False).agg({'revenue':'sum', 'transactionId':'count'})\n",
    "filtered_orders_B.columns=['date','revenue','orders']\n",
    "filtered_orders_B.shape[0]"
   ]
  },
  {
   "cell_type": "code",
   "execution_count": 64,
   "metadata": {},
   "outputs": [
    {
     "data": {
      "text/html": [
       "<div>\n",
       "<style scoped>\n",
       "    .dataframe tbody tr th:only-of-type {\n",
       "        vertical-align: middle;\n",
       "    }\n",
       "\n",
       "    .dataframe tbody tr th {\n",
       "        vertical-align: top;\n",
       "    }\n",
       "\n",
       "    .dataframe thead th {\n",
       "        text-align: right;\n",
       "    }\n",
       "</style>\n",
       "<table border=\"1\" class=\"dataframe\">\n",
       "  <thead>\n",
       "    <tr style=\"text-align: right;\">\n",
       "      <th></th>\n",
       "      <th>date</th>\n",
       "      <th>revenue</th>\n",
       "      <th>orders</th>\n",
       "      <th>visits</th>\n",
       "      <th>cumul_rev</th>\n",
       "      <th>cumul_purch</th>\n",
       "      <th>cumul_avch</th>\n",
       "      <th>conversion</th>\n",
       "    </tr>\n",
       "  </thead>\n",
       "  <tbody>\n",
       "    <tr>\n",
       "      <th>0</th>\n",
       "      <td>2019-08-01</td>\n",
       "      <td>1869.5</td>\n",
       "      <td>19</td>\n",
       "      <td>719</td>\n",
       "      <td>1869.5</td>\n",
       "      <td>19</td>\n",
       "      <td>98.394737</td>\n",
       "      <td>0.026426</td>\n",
       "    </tr>\n",
       "    <tr>\n",
       "      <th>1</th>\n",
       "      <td>2019-08-02</td>\n",
       "      <td>1473.5</td>\n",
       "      <td>19</td>\n",
       "      <td>619</td>\n",
       "      <td>3343.0</td>\n",
       "      <td>38</td>\n",
       "      <td>87.973684</td>\n",
       "      <td>0.030695</td>\n",
       "    </tr>\n",
       "    <tr>\n",
       "      <th>2</th>\n",
       "      <td>2019-08-03</td>\n",
       "      <td>1815.2</td>\n",
       "      <td>24</td>\n",
       "      <td>507</td>\n",
       "      <td>5158.2</td>\n",
       "      <td>62</td>\n",
       "      <td>83.196774</td>\n",
       "      <td>0.047337</td>\n",
       "    </tr>\n",
       "    <tr>\n",
       "      <th>3</th>\n",
       "      <td>2019-08-04</td>\n",
       "      <td>1146.6</td>\n",
       "      <td>16</td>\n",
       "      <td>717</td>\n",
       "      <td>6304.8</td>\n",
       "      <td>78</td>\n",
       "      <td>80.830769</td>\n",
       "      <td>0.022315</td>\n",
       "    </tr>\n",
       "    <tr>\n",
       "      <th>4</th>\n",
       "      <td>2019-08-05</td>\n",
       "      <td>1988.1</td>\n",
       "      <td>25</td>\n",
       "      <td>756</td>\n",
       "      <td>8292.9</td>\n",
       "      <td>103</td>\n",
       "      <td>80.513592</td>\n",
       "      <td>0.033069</td>\n",
       "    </tr>\n",
       "  </tbody>\n",
       "</table>\n",
       "</div>"
      ],
      "text/plain": [
       "        date  revenue  orders  visits  cumul_rev  cumul_purch  cumul_avch  \\\n",
       "0 2019-08-01   1869.5      19     719     1869.5           19   98.394737   \n",
       "1 2019-08-02   1473.5      19     619     3343.0           38   87.973684   \n",
       "2 2019-08-03   1815.2      24     507     5158.2           62   83.196774   \n",
       "3 2019-08-04   1146.6      16     717     6304.8           78   80.830769   \n",
       "4 2019-08-05   1988.1      25     756     8292.9          103   80.513592   \n",
       "\n",
       "   conversion  \n",
       "0    0.026426  \n",
       "1    0.030695  \n",
       "2    0.047337  \n",
       "3    0.022315  \n",
       "4    0.033069  "
      ]
     },
     "execution_count": 64,
     "metadata": {},
     "output_type": "execute_result"
    }
   ],
   "source": [
    "filtered_groupA= pd.merge(filtered_orders_A,visits_A[['date','visits']],on='date', how='left')\n",
    "filtered_groupA['cumul_rev']=filtered_groupA['revenue'].cumsum()\n",
    "filtered_groupA['cumul_purch']=filtered_groupA['orders'].cumsum()\n",
    "filtered_groupA['cumul_avch']=filtered_groupA['cumul_rev']/filtered_groupA['cumul_purch']\n",
    "filtered_groupA['conversion']=filtered_groupA['orders']/filtered_groupA['visits']\n",
    "filtered_groupA.head()"
   ]
  },
  {
   "cell_type": "code",
   "execution_count": 65,
   "metadata": {},
   "outputs": [
    {
     "data": {
      "text/html": [
       "<div>\n",
       "<style scoped>\n",
       "    .dataframe tbody tr th:only-of-type {\n",
       "        vertical-align: middle;\n",
       "    }\n",
       "\n",
       "    .dataframe tbody tr th {\n",
       "        vertical-align: top;\n",
       "    }\n",
       "\n",
       "    .dataframe thead th {\n",
       "        text-align: right;\n",
       "    }\n",
       "</style>\n",
       "<table border=\"1\" class=\"dataframe\">\n",
       "  <thead>\n",
       "    <tr style=\"text-align: right;\">\n",
       "      <th></th>\n",
       "      <th>date</th>\n",
       "      <th>revenue</th>\n",
       "      <th>orders</th>\n",
       "      <th>visits</th>\n",
       "      <th>cumul_rev</th>\n",
       "      <th>cumul_purch</th>\n",
       "      <th>cumul_avch</th>\n",
       "      <th>conversion</th>\n",
       "    </tr>\n",
       "  </thead>\n",
       "  <tbody>\n",
       "    <tr>\n",
       "      <th>0</th>\n",
       "      <td>2019-08-01</td>\n",
       "      <td>1620.0</td>\n",
       "      <td>21</td>\n",
       "      <td>713</td>\n",
       "      <td>1620.0</td>\n",
       "      <td>21</td>\n",
       "      <td>77.142857</td>\n",
       "      <td>0.029453</td>\n",
       "    </tr>\n",
       "    <tr>\n",
       "      <th>1</th>\n",
       "      <td>2019-08-02</td>\n",
       "      <td>2623.8</td>\n",
       "      <td>24</td>\n",
       "      <td>581</td>\n",
       "      <td>4243.8</td>\n",
       "      <td>45</td>\n",
       "      <td>94.306667</td>\n",
       "      <td>0.041308</td>\n",
       "    </tr>\n",
       "    <tr>\n",
       "      <th>2</th>\n",
       "      <td>2019-08-03</td>\n",
       "      <td>1806.8</td>\n",
       "      <td>16</td>\n",
       "      <td>509</td>\n",
       "      <td>6050.6</td>\n",
       "      <td>61</td>\n",
       "      <td>99.190164</td>\n",
       "      <td>0.031434</td>\n",
       "    </tr>\n",
       "    <tr>\n",
       "      <th>3</th>\n",
       "      <td>2019-08-04</td>\n",
       "      <td>1717.3</td>\n",
       "      <td>17</td>\n",
       "      <td>770</td>\n",
       "      <td>7767.9</td>\n",
       "      <td>78</td>\n",
       "      <td>99.588462</td>\n",
       "      <td>0.022078</td>\n",
       "    </tr>\n",
       "    <tr>\n",
       "      <th>4</th>\n",
       "      <td>2019-08-05</td>\n",
       "      <td>1495.0</td>\n",
       "      <td>23</td>\n",
       "      <td>707</td>\n",
       "      <td>9262.9</td>\n",
       "      <td>101</td>\n",
       "      <td>91.711881</td>\n",
       "      <td>0.032532</td>\n",
       "    </tr>\n",
       "  </tbody>\n",
       "</table>\n",
       "</div>"
      ],
      "text/plain": [
       "        date  revenue  orders  visits  cumul_rev  cumul_purch  cumul_avch  \\\n",
       "0 2019-08-01   1620.0      21     713     1620.0           21   77.142857   \n",
       "1 2019-08-02   2623.8      24     581     4243.8           45   94.306667   \n",
       "2 2019-08-03   1806.8      16     509     6050.6           61   99.190164   \n",
       "3 2019-08-04   1717.3      17     770     7767.9           78   99.588462   \n",
       "4 2019-08-05   1495.0      23     707     9262.9          101   91.711881   \n",
       "\n",
       "   conversion  \n",
       "0    0.029453  \n",
       "1    0.041308  \n",
       "2    0.031434  \n",
       "3    0.022078  \n",
       "4    0.032532  "
      ]
     },
     "execution_count": 65,
     "metadata": {},
     "output_type": "execute_result"
    }
   ],
   "source": [
    "filtered_groupB= pd.merge(filtered_orders_B,visits_B[['date','visits']],on='date', how='left')\n",
    "filtered_groupB['cumul_rev']=filtered_groupB['revenue'].cumsum()\n",
    "filtered_groupB['cumul_purch']=filtered_groupB['orders'].cumsum()\n",
    "filtered_groupB['cumul_avch']=filtered_groupB['cumul_rev']/filtered_groupB['cumul_purch']\n",
    "filtered_groupB['conversion']=filtered_groupB['orders']/filtered_groupB['visits']\n",
    "filtered_groupB.head()"
   ]
  },
  {
   "cell_type": "markdown",
   "metadata": {},
   "source": [
    "### Find the statistical significance of the difference in conversion between the groups using the raw data."
   ]
  },
  {
   "cell_type": "markdown",
   "metadata": {},
   "source": [
    "Let's calculate trials and successes for both groups and write a function to find the statistical significance of the difference in conversion between the groups."
   ]
  },
  {
   "cell_type": "code",
   "execution_count": 66,
   "metadata": {},
   "outputs": [
    {
     "name": "stdout",
     "output_type": "stream",
     "text": [
      "Trials: 18736\n",
      "Successes: 468\n"
     ]
    }
   ],
   "source": [
    "groupA_trials=groupA['visits'].sum()\n",
    "print(\"Trials:\",groupA_trials)\n",
    "groupA_successes=groupA['orders'].sum()\n",
    "print(\"Successes:\",groupA_successes)"
   ]
  },
  {
   "cell_type": "code",
   "execution_count": 67,
   "metadata": {},
   "outputs": [
    {
     "name": "stdout",
     "output_type": "stream",
     "text": [
      "Trials: 18916\n",
      "Successes: 548\n"
     ]
    }
   ],
   "source": [
    "groupB_trials=groupB['visits'].sum()\n",
    "print(\"Trials:\",groupB_trials)\n",
    "groupB_successes=groupB['orders'].sum()\n",
    "print(\"Successes:\",groupB_successes)"
   ]
  },
  {
   "cell_type": "code",
   "execution_count": 68,
   "metadata": {},
   "outputs": [],
   "source": [
    "def check_hypothesis(successes1,trials1, successes2,trials2, alpha=0.05):\n",
    "    #proportion for success in the first group\n",
    "    p1 = successes1/trials1\n",
    "\n",
    "   #proportion for success in the second group\n",
    "    p2 = successes2/trials2\n",
    "    p_combined = (successes1 + successes2) / (trials1 + trials2)\n",
    "\n",
    "    difference = p1 - p2\n",
    "    \n",
    "    z_value = difference / math.sqrt(p_combined * (1 - p_combined) * (1/trials1 + 1/trials2))\n",
    "  \n",
    "    distr = stats.norm(0, 1) \n",
    "\n",
    "    p_value = (1 - distr.cdf(abs(z_value))) * 2\n",
    "\n",
    "    print('p-value: ', p_value)\n",
    "    \n",
    "    if (p_value<alpha):\n",
    "        print('Rejecting the null hypothesis: there is the statistical significance of the difference in conversion between the groups.')\n",
    "    else:\n",
    "        print('Failed to reject the null hypothesis: there is no reason to consider the statistical significance of the difference in conversion between the groups.')"
   ]
  },
  {
   "cell_type": "code",
   "execution_count": 69,
   "metadata": {},
   "outputs": [
    {
     "name": "stdout",
     "output_type": "stream",
     "text": [
      "p-value:  0.016851380434703023\n",
      "Rejecting the null hypothesis: there is the statistical significance of the difference in conversion between the groups.\n"
     ]
    }
   ],
   "source": [
    "check_hypothesis(groupA_successes,groupA_trials, groupB_successes,groupB_trials, alpha=0.05)"
   ]
  },
  {
   "cell_type": "markdown",
   "metadata": {},
   "source": [
    "### Find the statistical significance of the difference in average order size between the groups using the raw data."
   ]
  },
  {
   "cell_type": "code",
   "execution_count": 70,
   "metadata": {},
   "outputs": [],
   "source": [
    "groupA['avg_order']=groupA['revenue']/groupA['orders']\n",
    "groupB['avg_order']=groupB['revenue']/groupB['orders']"
   ]
  },
  {
   "cell_type": "code",
   "execution_count": 71,
   "metadata": {},
   "outputs": [
    {
     "data": {
      "text/plain": [
       "115.51247176082741"
      ]
     },
     "execution_count": 71,
     "metadata": {},
     "output_type": "execute_result"
    }
   ],
   "source": [
    "groupA['avg_order'].mean()"
   ]
  },
  {
   "cell_type": "code",
   "execution_count": 72,
   "metadata": {},
   "outputs": [
    {
     "data": {
      "text/plain": [
       "138.37116968351648"
      ]
     },
     "execution_count": 72,
     "metadata": {},
     "output_type": "execute_result"
    }
   ],
   "source": [
    "groupB['avg_order'].mean()"
   ]
  },
  {
   "cell_type": "code",
   "execution_count": 73,
   "metadata": {},
   "outputs": [],
   "source": [
    "def testing_average(sample1,sample2,alpha=0.05):\n",
    "    #checking normality\n",
    "    sample1=sample1.dropna()\n",
    "    sample2=sample2.dropna()\n",
    "    stat1, p1_norm=stats.shapiro(sample1)\n",
    "    stat2, p2_norm=stats.shapiro(sample2)\n",
    "    if p1_norm > alpha and p2_norm>alpha:\n",
    "        #then both normal, perform t-test.\n",
    "        #for t-test also should check the equality of variances\n",
    "        statslev,p_levene=stats.levene(sample1, sample2)\n",
    "        if p_levene<alpha:\n",
    "           #variances are not equal\n",
    "            statist,p_value=stats.ttest_ind(sample1, sample2,equal_var=False)\n",
    "        else:\n",
    "            statist,p_value=stats.ttest_ind(sample1, sample2,equal_var=True) \n",
    "    else:\n",
    "        statist,p_value=stats.mannwhitneyu(sample1, sample2)\n",
    "    print(p_value)\n",
    "    if (p_value<alpha):\n",
    "        print('Rejecting the null hypothesis: there is the statistical significance of the difference in average order size between the groups.')\n",
    "    else:\n",
    "        print('Failed to reject the null hypothesis: there is no reason to consider the statistical significance of the difference in average order size between the groups.')"
   ]
  },
  {
   "cell_type": "code",
   "execution_count": 74,
   "metadata": {},
   "outputs": [
    {
     "name": "stdout",
     "output_type": "stream",
     "text": [
      "0.9550914317372012\n",
      "Failed to reject the null hypothesis: there is no reason to consider the statistical significance of the difference in average order size between the groups.\n"
     ]
    }
   ],
   "source": [
    "testing_average(groupA['avg_order'],groupB['avg_order'],alpha=0.05)"
   ]
  },
  {
   "cell_type": "markdown",
   "metadata": {},
   "source": [
    "### Find the statistical significance of the difference in conversion between the groups using the filtered data. "
   ]
  },
  {
   "cell_type": "markdown",
   "metadata": {},
   "source": [
    "Let's calculate trials and successes for both groups using the filtered data and run the function."
   ]
  },
  {
   "cell_type": "code",
   "execution_count": 75,
   "metadata": {},
   "outputs": [
    {
     "name": "stdout",
     "output_type": "stream",
     "text": [
      "Trials: 18736\n",
      "Successes: 535\n"
     ]
    }
   ],
   "source": [
    "filtered_groupA_trials=filtered_groupA['visits'].sum()\n",
    "print(\"Trials:\",filtered_groupA_trials)\n",
    "filtered_groupA_successes=filtered_groupA['orders'].sum()\n",
    "print(\"Successes:\",filtered_groupA_successes)"
   ]
  },
  {
   "cell_type": "code",
   "execution_count": 76,
   "metadata": {},
   "outputs": [
    {
     "name": "stdout",
     "output_type": "stream",
     "text": [
      "Trials: 18916\n",
      "Successes: 629\n"
     ]
    }
   ],
   "source": [
    "filtered_groupB_trials=filtered_groupB['visits'].sum()\n",
    "print(\"Trials:\",filtered_groupB_trials)\n",
    "filtered_groupB_successes=filtered_groupB['orders'].sum()\n",
    "print(\"Successes:\",filtered_groupB_successes)"
   ]
  },
  {
   "cell_type": "code",
   "execution_count": 77,
   "metadata": {},
   "outputs": [
    {
     "name": "stdout",
     "output_type": "stream",
     "text": [
      "p-value:  0.008460030902913251\n",
      "Rejecting the null hypothesis: there is the statistical significance of the difference in conversion between the groups.\n"
     ]
    }
   ],
   "source": [
    "check_hypothesis(filtered_groupA_successes,filtered_groupA_trials, filtered_groupB_successes,filtered_groupB_trials, alpha=0.05)"
   ]
  },
  {
   "cell_type": "markdown",
   "metadata": {},
   "source": [
    "### Find the statistical significance of the difference in average order size between the groups using the filtered data."
   ]
  },
  {
   "cell_type": "code",
   "execution_count": 78,
   "metadata": {},
   "outputs": [],
   "source": [
    "filtered_groupA['avg_order']=filtered_groupA['revenue']/filtered_groupA['orders']\n",
    "filtered_groupB['avg_order']=filtered_groupB['revenue']/filtered_groupB['orders']"
   ]
  },
  {
   "cell_type": "code",
   "execution_count": 79,
   "metadata": {},
   "outputs": [
    {
     "data": {
      "text/plain": [
       "103.22559649348956"
      ]
     },
     "execution_count": 79,
     "metadata": {},
     "output_type": "execute_result"
    }
   ],
   "source": [
    "filtered_groupA['avg_order'].mean()"
   ]
  },
  {
   "cell_type": "code",
   "execution_count": 80,
   "metadata": {},
   "outputs": [
    {
     "data": {
      "text/plain": [
       "106.449163769215"
      ]
     },
     "execution_count": 80,
     "metadata": {},
     "output_type": "execute_result"
    }
   ],
   "source": [
    "filtered_groupB['avg_order'].mean()"
   ]
  },
  {
   "cell_type": "code",
   "execution_count": 81,
   "metadata": {},
   "outputs": [
    {
     "name": "stdout",
     "output_type": "stream",
     "text": [
      "0.1765215353801155\n",
      "Failed to reject the null hypothesis: there is no reason to consider the statistical significance of the difference in average order size between the groups.\n"
     ]
    }
   ],
   "source": [
    "testing_average(filtered_groupA['avg_order'],filtered_groupB['avg_order'],alpha=0.05)"
   ]
  },
  {
   "cell_type": "markdown",
   "metadata": {},
   "source": [
    "### Make a decision based on the test results. "
   ]
  },
  {
   "cell_type": "markdown",
   "metadata": {},
   "source": [
    "- despite the fact that the group B has a little higher conversion rate, we can observe that the group B demonstrates worse cumulative average order size than the group A.\n",
    "- despite the fact that there is the statistical significance of the difference in conversion between the groups, we have no reason to consider the statistical significance of the difference in average order size between the groups.\n",
    "\n",
    "Stop the test. We can conclude that there is no difference between the groups."
   ]
  },
  {
   "cell_type": "code",
   "execution_count": null,
   "metadata": {},
   "outputs": [],
   "source": []
  }
 ],
 "metadata": {
  "ExecuteTimeLog": [
   {
    "duration": 383,
    "start_time": "2022-04-20T17:52:12.703Z"
   },
   {
    "duration": 35,
    "start_time": "2022-04-20T17:53:10.560Z"
   },
   {
    "duration": 19,
    "start_time": "2022-04-20T17:53:31.115Z"
   },
   {
    "duration": 20,
    "start_time": "2022-04-20T17:53:43.638Z"
   },
   {
    "duration": 54,
    "start_time": "2022-04-20T17:54:26.178Z"
   },
   {
    "duration": 22,
    "start_time": "2022-04-20T17:55:17.787Z"
   },
   {
    "duration": 1598,
    "start_time": "2022-04-20T17:57:15.193Z"
   },
   {
    "duration": 17,
    "start_time": "2022-04-20T17:58:47.083Z"
   },
   {
    "duration": 14,
    "start_time": "2022-04-20T17:59:09.352Z"
   },
   {
    "duration": 30,
    "start_time": "2022-04-20T18:04:17.616Z"
   },
   {
    "duration": 64,
    "start_time": "2022-04-20T18:04:39.863Z"
   },
   {
    "duration": 25,
    "start_time": "2022-04-20T18:05:04.322Z"
   },
   {
    "duration": 23,
    "start_time": "2022-04-20T18:05:11.279Z"
   },
   {
    "duration": 16,
    "start_time": "2022-04-20T18:06:13.202Z"
   },
   {
    "duration": 783,
    "start_time": "2022-04-20T18:10:32.490Z"
   },
   {
    "duration": 498,
    "start_time": "2022-04-20T18:11:39.368Z"
   },
   {
    "duration": 24,
    "start_time": "2022-04-20T18:11:44.665Z"
   },
   {
    "duration": 3434,
    "start_time": "2022-04-20T18:14:07.244Z"
   },
   {
    "duration": 279,
    "start_time": "2022-04-20T18:15:02.278Z"
   },
   {
    "duration": 36,
    "start_time": "2022-04-20T18:15:06.664Z"
   },
   {
    "duration": 6,
    "start_time": "2022-04-20T18:15:34.916Z"
   },
   {
    "duration": 494,
    "start_time": "2022-04-20T18:15:39.029Z"
   },
   {
    "duration": 7,
    "start_time": "2022-04-20T18:16:42.212Z"
   },
   {
    "duration": 13,
    "start_time": "2022-04-20T18:16:58.265Z"
   },
   {
    "duration": 7,
    "start_time": "2022-04-20T18:17:20.095Z"
   },
   {
    "duration": 19,
    "start_time": "2022-04-20T18:17:38.213Z"
   },
   {
    "duration": 6,
    "start_time": "2022-04-20T18:19:12.062Z"
   },
   {
    "duration": 8,
    "start_time": "2022-04-20T18:20:02.352Z"
   },
   {
    "duration": 18,
    "start_time": "2022-04-20T18:21:45.997Z"
   },
   {
    "duration": 14,
    "start_time": "2022-04-20T18:25:08.537Z"
   },
   {
    "duration": 22,
    "start_time": "2022-04-20T18:28:01.674Z"
   },
   {
    "duration": 19,
    "start_time": "2022-04-20T18:28:56.324Z"
   },
   {
    "duration": 13,
    "start_time": "2022-04-20T18:29:05.237Z"
   },
   {
    "duration": 14,
    "start_time": "2022-04-20T18:29:57.724Z"
   },
   {
    "duration": 4,
    "start_time": "2022-04-20T18:30:45.949Z"
   },
   {
    "duration": 4,
    "start_time": "2022-04-20T18:31:06.147Z"
   },
   {
    "duration": 7,
    "start_time": "2022-04-20T18:31:28.869Z"
   },
   {
    "duration": 6,
    "start_time": "2022-04-20T18:31:40.143Z"
   },
   {
    "duration": 14,
    "start_time": "2022-04-20T18:33:13.730Z"
   },
   {
    "duration": 5,
    "start_time": "2022-04-20T18:34:51.861Z"
   },
   {
    "duration": 4,
    "start_time": "2022-04-20T18:35:08.041Z"
   },
   {
    "duration": 4,
    "start_time": "2022-04-20T18:35:20.825Z"
   },
   {
    "duration": 4,
    "start_time": "2022-04-20T18:35:35.196Z"
   },
   {
    "duration": 193,
    "start_time": "2022-04-20T18:46:54.523Z"
   },
   {
    "duration": 3,
    "start_time": "2022-04-20T18:47:00.882Z"
   },
   {
    "duration": 4,
    "start_time": "2022-04-20T18:48:43.947Z"
   },
   {
    "duration": 3,
    "start_time": "2022-04-20T18:48:44.979Z"
   },
   {
    "duration": 22,
    "start_time": "2022-04-20T18:48:46.334Z"
   },
   {
    "duration": 4,
    "start_time": "2022-04-20T18:48:55.876Z"
   },
   {
    "duration": 7,
    "start_time": "2022-04-20T18:48:56.933Z"
   },
   {
    "duration": 18,
    "start_time": "2022-04-20T18:49:11.131Z"
   },
   {
    "duration": 9,
    "start_time": "2022-04-20T18:49:58.438Z"
   },
   {
    "duration": 1004,
    "start_time": "2022-04-20T18:50:37.890Z"
   },
   {
    "duration": 2510,
    "start_time": "2022-04-20T18:50:38.900Z"
   },
   {
    "duration": 6,
    "start_time": "2022-04-20T18:50:41.412Z"
   },
   {
    "duration": 35,
    "start_time": "2022-04-20T18:50:41.421Z"
   },
   {
    "duration": 44,
    "start_time": "2022-04-20T18:50:41.458Z"
   },
   {
    "duration": 12,
    "start_time": "2022-04-20T18:50:41.504Z"
   },
   {
    "duration": 21,
    "start_time": "2022-04-20T18:50:41.517Z"
   },
   {
    "duration": 463,
    "start_time": "2022-04-20T18:50:41.539Z"
   },
   {
    "duration": 7,
    "start_time": "2022-04-20T18:50:42.004Z"
   },
   {
    "duration": 23,
    "start_time": "2022-04-20T18:50:42.014Z"
   },
   {
    "duration": 6,
    "start_time": "2022-04-20T18:50:42.039Z"
   },
   {
    "duration": 8,
    "start_time": "2022-04-20T18:50:42.047Z"
   },
   {
    "duration": 6,
    "start_time": "2022-04-20T18:50:42.057Z"
   },
   {
    "duration": 49,
    "start_time": "2022-04-20T18:50:42.065Z"
   },
   {
    "duration": 146,
    "start_time": "2022-04-20T18:50:42.115Z"
   },
   {
    "duration": 0,
    "start_time": "2022-04-20T18:50:42.263Z"
   },
   {
    "duration": 0,
    "start_time": "2022-04-20T18:50:42.265Z"
   },
   {
    "duration": 0,
    "start_time": "2022-04-20T18:50:42.266Z"
   },
   {
    "duration": 0,
    "start_time": "2022-04-20T18:50:42.267Z"
   },
   {
    "duration": 0,
    "start_time": "2022-04-20T18:50:42.269Z"
   },
   {
    "duration": 0,
    "start_time": "2022-04-20T18:50:42.270Z"
   },
   {
    "duration": 0,
    "start_time": "2022-04-20T18:50:42.271Z"
   },
   {
    "duration": 13,
    "start_time": "2022-04-20T18:51:26.781Z"
   },
   {
    "duration": 18,
    "start_time": "2022-04-20T18:51:47.064Z"
   },
   {
    "duration": 4,
    "start_time": "2022-04-20T18:55:35.593Z"
   },
   {
    "duration": 3,
    "start_time": "2022-04-20T18:55:36.664Z"
   },
   {
    "duration": 17,
    "start_time": "2022-04-20T18:55:42.201Z"
   },
   {
    "duration": 11,
    "start_time": "2022-04-20T18:56:24.763Z"
   },
   {
    "duration": 5,
    "start_time": "2022-04-20T18:56:30.868Z"
   },
   {
    "duration": 17,
    "start_time": "2022-04-20T18:56:36.546Z"
   },
   {
    "duration": 1023,
    "start_time": "2022-04-20T18:57:31.777Z"
   },
   {
    "duration": 2585,
    "start_time": "2022-04-20T18:57:32.802Z"
   },
   {
    "duration": 6,
    "start_time": "2022-04-20T18:57:35.390Z"
   },
   {
    "duration": 29,
    "start_time": "2022-04-20T18:57:35.398Z"
   },
   {
    "duration": 39,
    "start_time": "2022-04-20T18:57:35.429Z"
   },
   {
    "duration": 10,
    "start_time": "2022-04-20T18:57:35.470Z"
   },
   {
    "duration": 29,
    "start_time": "2022-04-20T18:57:35.481Z"
   },
   {
    "duration": 400,
    "start_time": "2022-04-20T18:57:35.511Z"
   },
   {
    "duration": 7,
    "start_time": "2022-04-20T18:57:35.913Z"
   },
   {
    "duration": 25,
    "start_time": "2022-04-20T18:57:35.924Z"
   },
   {
    "duration": 9,
    "start_time": "2022-04-20T18:57:35.951Z"
   },
   {
    "duration": 41,
    "start_time": "2022-04-20T18:57:35.962Z"
   },
   {
    "duration": 4,
    "start_time": "2022-04-20T18:57:36.005Z"
   },
   {
    "duration": 16,
    "start_time": "2022-04-20T18:57:36.011Z"
   },
   {
    "duration": 14,
    "start_time": "2022-04-20T18:57:36.028Z"
   },
   {
    "duration": 164,
    "start_time": "2022-04-20T18:57:36.044Z"
   },
   {
    "duration": 0,
    "start_time": "2022-04-20T18:57:36.210Z"
   },
   {
    "duration": 0,
    "start_time": "2022-04-20T18:57:36.212Z"
   },
   {
    "duration": 0,
    "start_time": "2022-04-20T18:57:36.213Z"
   },
   {
    "duration": 0,
    "start_time": "2022-04-20T18:57:36.214Z"
   },
   {
    "duration": 0,
    "start_time": "2022-04-20T18:57:36.215Z"
   },
   {
    "duration": 0,
    "start_time": "2022-04-20T18:57:36.216Z"
   },
   {
    "duration": 0,
    "start_time": "2022-04-20T18:57:36.217Z"
   },
   {
    "duration": 16,
    "start_time": "2022-04-20T18:58:56.806Z"
   },
   {
    "duration": 10,
    "start_time": "2022-04-20T18:59:01.562Z"
   },
   {
    "duration": 8,
    "start_time": "2022-04-20T18:59:31.791Z"
   },
   {
    "duration": 4,
    "start_time": "2022-04-20T18:59:46.091Z"
   },
   {
    "duration": 4,
    "start_time": "2022-04-20T18:59:53.464Z"
   },
   {
    "duration": 4,
    "start_time": "2022-04-20T19:00:12.491Z"
   },
   {
    "duration": 4,
    "start_time": "2022-04-20T19:00:18.330Z"
   },
   {
    "duration": 23,
    "start_time": "2022-04-20T19:03:12.023Z"
   },
   {
    "duration": 8,
    "start_time": "2022-04-20T19:04:18.975Z"
   },
   {
    "duration": 839,
    "start_time": "2022-04-20T19:04:36.968Z"
   },
   {
    "duration": 2109,
    "start_time": "2022-04-20T19:04:37.810Z"
   },
   {
    "duration": 6,
    "start_time": "2022-04-20T19:04:39.922Z"
   },
   {
    "duration": 31,
    "start_time": "2022-04-20T19:04:39.930Z"
   },
   {
    "duration": 41,
    "start_time": "2022-04-20T19:04:39.963Z"
   },
   {
    "duration": 11,
    "start_time": "2022-04-20T19:04:40.005Z"
   },
   {
    "duration": 19,
    "start_time": "2022-04-20T19:04:40.018Z"
   },
   {
    "duration": 355,
    "start_time": "2022-04-20T19:04:40.039Z"
   },
   {
    "duration": 9,
    "start_time": "2022-04-20T19:04:40.395Z"
   },
   {
    "duration": 17,
    "start_time": "2022-04-20T19:04:40.406Z"
   },
   {
    "duration": 6,
    "start_time": "2022-04-20T19:04:40.425Z"
   },
   {
    "duration": 11,
    "start_time": "2022-04-20T19:04:40.433Z"
   },
   {
    "duration": 8,
    "start_time": "2022-04-20T19:04:40.445Z"
   },
   {
    "duration": 13,
    "start_time": "2022-04-20T19:04:40.455Z"
   },
   {
    "duration": 41,
    "start_time": "2022-04-20T19:04:40.470Z"
   },
   {
    "duration": 16,
    "start_time": "2022-04-20T19:04:40.513Z"
   },
   {
    "duration": 8,
    "start_time": "2022-04-20T19:04:40.531Z"
   },
   {
    "duration": 5,
    "start_time": "2022-04-20T19:04:40.541Z"
   },
   {
    "duration": 27,
    "start_time": "2022-04-20T19:04:40.547Z"
   },
   {
    "duration": 10,
    "start_time": "2022-04-20T19:05:45.989Z"
   },
   {
    "duration": 18,
    "start_time": "2022-04-20T19:06:06.975Z"
   },
   {
    "duration": 17,
    "start_time": "2022-04-20T19:06:45.243Z"
   },
   {
    "duration": 18,
    "start_time": "2022-04-20T19:08:15.100Z"
   },
   {
    "duration": 1595,
    "start_time": "2022-04-20T19:14:05.513Z"
   },
   {
    "duration": 19,
    "start_time": "2022-04-20T19:15:53.564Z"
   },
   {
    "duration": 199,
    "start_time": "2022-04-20T19:16:23.869Z"
   },
   {
    "duration": 233,
    "start_time": "2022-04-20T19:16:36.763Z"
   },
   {
    "duration": 5,
    "start_time": "2022-04-20T19:17:13.801Z"
   },
   {
    "duration": 9,
    "start_time": "2022-04-20T19:17:33.010Z"
   },
   {
    "duration": 924,
    "start_time": "2022-04-20T19:18:04.054Z"
   },
   {
    "duration": 2173,
    "start_time": "2022-04-20T19:18:04.980Z"
   },
   {
    "duration": 6,
    "start_time": "2022-04-20T19:18:07.155Z"
   },
   {
    "duration": 45,
    "start_time": "2022-04-20T19:18:07.164Z"
   },
   {
    "duration": 45,
    "start_time": "2022-04-20T19:18:07.211Z"
   },
   {
    "duration": 17,
    "start_time": "2022-04-20T19:18:07.258Z"
   },
   {
    "duration": 24,
    "start_time": "2022-04-20T19:18:07.277Z"
   },
   {
    "duration": 446,
    "start_time": "2022-04-20T19:18:07.303Z"
   },
   {
    "duration": 6,
    "start_time": "2022-04-20T19:18:07.751Z"
   },
   {
    "duration": 44,
    "start_time": "2022-04-20T19:18:07.759Z"
   },
   {
    "duration": 7,
    "start_time": "2022-04-20T19:18:07.804Z"
   },
   {
    "duration": 13,
    "start_time": "2022-04-20T19:18:07.812Z"
   },
   {
    "duration": 5,
    "start_time": "2022-04-20T19:18:07.826Z"
   },
   {
    "duration": 17,
    "start_time": "2022-04-20T19:18:07.833Z"
   },
   {
    "duration": 7,
    "start_time": "2022-04-20T19:18:07.852Z"
   },
   {
    "duration": 47,
    "start_time": "2022-04-20T19:18:07.860Z"
   },
   {
    "duration": 15,
    "start_time": "2022-04-20T19:18:07.909Z"
   },
   {
    "duration": 15,
    "start_time": "2022-04-20T19:18:07.926Z"
   },
   {
    "duration": 15,
    "start_time": "2022-04-20T19:18:07.943Z"
   },
   {
    "duration": 7,
    "start_time": "2022-04-20T19:18:07.959Z"
   },
   {
    "duration": 34,
    "start_time": "2022-04-20T19:18:07.968Z"
   },
   {
    "duration": 15,
    "start_time": "2022-04-20T19:18:08.004Z"
   },
   {
    "duration": 19,
    "start_time": "2022-04-20T19:18:08.021Z"
   },
   {
    "duration": 6,
    "start_time": "2022-04-20T19:20:02.910Z"
   },
   {
    "duration": 7,
    "start_time": "2022-04-20T19:20:08.017Z"
   },
   {
    "duration": 422,
    "start_time": "2022-04-20T19:20:18.356Z"
   },
   {
    "duration": 110,
    "start_time": "2022-04-20T19:20:25.363Z"
   },
   {
    "duration": 12,
    "start_time": "2022-04-20T19:20:32.203Z"
   },
   {
    "duration": 5,
    "start_time": "2022-04-20T19:20:39.651Z"
   },
   {
    "duration": 10,
    "start_time": "2022-04-20T19:20:45.676Z"
   },
   {
    "duration": 820,
    "start_time": "2022-04-20T19:21:11.386Z"
   },
   {
    "duration": 2222,
    "start_time": "2022-04-20T19:21:12.208Z"
   },
   {
    "duration": 6,
    "start_time": "2022-04-20T19:21:14.432Z"
   },
   {
    "duration": 31,
    "start_time": "2022-04-20T19:21:14.440Z"
   },
   {
    "duration": 45,
    "start_time": "2022-04-20T19:21:14.473Z"
   },
   {
    "duration": 12,
    "start_time": "2022-04-20T19:21:14.520Z"
   },
   {
    "duration": 22,
    "start_time": "2022-04-20T19:21:14.534Z"
   },
   {
    "duration": 360,
    "start_time": "2022-04-20T19:21:14.558Z"
   },
   {
    "duration": 6,
    "start_time": "2022-04-20T19:21:14.920Z"
   },
   {
    "duration": 17,
    "start_time": "2022-04-20T19:21:14.928Z"
   },
   {
    "duration": 5,
    "start_time": "2022-04-20T19:21:14.947Z"
   },
   {
    "duration": 5,
    "start_time": "2022-04-20T19:21:14.954Z"
   },
   {
    "duration": 41,
    "start_time": "2022-04-20T19:21:14.960Z"
   },
   {
    "duration": 13,
    "start_time": "2022-04-20T19:21:15.002Z"
   },
   {
    "duration": 23,
    "start_time": "2022-04-20T19:21:15.017Z"
   },
   {
    "duration": 16,
    "start_time": "2022-04-20T19:21:15.042Z"
   },
   {
    "duration": 15,
    "start_time": "2022-04-20T19:21:15.060Z"
   },
   {
    "duration": 35,
    "start_time": "2022-04-20T19:21:15.077Z"
   },
   {
    "duration": 13,
    "start_time": "2022-04-20T19:21:15.114Z"
   },
   {
    "duration": 6,
    "start_time": "2022-04-20T19:21:15.129Z"
   },
   {
    "duration": 18,
    "start_time": "2022-04-20T19:21:15.137Z"
   },
   {
    "duration": 10,
    "start_time": "2022-04-20T19:21:15.157Z"
   },
   {
    "duration": 20,
    "start_time": "2022-04-20T19:21:15.169Z"
   },
   {
    "duration": 110,
    "start_time": "2022-04-20T19:24:54.034Z"
   },
   {
    "duration": 8,
    "start_time": "2022-04-20T19:25:31.930Z"
   },
   {
    "duration": 13,
    "start_time": "2022-04-20T19:26:11.908Z"
   },
   {
    "duration": 8,
    "start_time": "2022-04-20T19:26:36.072Z"
   },
   {
    "duration": 1093,
    "start_time": "2022-04-21T10:05:47.578Z"
   },
   {
    "duration": 4532,
    "start_time": "2022-04-21T10:05:48.674Z"
   },
   {
    "duration": 8,
    "start_time": "2022-04-21T10:05:53.210Z"
   },
   {
    "duration": 48,
    "start_time": "2022-04-21T10:05:53.222Z"
   },
   {
    "duration": 32,
    "start_time": "2022-04-21T10:05:53.272Z"
   },
   {
    "duration": 20,
    "start_time": "2022-04-21T10:05:53.306Z"
   },
   {
    "duration": 44,
    "start_time": "2022-04-21T10:05:53.330Z"
   },
   {
    "duration": 820,
    "start_time": "2022-04-21T10:05:53.377Z"
   },
   {
    "duration": 10,
    "start_time": "2022-04-21T10:05:54.200Z"
   },
   {
    "duration": 34,
    "start_time": "2022-04-21T10:05:54.227Z"
   },
   {
    "duration": 10,
    "start_time": "2022-04-21T10:05:54.263Z"
   },
   {
    "duration": 10,
    "start_time": "2022-04-21T10:05:54.275Z"
   },
   {
    "duration": 12,
    "start_time": "2022-04-21T10:05:54.326Z"
   },
   {
    "duration": 33,
    "start_time": "2022-04-21T10:05:54.341Z"
   },
   {
    "duration": 11,
    "start_time": "2022-04-21T10:05:54.377Z"
   },
   {
    "duration": 53,
    "start_time": "2022-04-21T10:05:54.390Z"
   },
   {
    "duration": 24,
    "start_time": "2022-04-21T10:05:54.445Z"
   },
   {
    "duration": 27,
    "start_time": "2022-04-21T10:05:54.471Z"
   },
   {
    "duration": 51,
    "start_time": "2022-04-21T10:05:54.501Z"
   },
   {
    "duration": 13,
    "start_time": "2022-04-21T10:05:54.554Z"
   },
   {
    "duration": 5,
    "start_time": "2022-04-21T10:05:54.570Z"
   },
   {
    "duration": 12,
    "start_time": "2022-04-21T10:05:54.578Z"
   },
   {
    "duration": 37,
    "start_time": "2022-04-21T10:05:54.626Z"
   },
   {
    "duration": 151,
    "start_time": "2022-04-21T10:05:54.665Z"
   },
   {
    "duration": 0,
    "start_time": "2022-04-21T10:05:54.818Z"
   },
   {
    "duration": 12,
    "start_time": "2022-04-21T10:06:20.451Z"
   },
   {
    "duration": 11,
    "start_time": "2022-04-21T10:07:40.651Z"
   },
   {
    "duration": 1102,
    "start_time": "2022-04-21T10:30:47.069Z"
   },
   {
    "duration": 3373,
    "start_time": "2022-04-21T10:30:48.174Z"
   },
   {
    "duration": 8,
    "start_time": "2022-04-21T10:30:51.549Z"
   },
   {
    "duration": 43,
    "start_time": "2022-04-21T10:30:51.560Z"
   },
   {
    "duration": 33,
    "start_time": "2022-04-21T10:30:51.605Z"
   },
   {
    "duration": 18,
    "start_time": "2022-04-21T10:30:51.641Z"
   },
   {
    "duration": 41,
    "start_time": "2022-04-21T10:30:51.661Z"
   },
   {
    "duration": 456,
    "start_time": "2022-04-21T10:30:51.704Z"
   },
   {
    "duration": 9,
    "start_time": "2022-04-21T10:30:52.162Z"
   },
   {
    "duration": 51,
    "start_time": "2022-04-21T10:30:52.175Z"
   },
   {
    "duration": 9,
    "start_time": "2022-04-21T10:30:52.228Z"
   },
   {
    "duration": 13,
    "start_time": "2022-04-21T10:30:52.240Z"
   },
   {
    "duration": 8,
    "start_time": "2022-04-21T10:30:52.255Z"
   },
   {
    "duration": 22,
    "start_time": "2022-04-21T10:30:52.265Z"
   },
   {
    "duration": 45,
    "start_time": "2022-04-21T10:30:52.289Z"
   },
   {
    "duration": 31,
    "start_time": "2022-04-21T10:30:52.337Z"
   },
   {
    "duration": 60,
    "start_time": "2022-04-21T10:30:52.370Z"
   },
   {
    "duration": 27,
    "start_time": "2022-04-21T10:30:52.432Z"
   },
   {
    "duration": 22,
    "start_time": "2022-04-21T10:30:52.461Z"
   },
   {
    "duration": 45,
    "start_time": "2022-04-21T10:30:52.485Z"
   },
   {
    "duration": 5,
    "start_time": "2022-04-21T10:30:52.532Z"
   },
   {
    "duration": 20,
    "start_time": "2022-04-21T10:30:52.539Z"
   },
   {
    "duration": 21,
    "start_time": "2022-04-21T10:30:52.561Z"
   },
   {
    "duration": 11,
    "start_time": "2022-04-21T10:30:52.584Z"
   },
   {
    "duration": 11,
    "start_time": "2022-04-21T10:30:52.625Z"
   },
   {
    "duration": 162,
    "start_time": "2022-04-21T10:30:52.639Z"
   },
   {
    "duration": 14,
    "start_time": "2022-04-21T10:31:09.443Z"
   },
   {
    "duration": 108,
    "start_time": "2022-04-21T10:32:59.494Z"
   },
   {
    "duration": 6,
    "start_time": "2022-04-21T10:33:07.138Z"
   },
   {
    "duration": 5,
    "start_time": "2022-04-21T10:33:19.092Z"
   },
   {
    "duration": 6,
    "start_time": "2022-04-21T10:33:25.908Z"
   },
   {
    "duration": 5,
    "start_time": "2022-04-21T10:34:55.963Z"
   },
   {
    "duration": 5,
    "start_time": "2022-04-21T10:35:12.756Z"
   },
   {
    "duration": 17,
    "start_time": "2022-04-21T10:35:47.276Z"
   },
   {
    "duration": 15,
    "start_time": "2022-04-21T10:36:16.676Z"
   },
   {
    "duration": 13,
    "start_time": "2022-04-21T10:36:22.272Z"
   },
   {
    "duration": 123,
    "start_time": "2022-04-21T10:42:07.943Z"
   },
   {
    "duration": 6,
    "start_time": "2022-04-21T10:48:14.395Z"
   },
   {
    "duration": 11,
    "start_time": "2022-04-21T10:50:11.879Z"
   },
   {
    "duration": 16,
    "start_time": "2022-04-21T10:50:51.491Z"
   },
   {
    "duration": 6,
    "start_time": "2022-04-21T10:51:04.545Z"
   },
   {
    "duration": 6,
    "start_time": "2022-04-21T10:51:55.029Z"
   },
   {
    "duration": 6,
    "start_time": "2022-04-21T10:52:05.141Z"
   },
   {
    "duration": 14,
    "start_time": "2022-04-21T10:52:25.427Z"
   },
   {
    "duration": 6,
    "start_time": "2022-04-21T10:52:34.107Z"
   },
   {
    "duration": 5,
    "start_time": "2022-04-21T10:52:56.209Z"
   },
   {
    "duration": 5,
    "start_time": "2022-04-21T10:53:07.610Z"
   },
   {
    "duration": 5,
    "start_time": "2022-04-21T10:54:25.402Z"
   },
   {
    "duration": 6,
    "start_time": "2022-04-21T10:54:39.239Z"
   },
   {
    "duration": 6,
    "start_time": "2022-04-21T12:11:38.463Z"
   },
   {
    "duration": 11,
    "start_time": "2022-04-21T12:12:01.567Z"
   },
   {
    "duration": 5,
    "start_time": "2022-04-21T12:12:13.395Z"
   },
   {
    "duration": 22,
    "start_time": "2022-04-21T12:12:47.731Z"
   },
   {
    "duration": 5,
    "start_time": "2022-04-21T12:13:57.160Z"
   },
   {
    "duration": 6,
    "start_time": "2022-04-21T12:14:11.763Z"
   },
   {
    "duration": 5,
    "start_time": "2022-04-21T12:14:41.396Z"
   },
   {
    "duration": 6,
    "start_time": "2022-04-21T12:14:48.915Z"
   },
   {
    "duration": 320,
    "start_time": "2022-04-21T12:16:36.857Z"
   },
   {
    "duration": 16,
    "start_time": "2022-04-21T12:16:46.735Z"
   },
   {
    "duration": 12,
    "start_time": "2022-04-21T12:19:10.994Z"
   },
   {
    "duration": 6,
    "start_time": "2022-04-21T12:19:19.201Z"
   },
   {
    "duration": 12,
    "start_time": "2022-04-21T12:19:23.192Z"
   },
   {
    "duration": 6,
    "start_time": "2022-04-21T12:19:28.569Z"
   },
   {
    "duration": 11,
    "start_time": "2022-04-21T12:21:35.965Z"
   },
   {
    "duration": 6,
    "start_time": "2022-04-21T12:21:47.589Z"
   },
   {
    "duration": 6,
    "start_time": "2022-04-21T12:22:31.652Z"
   },
   {
    "duration": 16,
    "start_time": "2022-04-21T12:22:35.432Z"
   },
   {
    "duration": 16,
    "start_time": "2022-04-21T12:22:58.625Z"
   },
   {
    "duration": 4,
    "start_time": "2022-04-21T12:23:27.284Z"
   },
   {
    "duration": 5,
    "start_time": "2022-04-21T12:23:40.167Z"
   },
   {
    "duration": 1069,
    "start_time": "2022-04-21T17:20:18.898Z"
   },
   {
    "duration": 4172,
    "start_time": "2022-04-21T17:20:21.654Z"
   },
   {
    "duration": 10,
    "start_time": "2022-04-21T17:20:25.830Z"
   },
   {
    "duration": 136,
    "start_time": "2022-04-21T17:28:44.139Z"
   },
   {
    "duration": 50,
    "start_time": "2022-04-21T17:28:49.298Z"
   },
   {
    "duration": 18,
    "start_time": "2022-04-21T17:28:50.209Z"
   },
   {
    "duration": 1072,
    "start_time": "2022-04-21T17:28:52.805Z"
   },
   {
    "duration": 33,
    "start_time": "2022-04-21T17:28:58.010Z"
   },
   {
    "duration": 5,
    "start_time": "2022-04-21T17:29:18.966Z"
   },
   {
    "duration": 28,
    "start_time": "2022-04-21T17:30:48.220Z"
   },
   {
    "duration": 12,
    "start_time": "2022-04-21T17:30:52.799Z"
   },
   {
    "duration": 7,
    "start_time": "2022-04-21T17:30:56.503Z"
   },
   {
    "duration": 805,
    "start_time": "2022-04-21T17:31:11.337Z"
   },
   {
    "duration": 5,
    "start_time": "2022-04-21T17:31:19.070Z"
   },
   {
    "duration": 6,
    "start_time": "2022-04-21T17:31:45.293Z"
   },
   {
    "duration": 5,
    "start_time": "2022-04-21T17:32:22.272Z"
   },
   {
    "duration": 444,
    "start_time": "2022-04-21T17:32:31.757Z"
   },
   {
    "duration": 1068,
    "start_time": "2022-04-21T17:32:46.809Z"
   },
   {
    "duration": 3400,
    "start_time": "2022-04-21T17:32:47.880Z"
   },
   {
    "duration": 8,
    "start_time": "2022-04-21T17:32:51.283Z"
   },
   {
    "duration": 40,
    "start_time": "2022-04-21T17:32:51.293Z"
   },
   {
    "duration": 34,
    "start_time": "2022-04-21T17:32:51.336Z"
   },
   {
    "duration": 17,
    "start_time": "2022-04-21T17:32:51.373Z"
   },
   {
    "duration": 450,
    "start_time": "2022-04-21T17:32:51.392Z"
   },
   {
    "duration": 19,
    "start_time": "2022-04-21T17:32:51.844Z"
   },
   {
    "duration": 10,
    "start_time": "2022-04-21T17:32:51.866Z"
   },
   {
    "duration": 22,
    "start_time": "2022-04-21T17:32:51.878Z"
   },
   {
    "duration": 10,
    "start_time": "2022-04-21T17:32:51.925Z"
   },
   {
    "duration": 34,
    "start_time": "2022-04-21T17:32:51.938Z"
   },
   {
    "duration": 9,
    "start_time": "2022-04-21T17:32:51.974Z"
   },
   {
    "duration": 42,
    "start_time": "2022-04-21T17:32:51.986Z"
   },
   {
    "duration": 18,
    "start_time": "2022-04-21T17:32:52.031Z"
   },
   {
    "duration": 29,
    "start_time": "2022-04-21T17:32:52.052Z"
   },
   {
    "duration": 12,
    "start_time": "2022-04-21T17:32:52.083Z"
   },
   {
    "duration": 44,
    "start_time": "2022-04-21T17:32:52.097Z"
   },
   {
    "duration": 25,
    "start_time": "2022-04-21T17:32:52.144Z"
   },
   {
    "duration": 53,
    "start_time": "2022-04-21T17:32:52.171Z"
   },
   {
    "duration": 22,
    "start_time": "2022-04-21T17:32:52.226Z"
   },
   {
    "duration": 24,
    "start_time": "2022-04-21T17:32:52.250Z"
   },
   {
    "duration": 20,
    "start_time": "2022-04-21T17:32:52.276Z"
   },
   {
    "duration": 15,
    "start_time": "2022-04-21T17:32:52.298Z"
   },
   {
    "duration": 33,
    "start_time": "2022-04-21T17:32:52.315Z"
   },
   {
    "duration": 11,
    "start_time": "2022-04-21T17:32:52.350Z"
   },
   {
    "duration": 17,
    "start_time": "2022-04-21T17:32:52.364Z"
   },
   {
    "duration": 30,
    "start_time": "2022-04-21T17:32:52.384Z"
   },
   {
    "duration": 22,
    "start_time": "2022-04-21T17:32:52.417Z"
   },
   {
    "duration": 20,
    "start_time": "2022-04-21T17:32:52.441Z"
   },
   {
    "duration": 598,
    "start_time": "2022-04-21T17:33:26.270Z"
   },
   {
    "duration": 22,
    "start_time": "2022-04-21T17:43:24.932Z"
   },
   {
    "duration": 21,
    "start_time": "2022-04-21T17:43:45.017Z"
   },
   {
    "duration": 19,
    "start_time": "2022-04-21T17:44:44.010Z"
   },
   {
    "duration": 11,
    "start_time": "2022-04-21T17:45:27.350Z"
   },
   {
    "duration": 25,
    "start_time": "2022-04-21T17:46:04.348Z"
   },
   {
    "duration": 13,
    "start_time": "2022-04-21T17:46:51.748Z"
   },
   {
    "duration": 11,
    "start_time": "2022-04-21T17:47:06.666Z"
   },
   {
    "duration": 24,
    "start_time": "2022-04-21T17:47:31.679Z"
   },
   {
    "duration": 25,
    "start_time": "2022-04-21T17:47:51.141Z"
   },
   {
    "duration": 25,
    "start_time": "2022-04-21T17:54:32.537Z"
   },
   {
    "duration": 11,
    "start_time": "2022-04-21T17:55:01.251Z"
   },
   {
    "duration": 4,
    "start_time": "2022-04-21T17:55:43.273Z"
   },
   {
    "duration": 229,
    "start_time": "2022-04-21T17:55:48.867Z"
   },
   {
    "duration": 222,
    "start_time": "2022-04-21T17:57:38.621Z"
   },
   {
    "duration": 9,
    "start_time": "2022-04-21T18:10:14.690Z"
   },
   {
    "duration": 9,
    "start_time": "2022-04-21T18:11:15.639Z"
   },
   {
    "duration": 8,
    "start_time": "2022-04-21T18:11:54.438Z"
   },
   {
    "duration": 8,
    "start_time": "2022-04-21T18:12:07.818Z"
   },
   {
    "duration": 8,
    "start_time": "2022-04-21T18:12:13.416Z"
   },
   {
    "duration": 26,
    "start_time": "2022-04-21T18:14:38.021Z"
   },
   {
    "duration": 32,
    "start_time": "2022-04-21T18:15:06.738Z"
   },
   {
    "duration": 1426,
    "start_time": "2022-04-21T18:15:27.921Z"
   },
   {
    "duration": 3836,
    "start_time": "2022-04-21T18:15:29.351Z"
   },
   {
    "duration": 90,
    "start_time": "2022-04-21T18:15:33.189Z"
   },
   {
    "duration": 35,
    "start_time": "2022-04-21T18:15:33.282Z"
   },
   {
    "duration": 56,
    "start_time": "2022-04-21T18:15:33.319Z"
   },
   {
    "duration": 17,
    "start_time": "2022-04-21T18:15:33.378Z"
   },
   {
    "duration": 24,
    "start_time": "2022-04-21T18:15:33.397Z"
   },
   {
    "duration": 99,
    "start_time": "2022-04-21T18:15:33.424Z"
   },
   {
    "duration": 18,
    "start_time": "2022-04-21T18:15:33.526Z"
   },
   {
    "duration": 31,
    "start_time": "2022-04-21T18:15:33.550Z"
   },
   {
    "duration": 143,
    "start_time": "2022-04-21T18:15:33.583Z"
   },
   {
    "duration": 24,
    "start_time": "2022-04-21T18:15:33.729Z"
   },
   {
    "duration": 11,
    "start_time": "2022-04-21T18:15:33.756Z"
   },
   {
    "duration": 45,
    "start_time": "2022-04-21T18:15:33.769Z"
   },
   {
    "duration": 29,
    "start_time": "2022-04-21T18:15:33.816Z"
   },
   {
    "duration": 11,
    "start_time": "2022-04-21T18:15:33.847Z"
   },
   {
    "duration": 34,
    "start_time": "2022-04-21T18:15:33.860Z"
   },
   {
    "duration": 249,
    "start_time": "2022-04-21T18:15:33.897Z"
   },
   {
    "duration": 236,
    "start_time": "2022-04-21T18:15:34.148Z"
   },
   {
    "duration": 9,
    "start_time": "2022-04-21T18:15:34.386Z"
   },
   {
    "duration": 222,
    "start_time": "2022-04-21T18:15:34.397Z"
   },
   {
    "duration": 0,
    "start_time": "2022-04-21T18:15:34.625Z"
   },
   {
    "duration": 0,
    "start_time": "2022-04-21T18:15:34.626Z"
   },
   {
    "duration": 0,
    "start_time": "2022-04-21T18:15:34.627Z"
   },
   {
    "duration": 0,
    "start_time": "2022-04-21T18:15:34.629Z"
   },
   {
    "duration": 0,
    "start_time": "2022-04-21T18:15:34.631Z"
   },
   {
    "duration": 0,
    "start_time": "2022-04-21T18:15:34.632Z"
   },
   {
    "duration": 0,
    "start_time": "2022-04-21T18:15:34.633Z"
   },
   {
    "duration": 0,
    "start_time": "2022-04-21T18:15:34.634Z"
   },
   {
    "duration": 0,
    "start_time": "2022-04-21T18:15:34.638Z"
   },
   {
    "duration": 0,
    "start_time": "2022-04-21T18:15:34.640Z"
   },
   {
    "duration": 0,
    "start_time": "2022-04-21T18:15:34.641Z"
   },
   {
    "duration": 25,
    "start_time": "2022-04-21T18:16:08.822Z"
   },
   {
    "duration": 24,
    "start_time": "2022-04-21T18:16:26.306Z"
   },
   {
    "duration": 17,
    "start_time": "2022-04-21T18:16:52.393Z"
   },
   {
    "duration": 14,
    "start_time": "2022-04-21T18:17:14.346Z"
   },
   {
    "duration": 30,
    "start_time": "2022-04-21T18:17:21.520Z"
   },
   {
    "duration": 22,
    "start_time": "2022-04-21T18:23:40.080Z"
   },
   {
    "duration": 24,
    "start_time": "2022-04-21T18:24:12.838Z"
   },
   {
    "duration": 18,
    "start_time": "2022-04-21T18:24:30.820Z"
   },
   {
    "duration": 8,
    "start_time": "2022-04-21T18:24:54.551Z"
   },
   {
    "duration": 18,
    "start_time": "2022-04-21T18:26:33.839Z"
   },
   {
    "duration": 9,
    "start_time": "2022-04-21T18:26:45.463Z"
   },
   {
    "duration": 27,
    "start_time": "2022-04-21T18:26:55.752Z"
   },
   {
    "duration": 17,
    "start_time": "2022-04-21T18:27:06.988Z"
   },
   {
    "duration": 9,
    "start_time": "2022-04-21T18:27:51.798Z"
   },
   {
    "duration": 20,
    "start_time": "2022-04-21T18:30:24.483Z"
   },
   {
    "duration": 15,
    "start_time": "2022-04-21T18:31:51.585Z"
   },
   {
    "duration": 5,
    "start_time": "2022-04-21T18:31:56.340Z"
   },
   {
    "duration": 17,
    "start_time": "2022-04-21T18:32:26.247Z"
   },
   {
    "duration": 6,
    "start_time": "2022-04-21T18:32:30.065Z"
   },
   {
    "duration": 1382,
    "start_time": "2022-04-21T18:32:40.719Z"
   },
   {
    "duration": 3513,
    "start_time": "2022-04-21T18:32:42.105Z"
   },
   {
    "duration": 79,
    "start_time": "2022-04-21T18:32:45.621Z"
   },
   {
    "duration": 36,
    "start_time": "2022-04-21T18:32:45.703Z"
   },
   {
    "duration": 38,
    "start_time": "2022-04-21T18:32:45.742Z"
   },
   {
    "duration": 17,
    "start_time": "2022-04-21T18:32:45.782Z"
   },
   {
    "duration": 35,
    "start_time": "2022-04-21T18:32:45.801Z"
   },
   {
    "duration": 84,
    "start_time": "2022-04-21T18:32:45.840Z"
   },
   {
    "duration": 17,
    "start_time": "2022-04-21T18:32:45.928Z"
   },
   {
    "duration": 40,
    "start_time": "2022-04-21T18:32:45.948Z"
   },
   {
    "duration": 9,
    "start_time": "2022-04-21T18:32:45.990Z"
   },
   {
    "duration": 12,
    "start_time": "2022-04-21T18:32:46.033Z"
   },
   {
    "duration": 10,
    "start_time": "2022-04-21T18:32:46.047Z"
   },
   {
    "duration": 8,
    "start_time": "2022-04-21T18:32:46.062Z"
   },
   {
    "duration": 21,
    "start_time": "2022-04-21T18:32:46.073Z"
   },
   {
    "duration": 44,
    "start_time": "2022-04-21T18:32:46.096Z"
   },
   {
    "duration": 25,
    "start_time": "2022-04-21T18:32:46.142Z"
   },
   {
    "duration": 275,
    "start_time": "2022-04-21T18:32:46.169Z"
   },
   {
    "duration": 227,
    "start_time": "2022-04-21T18:32:46.446Z"
   },
   {
    "duration": 8,
    "start_time": "2022-04-21T18:32:46.675Z"
   },
   {
    "duration": 45,
    "start_time": "2022-04-21T18:32:46.685Z"
   },
   {
    "duration": 16,
    "start_time": "2022-04-21T18:32:46.734Z"
   },
   {
    "duration": 27,
    "start_time": "2022-04-21T18:32:46.752Z"
   },
   {
    "duration": 19,
    "start_time": "2022-04-21T18:32:46.781Z"
   },
   {
    "duration": 19,
    "start_time": "2022-04-21T18:32:46.825Z"
   },
   {
    "duration": 9,
    "start_time": "2022-04-21T18:32:46.846Z"
   },
   {
    "duration": 26,
    "start_time": "2022-04-21T18:32:46.857Z"
   },
   {
    "duration": 9,
    "start_time": "2022-04-21T18:32:46.885Z"
   },
   {
    "duration": 46,
    "start_time": "2022-04-21T18:32:46.959Z"
   },
   {
    "duration": 50,
    "start_time": "2022-04-21T18:32:47.007Z"
   },
   {
    "duration": 8,
    "start_time": "2022-04-21T18:32:47.060Z"
   },
   {
    "duration": 18,
    "start_time": "2022-04-21T18:32:47.070Z"
   },
   {
    "duration": 11,
    "start_time": "2022-04-21T18:32:47.090Z"
   },
   {
    "duration": 17,
    "start_time": "2022-04-21T18:33:43.520Z"
   },
   {
    "duration": 16,
    "start_time": "2022-04-21T19:07:29.947Z"
   },
   {
    "duration": 16,
    "start_time": "2022-04-21T19:08:14.149Z"
   },
   {
    "duration": 9,
    "start_time": "2022-04-21T19:10:11.506Z"
   },
   {
    "duration": 10,
    "start_time": "2022-04-21T19:10:30.783Z"
   },
   {
    "duration": 9,
    "start_time": "2022-04-21T19:11:16.555Z"
   },
   {
    "duration": 9,
    "start_time": "2022-04-21T19:11:35.636Z"
   },
   {
    "duration": 16,
    "start_time": "2022-04-21T19:12:00.694Z"
   },
   {
    "duration": 1386,
    "start_time": "2022-04-21T19:12:29.923Z"
   },
   {
    "duration": 3566,
    "start_time": "2022-04-21T19:12:31.312Z"
   },
   {
    "duration": 89,
    "start_time": "2022-04-21T19:12:34.880Z"
   },
   {
    "duration": 29,
    "start_time": "2022-04-21T19:12:34.971Z"
   },
   {
    "duration": 81,
    "start_time": "2022-04-21T19:12:35.004Z"
   },
   {
    "duration": 18,
    "start_time": "2022-04-21T19:12:35.087Z"
   },
   {
    "duration": 29,
    "start_time": "2022-04-21T19:12:35.107Z"
   },
   {
    "duration": 85,
    "start_time": "2022-04-21T19:12:35.138Z"
   },
   {
    "duration": 10,
    "start_time": "2022-04-21T19:12:35.225Z"
   },
   {
    "duration": 37,
    "start_time": "2022-04-21T19:12:35.238Z"
   },
   {
    "duration": 9,
    "start_time": "2022-04-21T19:12:35.277Z"
   },
   {
    "duration": 46,
    "start_time": "2022-04-21T19:12:35.289Z"
   },
   {
    "duration": 6,
    "start_time": "2022-04-21T19:12:35.338Z"
   },
   {
    "duration": 18,
    "start_time": "2022-04-21T19:12:35.349Z"
   },
   {
    "duration": 21,
    "start_time": "2022-04-21T19:12:35.370Z"
   },
   {
    "duration": 33,
    "start_time": "2022-04-21T19:12:35.393Z"
   },
   {
    "duration": 29,
    "start_time": "2022-04-21T19:12:35.428Z"
   },
   {
    "duration": 261,
    "start_time": "2022-04-21T19:12:35.459Z"
   },
   {
    "duration": 228,
    "start_time": "2022-04-21T19:12:35.727Z"
   },
   {
    "duration": 9,
    "start_time": "2022-04-21T19:12:35.957Z"
   },
   {
    "duration": 31,
    "start_time": "2022-04-21T19:12:35.968Z"
   },
   {
    "duration": 41,
    "start_time": "2022-04-21T19:12:36.001Z"
   },
   {
    "duration": 51,
    "start_time": "2022-04-21T19:12:36.044Z"
   },
   {
    "duration": 22,
    "start_time": "2022-04-21T19:12:36.098Z"
   },
   {
    "duration": 31,
    "start_time": "2022-04-21T19:12:36.123Z"
   },
   {
    "duration": 28,
    "start_time": "2022-04-21T19:12:36.157Z"
   },
   {
    "duration": 50,
    "start_time": "2022-04-21T19:12:36.187Z"
   },
   {
    "duration": 10,
    "start_time": "2022-04-21T19:12:36.239Z"
   },
   {
    "duration": 32,
    "start_time": "2022-04-21T19:12:36.252Z"
   },
   {
    "duration": 20,
    "start_time": "2022-04-21T19:12:36.287Z"
   },
   {
    "duration": 43,
    "start_time": "2022-04-21T19:12:36.309Z"
   },
   {
    "duration": 93,
    "start_time": "2022-04-21T19:12:36.354Z"
   },
   {
    "duration": 33,
    "start_time": "2022-04-21T19:12:36.449Z"
   },
   {
    "duration": 15,
    "start_time": "2022-04-21T19:12:36.484Z"
   },
   {
    "duration": 32,
    "start_time": "2022-04-21T19:12:36.501Z"
   },
   {
    "duration": 34,
    "start_time": "2022-04-21T19:12:36.535Z"
   },
   {
    "duration": 20,
    "start_time": "2022-04-21T19:12:36.572Z"
   },
   {
    "duration": 23,
    "start_time": "2022-04-21T19:12:36.594Z"
   },
   {
    "duration": 43,
    "start_time": "2022-04-21T19:12:36.620Z"
   },
   {
    "duration": 6,
    "start_time": "2022-04-21T19:13:24.294Z"
   },
   {
    "duration": 16,
    "start_time": "2022-04-21T19:13:28.706Z"
   },
   {
    "duration": 10,
    "start_time": "2022-04-21T19:14:11.672Z"
   },
   {
    "duration": 9,
    "start_time": "2022-04-21T19:14:12.138Z"
   },
   {
    "duration": 9,
    "start_time": "2022-04-21T19:14:13.038Z"
   },
   {
    "duration": 9,
    "start_time": "2022-04-21T19:14:13.676Z"
   },
   {
    "duration": 16,
    "start_time": "2022-04-21T19:14:15.687Z"
   },
   {
    "duration": 17,
    "start_time": "2022-04-21T19:14:32.036Z"
   },
   {
    "duration": 477,
    "start_time": "2022-04-21T19:15:39.343Z"
   },
   {
    "duration": 343,
    "start_time": "2022-04-21T19:16:45.954Z"
   },
   {
    "duration": 361,
    "start_time": "2022-04-21T19:17:43.166Z"
   },
   {
    "duration": 362,
    "start_time": "2022-04-21T19:18:58.093Z"
   },
   {
    "duration": 1414,
    "start_time": "2022-04-21T19:19:27.180Z"
   },
   {
    "duration": 3587,
    "start_time": "2022-04-21T19:19:28.597Z"
   },
   {
    "duration": 6,
    "start_time": "2022-04-21T19:19:32.187Z"
   },
   {
    "duration": 33,
    "start_time": "2022-04-21T19:19:32.284Z"
   },
   {
    "duration": 41,
    "start_time": "2022-04-21T19:19:32.320Z"
   },
   {
    "duration": 17,
    "start_time": "2022-04-21T19:19:32.363Z"
   },
   {
    "duration": 33,
    "start_time": "2022-04-21T19:19:32.382Z"
   },
   {
    "duration": 88,
    "start_time": "2022-04-21T19:19:32.417Z"
   },
   {
    "duration": 9,
    "start_time": "2022-04-21T19:19:32.508Z"
   },
   {
    "duration": 37,
    "start_time": "2022-04-21T19:19:32.526Z"
   },
   {
    "duration": 10,
    "start_time": "2022-04-21T19:19:32.565Z"
   },
   {
    "duration": 11,
    "start_time": "2022-04-21T19:19:32.577Z"
   },
   {
    "duration": 41,
    "start_time": "2022-04-21T19:19:32.590Z"
   },
   {
    "duration": 18,
    "start_time": "2022-04-21T19:19:32.634Z"
   },
   {
    "duration": 21,
    "start_time": "2022-04-21T19:19:32.654Z"
   },
   {
    "duration": 11,
    "start_time": "2022-04-21T19:19:32.677Z"
   },
   {
    "duration": 55,
    "start_time": "2022-04-21T19:19:32.690Z"
   },
   {
    "duration": 246,
    "start_time": "2022-04-21T19:19:32.747Z"
   },
   {
    "duration": 229,
    "start_time": "2022-04-21T19:19:32.995Z"
   },
   {
    "duration": 11,
    "start_time": "2022-04-21T19:19:33.229Z"
   },
   {
    "duration": 24,
    "start_time": "2022-04-21T19:19:33.243Z"
   },
   {
    "duration": 18,
    "start_time": "2022-04-21T19:19:33.269Z"
   },
   {
    "duration": 58,
    "start_time": "2022-04-21T19:19:33.289Z"
   },
   {
    "duration": 31,
    "start_time": "2022-04-21T19:19:33.350Z"
   },
   {
    "duration": 15,
    "start_time": "2022-04-21T19:19:33.383Z"
   },
   {
    "duration": 30,
    "start_time": "2022-04-21T19:19:33.400Z"
   },
   {
    "duration": 27,
    "start_time": "2022-04-21T19:19:33.432Z"
   },
   {
    "duration": 10,
    "start_time": "2022-04-21T19:19:33.465Z"
   },
   {
    "duration": 55,
    "start_time": "2022-04-21T19:19:33.478Z"
   },
   {
    "duration": 24,
    "start_time": "2022-04-21T19:19:33.536Z"
   },
   {
    "duration": 31,
    "start_time": "2022-04-21T19:19:33.562Z"
   },
   {
    "duration": 24,
    "start_time": "2022-04-21T19:19:33.595Z"
   },
   {
    "duration": 38,
    "start_time": "2022-04-21T19:19:33.621Z"
   },
   {
    "duration": 19,
    "start_time": "2022-04-21T19:19:33.661Z"
   },
   {
    "duration": 19,
    "start_time": "2022-04-21T19:19:33.682Z"
   },
   {
    "duration": 16,
    "start_time": "2022-04-21T19:19:33.703Z"
   },
   {
    "duration": 31,
    "start_time": "2022-04-21T19:19:33.721Z"
   },
   {
    "duration": 16,
    "start_time": "2022-04-21T19:19:33.755Z"
   },
   {
    "duration": 19,
    "start_time": "2022-04-21T19:19:33.773Z"
   },
   {
    "duration": 28,
    "start_time": "2022-04-21T19:19:33.794Z"
   },
   {
    "duration": 483,
    "start_time": "2022-04-21T19:19:33.826Z"
   },
   {
    "duration": 9,
    "start_time": "2022-04-21T19:21:14.901Z"
   },
   {
    "duration": 13,
    "start_time": "2022-04-21T19:21:26.045Z"
   },
   {
    "duration": 1327,
    "start_time": "2022-04-21T19:21:40.658Z"
   },
   {
    "duration": 3680,
    "start_time": "2022-04-21T19:21:41.988Z"
   },
   {
    "duration": 8,
    "start_time": "2022-04-21T19:21:45.670Z"
   },
   {
    "duration": 29,
    "start_time": "2022-04-21T19:21:45.757Z"
   },
   {
    "duration": 35,
    "start_time": "2022-04-21T19:21:45.788Z"
   },
   {
    "duration": 21,
    "start_time": "2022-04-21T19:21:45.825Z"
   },
   {
    "duration": 12,
    "start_time": "2022-04-21T19:21:45.849Z"
   },
   {
    "duration": 8,
    "start_time": "2022-04-21T19:21:45.863Z"
   },
   {
    "duration": 106,
    "start_time": "2022-04-21T19:21:45.873Z"
   },
   {
    "duration": 9,
    "start_time": "2022-04-21T19:21:45.983Z"
   },
   {
    "duration": 48,
    "start_time": "2022-04-21T19:21:45.994Z"
   },
   {
    "duration": 11,
    "start_time": "2022-04-21T19:21:46.044Z"
   },
   {
    "duration": 12,
    "start_time": "2022-04-21T19:21:46.057Z"
   },
   {
    "duration": 9,
    "start_time": "2022-04-21T19:21:46.071Z"
   },
   {
    "duration": 54,
    "start_time": "2022-04-21T19:21:46.083Z"
   },
   {
    "duration": 25,
    "start_time": "2022-04-21T19:21:46.140Z"
   },
   {
    "duration": 27,
    "start_time": "2022-04-21T19:21:46.167Z"
   },
   {
    "duration": 47,
    "start_time": "2022-04-21T19:21:46.196Z"
   },
   {
    "duration": 232,
    "start_time": "2022-04-21T19:21:46.245Z"
   },
   {
    "duration": 226,
    "start_time": "2022-04-21T19:21:46.480Z"
   },
   {
    "duration": 19,
    "start_time": "2022-04-21T19:21:46.710Z"
   },
   {
    "duration": 30,
    "start_time": "2022-04-21T19:21:46.730Z"
   },
   {
    "duration": 19,
    "start_time": "2022-04-21T19:21:46.762Z"
   },
   {
    "duration": 50,
    "start_time": "2022-04-21T19:21:46.784Z"
   },
   {
    "duration": 19,
    "start_time": "2022-04-21T19:21:46.841Z"
   },
   {
    "duration": 15,
    "start_time": "2022-04-21T19:21:46.863Z"
   },
   {
    "duration": 13,
    "start_time": "2022-04-21T19:21:46.880Z"
   },
   {
    "duration": 25,
    "start_time": "2022-04-21T19:21:46.924Z"
   },
   {
    "duration": 12,
    "start_time": "2022-04-21T19:21:46.951Z"
   },
   {
    "duration": 17,
    "start_time": "2022-04-21T19:21:46.966Z"
   },
   {
    "duration": 49,
    "start_time": "2022-04-21T19:21:46.986Z"
   },
   {
    "duration": 17,
    "start_time": "2022-04-21T19:21:47.037Z"
   },
   {
    "duration": 8,
    "start_time": "2022-04-21T19:21:47.057Z"
   },
   {
    "duration": 19,
    "start_time": "2022-04-21T19:21:47.073Z"
   },
   {
    "duration": 11,
    "start_time": "2022-04-21T19:21:47.124Z"
   },
   {
    "duration": 17,
    "start_time": "2022-04-21T19:21:47.140Z"
   },
   {
    "duration": 17,
    "start_time": "2022-04-21T19:21:47.160Z"
   },
   {
    "duration": 10,
    "start_time": "2022-04-21T19:21:47.181Z"
   },
   {
    "duration": 45,
    "start_time": "2022-04-21T19:21:47.194Z"
   },
   {
    "duration": 19,
    "start_time": "2022-04-21T19:21:47.244Z"
   },
   {
    "duration": 18,
    "start_time": "2022-04-21T19:21:47.266Z"
   },
   {
    "duration": 508,
    "start_time": "2022-04-21T19:21:47.287Z"
   },
   {
    "duration": 31,
    "start_time": "2022-04-21T19:24:00.351Z"
   },
   {
    "duration": 15,
    "start_time": "2022-04-21T19:24:18.236Z"
   },
   {
    "duration": 24,
    "start_time": "2022-04-21T19:24:52.030Z"
   },
   {
    "duration": 10,
    "start_time": "2022-04-21T19:25:35.788Z"
   },
   {
    "duration": 12,
    "start_time": "2022-04-21T19:25:42.360Z"
   },
   {
    "duration": 1903,
    "start_time": "2022-04-21T19:25:50.048Z"
   },
   {
    "duration": 22,
    "start_time": "2022-04-21T19:26:03.684Z"
   },
   {
    "duration": 18,
    "start_time": "2022-04-21T19:26:05.700Z"
   },
   {
    "duration": 22,
    "start_time": "2022-04-21T19:26:07.661Z"
   },
   {
    "duration": 331,
    "start_time": "2022-04-21T19:26:09.769Z"
   },
   {
    "duration": 136,
    "start_time": "2022-04-21T19:33:29.584Z"
   },
   {
    "duration": 23,
    "start_time": "2022-04-21T19:33:45.340Z"
   },
   {
    "duration": 11,
    "start_time": "2022-04-21T19:34:10.501Z"
   },
   {
    "duration": 11,
    "start_time": "2022-04-21T19:34:22.550Z"
   },
   {
    "duration": 30,
    "start_time": "2022-04-21T19:34:34.921Z"
   },
   {
    "duration": 511,
    "start_time": "2022-04-21T19:35:09.288Z"
   },
   {
    "duration": 1453,
    "start_time": "2022-04-21T19:35:18.286Z"
   },
   {
    "duration": 3878,
    "start_time": "2022-04-21T19:35:19.749Z"
   },
   {
    "duration": 95,
    "start_time": "2022-04-21T19:35:23.631Z"
   },
   {
    "duration": 49,
    "start_time": "2022-04-21T19:35:23.729Z"
   },
   {
    "duration": 38,
    "start_time": "2022-04-21T19:35:23.783Z"
   },
   {
    "duration": 26,
    "start_time": "2022-04-21T19:35:23.827Z"
   },
   {
    "duration": 47,
    "start_time": "2022-04-21T19:35:23.859Z"
   },
   {
    "duration": 102,
    "start_time": "2022-04-21T19:35:23.908Z"
   },
   {
    "duration": 20,
    "start_time": "2022-04-21T19:35:24.013Z"
   },
   {
    "duration": 71,
    "start_time": "2022-04-21T19:35:24.035Z"
   },
   {
    "duration": 13,
    "start_time": "2022-04-21T19:35:24.108Z"
   },
   {
    "duration": 42,
    "start_time": "2022-04-21T19:35:24.129Z"
   },
   {
    "duration": 40,
    "start_time": "2022-04-21T19:35:24.173Z"
   },
   {
    "duration": 44,
    "start_time": "2022-04-21T19:35:24.218Z"
   },
   {
    "duration": 38,
    "start_time": "2022-04-21T19:35:24.265Z"
   },
   {
    "duration": 24,
    "start_time": "2022-04-21T19:35:24.306Z"
   },
   {
    "duration": 90,
    "start_time": "2022-04-21T19:35:24.333Z"
   },
   {
    "duration": 288,
    "start_time": "2022-04-21T19:35:24.426Z"
   },
   {
    "duration": 261,
    "start_time": "2022-04-21T19:35:24.716Z"
   },
   {
    "duration": 8,
    "start_time": "2022-04-21T19:35:24.980Z"
   },
   {
    "duration": 50,
    "start_time": "2022-04-21T19:35:24.990Z"
   },
   {
    "duration": 35,
    "start_time": "2022-04-21T19:35:25.043Z"
   },
   {
    "duration": 44,
    "start_time": "2022-04-21T19:35:25.082Z"
   },
   {
    "duration": 42,
    "start_time": "2022-04-21T19:35:25.129Z"
   },
   {
    "duration": 17,
    "start_time": "2022-04-21T19:35:25.173Z"
   },
   {
    "duration": 17,
    "start_time": "2022-04-21T19:35:25.192Z"
   },
   {
    "duration": 55,
    "start_time": "2022-04-21T19:35:25.212Z"
   },
   {
    "duration": 14,
    "start_time": "2022-04-21T19:35:25.269Z"
   },
   {
    "duration": 27,
    "start_time": "2022-04-21T19:35:25.285Z"
   },
   {
    "duration": 25,
    "start_time": "2022-04-21T19:35:25.314Z"
   },
   {
    "duration": 43,
    "start_time": "2022-04-21T19:35:25.342Z"
   },
   {
    "duration": 31,
    "start_time": "2022-04-21T19:35:25.387Z"
   },
   {
    "duration": 52,
    "start_time": "2022-04-21T19:35:25.420Z"
   },
   {
    "duration": 19,
    "start_time": "2022-04-21T19:35:25.474Z"
   },
   {
    "duration": 22,
    "start_time": "2022-04-21T19:35:25.495Z"
   },
   {
    "duration": 44,
    "start_time": "2022-04-21T19:35:25.519Z"
   },
   {
    "duration": 20,
    "start_time": "2022-04-21T19:35:25.566Z"
   },
   {
    "duration": 17,
    "start_time": "2022-04-21T19:35:25.589Z"
   },
   {
    "duration": 40,
    "start_time": "2022-04-21T19:35:25.609Z"
   },
   {
    "duration": 40,
    "start_time": "2022-04-21T19:35:25.651Z"
   },
   {
    "duration": 17,
    "start_time": "2022-04-21T19:35:25.697Z"
   },
   {
    "duration": 57,
    "start_time": "2022-04-21T19:35:25.716Z"
   },
   {
    "duration": 537,
    "start_time": "2022-04-21T19:35:25.776Z"
   },
   {
    "duration": 11,
    "start_time": "2022-04-21T19:35:55.318Z"
   },
   {
    "duration": 10,
    "start_time": "2022-04-21T19:36:17.773Z"
   },
   {
    "duration": 12,
    "start_time": "2022-04-21T19:36:29.444Z"
   },
   {
    "duration": 12,
    "start_time": "2022-04-21T19:36:57.984Z"
   },
   {
    "duration": 20,
    "start_time": "2022-04-21T19:37:13.228Z"
   },
   {
    "duration": 10,
    "start_time": "2022-04-21T19:37:47.806Z"
   },
   {
    "duration": 3029,
    "start_time": "2022-04-21T19:39:25.800Z"
   },
   {
    "duration": 18,
    "start_time": "2022-04-21T19:40:27.167Z"
   },
   {
    "duration": 24,
    "start_time": "2022-04-21T19:40:51.469Z"
   },
   {
    "duration": 19,
    "start_time": "2022-04-21T19:40:56.964Z"
   },
   {
    "duration": 18,
    "start_time": "2022-04-21T19:41:23.738Z"
   },
   {
    "duration": 1701,
    "start_time": "2022-04-21T19:41:48.516Z"
   },
   {
    "duration": 333,
    "start_time": "2022-04-21T19:42:45.312Z"
   },
   {
    "duration": 25,
    "start_time": "2022-04-21T19:45:29.548Z"
   },
   {
    "duration": 13,
    "start_time": "2022-04-21T19:45:43.681Z"
   },
   {
    "duration": 10,
    "start_time": "2022-04-21T19:50:05.852Z"
   },
   {
    "duration": 13,
    "start_time": "2022-04-21T19:50:30.066Z"
   },
   {
    "duration": 18,
    "start_time": "2022-04-21T19:50:37.720Z"
   },
   {
    "duration": 11,
    "start_time": "2022-04-21T19:50:51.655Z"
   },
   {
    "duration": 12,
    "start_time": "2022-04-21T19:51:04.005Z"
   },
   {
    "duration": 19,
    "start_time": "2022-04-21T19:51:23.506Z"
   },
   {
    "duration": 21,
    "start_time": "2022-04-21T19:52:29.468Z"
   },
   {
    "duration": 12,
    "start_time": "2022-04-21T19:52:48.523Z"
   },
   {
    "duration": 13,
    "start_time": "2022-04-21T19:52:59.055Z"
   },
   {
    "duration": 15,
    "start_time": "2022-04-21T19:53:18.332Z"
   },
   {
    "duration": 9,
    "start_time": "2022-04-21T19:53:25.133Z"
   },
   {
    "duration": 8,
    "start_time": "2022-04-21T19:53:32.167Z"
   },
   {
    "duration": 11,
    "start_time": "2022-04-21T19:54:04.781Z"
   },
   {
    "duration": 14,
    "start_time": "2022-04-21T19:54:13.405Z"
   },
   {
    "duration": 7,
    "start_time": "2022-04-21T19:54:36.920Z"
   },
   {
    "duration": 345,
    "start_time": "2022-04-21T19:55:14.022Z"
   },
   {
    "duration": 12,
    "start_time": "2022-04-21T19:55:32.179Z"
   },
   {
    "duration": 15,
    "start_time": "2022-04-21T19:55:36.508Z"
   },
   {
    "duration": 23,
    "start_time": "2022-04-21T20:00:45.975Z"
   },
   {
    "duration": 131,
    "start_time": "2022-04-21T20:01:16.655Z"
   },
   {
    "duration": 20,
    "start_time": "2022-04-21T20:01:19.808Z"
   },
   {
    "duration": 15,
    "start_time": "2022-04-21T20:01:38.868Z"
   },
   {
    "duration": 20,
    "start_time": "2022-04-21T20:01:58.855Z"
   },
   {
    "duration": 11,
    "start_time": "2022-04-21T20:02:20.610Z"
   },
   {
    "duration": 33,
    "start_time": "2022-04-21T20:02:31.426Z"
   },
   {
    "duration": 20,
    "start_time": "2022-04-21T20:04:51.176Z"
   },
   {
    "duration": 25,
    "start_time": "2022-04-21T20:05:14.437Z"
   },
   {
    "duration": 19,
    "start_time": "2022-04-21T20:05:37.584Z"
   },
   {
    "duration": 19,
    "start_time": "2022-04-21T20:06:02.843Z"
   },
   {
    "duration": 1481,
    "start_time": "2022-04-21T20:06:29.431Z"
   },
   {
    "duration": 3621,
    "start_time": "2022-04-21T20:06:30.914Z"
   },
   {
    "duration": 8,
    "start_time": "2022-04-21T20:06:34.538Z"
   },
   {
    "duration": 29,
    "start_time": "2022-04-21T20:06:34.619Z"
   },
   {
    "duration": 36,
    "start_time": "2022-04-21T20:06:34.651Z"
   },
   {
    "duration": 34,
    "start_time": "2022-04-21T20:06:34.690Z"
   },
   {
    "duration": 27,
    "start_time": "2022-04-21T20:06:34.728Z"
   },
   {
    "duration": 110,
    "start_time": "2022-04-21T20:06:34.757Z"
   },
   {
    "duration": 9,
    "start_time": "2022-04-21T20:06:34.869Z"
   },
   {
    "duration": 53,
    "start_time": "2022-04-21T20:06:34.882Z"
   },
   {
    "duration": 11,
    "start_time": "2022-04-21T20:06:34.937Z"
   },
   {
    "duration": 23,
    "start_time": "2022-04-21T20:06:34.951Z"
   },
   {
    "duration": 33,
    "start_time": "2022-04-21T20:06:34.976Z"
   },
   {
    "duration": 38,
    "start_time": "2022-04-21T20:06:35.012Z"
   },
   {
    "duration": 26,
    "start_time": "2022-04-21T20:06:35.052Z"
   },
   {
    "duration": 11,
    "start_time": "2022-04-21T20:06:35.080Z"
   },
   {
    "duration": 50,
    "start_time": "2022-04-21T20:06:35.093Z"
   },
   {
    "duration": 263,
    "start_time": "2022-04-21T20:06:35.146Z"
   },
   {
    "duration": 236,
    "start_time": "2022-04-21T20:06:35.411Z"
   },
   {
    "duration": 7,
    "start_time": "2022-04-21T20:06:35.650Z"
   },
   {
    "duration": 25,
    "start_time": "2022-04-21T20:06:35.659Z"
   },
   {
    "duration": 50,
    "start_time": "2022-04-21T20:06:35.686Z"
   },
   {
    "duration": 28,
    "start_time": "2022-04-21T20:06:35.740Z"
   },
   {
    "duration": 24,
    "start_time": "2022-04-21T20:06:35.771Z"
   },
   {
    "duration": 41,
    "start_time": "2022-04-21T20:06:35.798Z"
   },
   {
    "duration": 32,
    "start_time": "2022-04-21T20:06:35.842Z"
   },
   {
    "duration": 27,
    "start_time": "2022-04-21T20:06:35.876Z"
   },
   {
    "duration": 20,
    "start_time": "2022-04-21T20:06:35.909Z"
   },
   {
    "duration": 52,
    "start_time": "2022-04-21T20:06:35.932Z"
   },
   {
    "duration": 40,
    "start_time": "2022-04-21T20:06:35.986Z"
   },
   {
    "duration": 27,
    "start_time": "2022-04-21T20:06:36.030Z"
   },
   {
    "duration": 12,
    "start_time": "2022-04-21T20:06:36.060Z"
   },
   {
    "duration": 34,
    "start_time": "2022-04-21T20:06:36.074Z"
   },
   {
    "duration": 26,
    "start_time": "2022-04-21T20:06:36.110Z"
   },
   {
    "duration": 31,
    "start_time": "2022-04-21T20:06:36.140Z"
   },
   {
    "duration": 28,
    "start_time": "2022-04-21T20:06:36.173Z"
   },
   {
    "duration": 16,
    "start_time": "2022-04-21T20:06:36.203Z"
   },
   {
    "duration": 34,
    "start_time": "2022-04-21T20:06:36.221Z"
   },
   {
    "duration": 23,
    "start_time": "2022-04-21T20:06:36.258Z"
   },
   {
    "duration": 21,
    "start_time": "2022-04-21T20:06:36.284Z"
   },
   {
    "duration": 171,
    "start_time": "2022-04-21T20:06:36.308Z"
   },
   {
    "duration": 0,
    "start_time": "2022-04-21T20:06:36.481Z"
   },
   {
    "duration": 0,
    "start_time": "2022-04-21T20:06:36.483Z"
   },
   {
    "duration": 0,
    "start_time": "2022-04-21T20:06:36.485Z"
   },
   {
    "duration": 0,
    "start_time": "2022-04-21T20:06:36.487Z"
   },
   {
    "duration": 15,
    "start_time": "2022-04-21T20:07:32.181Z"
   },
   {
    "duration": 16,
    "start_time": "2022-04-21T20:07:33.651Z"
   },
   {
    "duration": 458,
    "start_time": "2022-04-21T20:07:59.249Z"
   },
   {
    "duration": 377,
    "start_time": "2022-04-21T20:08:07.287Z"
   },
   {
    "duration": 19,
    "start_time": "2022-04-21T20:10:15.206Z"
   },
   {
    "duration": 19,
    "start_time": "2022-04-21T20:10:19.514Z"
   },
   {
    "duration": 343,
    "start_time": "2022-04-21T20:11:39.484Z"
   },
   {
    "duration": 1477,
    "start_time": "2022-04-21T20:12:27.434Z"
   },
   {
    "duration": 3956,
    "start_time": "2022-04-21T20:12:28.914Z"
   },
   {
    "duration": 14,
    "start_time": "2022-04-21T20:12:32.874Z"
   },
   {
    "duration": 43,
    "start_time": "2022-04-21T20:12:32.994Z"
   },
   {
    "duration": 36,
    "start_time": "2022-04-21T20:12:33.039Z"
   },
   {
    "duration": 17,
    "start_time": "2022-04-21T20:12:33.077Z"
   },
   {
    "duration": 39,
    "start_time": "2022-04-21T20:12:33.097Z"
   },
   {
    "duration": 93,
    "start_time": "2022-04-21T20:12:33.138Z"
   },
   {
    "duration": 11,
    "start_time": "2022-04-21T20:12:33.233Z"
   },
   {
    "duration": 31,
    "start_time": "2022-04-21T20:12:33.250Z"
   },
   {
    "duration": 47,
    "start_time": "2022-04-21T20:12:33.283Z"
   },
   {
    "duration": 15,
    "start_time": "2022-04-21T20:12:33.332Z"
   },
   {
    "duration": 13,
    "start_time": "2022-04-21T20:12:33.349Z"
   },
   {
    "duration": 16,
    "start_time": "2022-04-21T20:12:33.365Z"
   },
   {
    "duration": 55,
    "start_time": "2022-04-21T20:12:33.383Z"
   },
   {
    "duration": 12,
    "start_time": "2022-04-21T20:12:33.441Z"
   },
   {
    "duration": 42,
    "start_time": "2022-04-21T20:12:33.455Z"
   },
   {
    "duration": 252,
    "start_time": "2022-04-21T20:12:33.500Z"
   },
   {
    "duration": 249,
    "start_time": "2022-04-21T20:12:33.755Z"
   },
   {
    "duration": 22,
    "start_time": "2022-04-21T20:12:34.007Z"
   },
   {
    "duration": 38,
    "start_time": "2022-04-21T20:12:34.031Z"
   },
   {
    "duration": 27,
    "start_time": "2022-04-21T20:12:34.072Z"
   },
   {
    "duration": 38,
    "start_time": "2022-04-21T20:12:34.101Z"
   },
   {
    "duration": 22,
    "start_time": "2022-04-21T20:12:34.141Z"
   },
   {
    "duration": 15,
    "start_time": "2022-04-21T20:12:34.165Z"
   },
   {
    "duration": 40,
    "start_time": "2022-04-21T20:12:34.183Z"
   },
   {
    "duration": 102,
    "start_time": "2022-04-21T20:12:34.226Z"
   },
   {
    "duration": 10,
    "start_time": "2022-04-21T20:12:34.333Z"
   },
   {
    "duration": 22,
    "start_time": "2022-04-21T20:12:34.345Z"
   },
   {
    "duration": 17,
    "start_time": "2022-04-21T20:12:34.369Z"
   },
   {
    "duration": 48,
    "start_time": "2022-04-21T20:12:34.389Z"
   },
   {
    "duration": 14,
    "start_time": "2022-04-21T20:12:34.439Z"
   },
   {
    "duration": 25,
    "start_time": "2022-04-21T20:12:34.456Z"
   },
   {
    "duration": 17,
    "start_time": "2022-04-21T20:12:34.484Z"
   },
   {
    "duration": 29,
    "start_time": "2022-04-21T20:12:34.504Z"
   },
   {
    "duration": 35,
    "start_time": "2022-04-21T20:12:34.535Z"
   },
   {
    "duration": 17,
    "start_time": "2022-04-21T20:12:34.573Z"
   },
   {
    "duration": 30,
    "start_time": "2022-04-21T20:12:34.592Z"
   },
   {
    "duration": 29,
    "start_time": "2022-04-21T20:12:34.625Z"
   },
   {
    "duration": 24,
    "start_time": "2022-04-21T20:12:34.656Z"
   },
   {
    "duration": 19,
    "start_time": "2022-04-21T20:12:34.683Z"
   },
   {
    "duration": 27,
    "start_time": "2022-04-21T20:12:34.705Z"
   },
   {
    "duration": 633,
    "start_time": "2022-04-21T20:12:34.735Z"
   },
   {
    "duration": 25,
    "start_time": "2022-04-21T20:12:35.371Z"
   },
   {
    "duration": 45,
    "start_time": "2022-04-21T20:12:35.400Z"
   },
   {
    "duration": 488,
    "start_time": "2022-04-21T20:12:35.447Z"
   },
   {
    "duration": 1152,
    "start_time": "2022-04-22T10:50:42.749Z"
   },
   {
    "duration": 104079,
    "start_time": "2022-04-22T10:50:43.904Z"
   },
   {
    "duration": 0,
    "start_time": "2022-04-22T10:52:28.157Z"
   },
   {
    "duration": 0,
    "start_time": "2022-04-22T10:52:28.158Z"
   },
   {
    "duration": 0,
    "start_time": "2022-04-22T10:52:28.159Z"
   },
   {
    "duration": 0,
    "start_time": "2022-04-22T10:52:28.160Z"
   },
   {
    "duration": 0,
    "start_time": "2022-04-22T10:52:28.161Z"
   },
   {
    "duration": 0,
    "start_time": "2022-04-22T10:52:28.162Z"
   },
   {
    "duration": 0,
    "start_time": "2022-04-22T10:52:28.163Z"
   },
   {
    "duration": 1,
    "start_time": "2022-04-22T10:52:28.164Z"
   },
   {
    "duration": 0,
    "start_time": "2022-04-22T10:52:28.166Z"
   },
   {
    "duration": 0,
    "start_time": "2022-04-22T10:52:28.167Z"
   },
   {
    "duration": 0,
    "start_time": "2022-04-22T10:52:28.168Z"
   },
   {
    "duration": 0,
    "start_time": "2022-04-22T10:52:28.169Z"
   },
   {
    "duration": 0,
    "start_time": "2022-04-22T10:52:28.170Z"
   },
   {
    "duration": 0,
    "start_time": "2022-04-22T10:52:28.171Z"
   },
   {
    "duration": 0,
    "start_time": "2022-04-22T10:52:28.172Z"
   },
   {
    "duration": 0,
    "start_time": "2022-04-22T10:52:28.173Z"
   },
   {
    "duration": 0,
    "start_time": "2022-04-22T10:52:28.174Z"
   },
   {
    "duration": 0,
    "start_time": "2022-04-22T10:52:28.175Z"
   },
   {
    "duration": 0,
    "start_time": "2022-04-22T10:52:28.176Z"
   },
   {
    "duration": 0,
    "start_time": "2022-04-22T10:52:28.177Z"
   },
   {
    "duration": 0,
    "start_time": "2022-04-22T10:52:28.178Z"
   },
   {
    "duration": 0,
    "start_time": "2022-04-22T10:52:28.179Z"
   },
   {
    "duration": 0,
    "start_time": "2022-04-22T10:52:28.211Z"
   },
   {
    "duration": 0,
    "start_time": "2022-04-22T10:52:28.213Z"
   },
   {
    "duration": 0,
    "start_time": "2022-04-22T10:52:28.215Z"
   },
   {
    "duration": 0,
    "start_time": "2022-04-22T10:52:28.216Z"
   },
   {
    "duration": 0,
    "start_time": "2022-04-22T10:52:28.217Z"
   },
   {
    "duration": 0,
    "start_time": "2022-04-22T10:52:28.217Z"
   },
   {
    "duration": 0,
    "start_time": "2022-04-22T10:52:28.219Z"
   },
   {
    "duration": 0,
    "start_time": "2022-04-22T10:52:28.220Z"
   },
   {
    "duration": 0,
    "start_time": "2022-04-22T10:52:28.221Z"
   },
   {
    "duration": 0,
    "start_time": "2022-04-22T10:52:28.222Z"
   },
   {
    "duration": 0,
    "start_time": "2022-04-22T10:52:28.223Z"
   },
   {
    "duration": 0,
    "start_time": "2022-04-22T10:52:28.224Z"
   },
   {
    "duration": 0,
    "start_time": "2022-04-22T10:52:28.225Z"
   },
   {
    "duration": 0,
    "start_time": "2022-04-22T10:52:28.226Z"
   },
   {
    "duration": 0,
    "start_time": "2022-04-22T10:52:28.227Z"
   },
   {
    "duration": 0,
    "start_time": "2022-04-22T10:52:28.228Z"
   },
   {
    "duration": 0,
    "start_time": "2022-04-22T10:52:28.229Z"
   },
   {
    "duration": 0,
    "start_time": "2022-04-22T10:52:28.230Z"
   },
   {
    "duration": 0,
    "start_time": "2022-04-22T10:52:28.230Z"
   },
   {
    "duration": 0,
    "start_time": "2022-04-22T10:52:28.231Z"
   },
   {
    "duration": 0,
    "start_time": "2022-04-22T10:52:28.232Z"
   },
   {
    "duration": 0,
    "start_time": "2022-04-22T10:52:28.233Z"
   },
   {
    "duration": 8,
    "start_time": "2022-04-22T10:52:59.293Z"
   },
   {
    "duration": 18178,
    "start_time": "2022-04-22T10:53:04.189Z"
   },
   {
    "duration": 6,
    "start_time": "2022-04-22T10:53:52.524Z"
   },
   {
    "duration": 51,
    "start_time": "2022-04-22T10:53:52.955Z"
   },
   {
    "duration": 31,
    "start_time": "2022-04-22T10:53:53.539Z"
   },
   {
    "duration": 16,
    "start_time": "2022-04-22T10:53:53.812Z"
   },
   {
    "duration": 14,
    "start_time": "2022-04-22T10:53:54.052Z"
   },
   {
    "duration": 47,
    "start_time": "2022-04-22T10:53:54.219Z"
   },
   {
    "duration": 6,
    "start_time": "2022-04-22T10:53:54.365Z"
   },
   {
    "duration": 19,
    "start_time": "2022-04-22T10:53:54.537Z"
   },
   {
    "duration": 7,
    "start_time": "2022-04-22T10:53:54.985Z"
   },
   {
    "duration": 6,
    "start_time": "2022-04-22T10:53:55.118Z"
   },
   {
    "duration": 4,
    "start_time": "2022-04-22T10:53:55.262Z"
   },
   {
    "duration": 6,
    "start_time": "2022-04-22T10:53:55.564Z"
   },
   {
    "duration": 12,
    "start_time": "2022-04-22T10:53:55.848Z"
   },
   {
    "duration": 7,
    "start_time": "2022-04-22T10:53:55.998Z"
   },
   {
    "duration": 18,
    "start_time": "2022-04-22T10:53:56.147Z"
   },
   {
    "duration": 138,
    "start_time": "2022-04-22T10:53:56.460Z"
   },
   {
    "duration": 133,
    "start_time": "2022-04-22T10:53:56.602Z"
   },
   {
    "duration": 6,
    "start_time": "2022-04-22T10:53:56.927Z"
   },
   {
    "duration": 17,
    "start_time": "2022-04-22T10:53:57.055Z"
   },
   {
    "duration": 11,
    "start_time": "2022-04-22T10:53:57.222Z"
   },
   {
    "duration": 17,
    "start_time": "2022-04-22T10:53:57.367Z"
   },
   {
    "duration": 17,
    "start_time": "2022-04-22T10:53:57.809Z"
   },
   {
    "duration": 9,
    "start_time": "2022-04-22T10:53:57.957Z"
   },
   {
    "duration": 6,
    "start_time": "2022-04-22T10:53:58.265Z"
   },
   {
    "duration": 13,
    "start_time": "2022-04-22T10:53:58.423Z"
   },
   {
    "duration": 7,
    "start_time": "2022-04-22T10:53:58.581Z"
   },
   {
    "duration": 12,
    "start_time": "2022-04-22T10:53:58.737Z"
   },
   {
    "duration": 14,
    "start_time": "2022-04-22T10:53:59.406Z"
   },
   {
    "duration": 10,
    "start_time": "2022-04-22T10:53:59.763Z"
   },
   {
    "duration": 3,
    "start_time": "2022-04-22T10:53:59.932Z"
   },
   {
    "duration": 11,
    "start_time": "2022-04-22T10:54:00.266Z"
   },
   {
    "duration": 4,
    "start_time": "2022-04-22T10:54:00.425Z"
   },
   {
    "duration": 8,
    "start_time": "2022-04-22T10:54:01.090Z"
   },
   {
    "duration": 9,
    "start_time": "2022-04-22T10:54:01.255Z"
   },
   {
    "duration": 7,
    "start_time": "2022-04-22T10:54:01.416Z"
   },
   {
    "duration": 6,
    "start_time": "2022-04-22T10:54:01.588Z"
   },
   {
    "duration": 13,
    "start_time": "2022-04-22T10:54:01.752Z"
   },
   {
    "duration": 12,
    "start_time": "2022-04-22T10:54:01.916Z"
   },
   {
    "duration": 10,
    "start_time": "2022-04-22T10:54:02.636Z"
   },
   {
    "duration": 10,
    "start_time": "2022-04-22T10:54:02.648Z"
   },
   {
    "duration": 284,
    "start_time": "2022-04-22T10:54:02.660Z"
   },
   {
    "duration": 12,
    "start_time": "2022-04-22T10:54:03.086Z"
   },
   {
    "duration": 12,
    "start_time": "2022-04-22T10:54:03.258Z"
   },
   {
    "duration": 225,
    "start_time": "2022-04-22T10:54:07.205Z"
   },
   {
    "duration": 240,
    "start_time": "2022-04-22T11:06:45.615Z"
   },
   {
    "duration": 350,
    "start_time": "2022-04-22T11:24:35.816Z"
   },
   {
    "duration": 270,
    "start_time": "2022-04-22T11:27:41.535Z"
   },
   {
    "duration": 10,
    "start_time": "2022-04-22T11:29:52.238Z"
   },
   {
    "duration": 18,
    "start_time": "2022-04-22T11:30:11.145Z"
   },
   {
    "duration": 17,
    "start_time": "2022-04-22T11:30:14.607Z"
   },
   {
    "duration": 12,
    "start_time": "2022-04-22T11:31:15.508Z"
   },
   {
    "duration": 10,
    "start_time": "2022-04-22T11:31:20.147Z"
   },
   {
    "duration": 10,
    "start_time": "2022-04-22T11:32:31.881Z"
   },
   {
    "duration": 11,
    "start_time": "2022-04-22T11:32:33.018Z"
   },
   {
    "duration": 10,
    "start_time": "2022-04-22T11:33:12.265Z"
   },
   {
    "duration": 14,
    "start_time": "2022-04-22T11:33:29.566Z"
   },
   {
    "duration": 13,
    "start_time": "2022-04-22T11:33:35.742Z"
   },
   {
    "duration": 11,
    "start_time": "2022-04-22T11:33:42.183Z"
   },
   {
    "duration": 14,
    "start_time": "2022-04-22T11:33:46.776Z"
   },
   {
    "duration": 197,
    "start_time": "2022-04-22T11:33:50.755Z"
   },
   {
    "duration": 13,
    "start_time": "2022-04-22T11:36:23.385Z"
   },
   {
    "duration": 11,
    "start_time": "2022-04-22T11:36:32.963Z"
   },
   {
    "duration": 266,
    "start_time": "2022-04-22T11:36:37.184Z"
   },
   {
    "duration": 213,
    "start_time": "2022-04-22T11:36:50.006Z"
   },
   {
    "duration": 285,
    "start_time": "2022-04-22T11:36:59.963Z"
   },
   {
    "duration": 6,
    "start_time": "2022-04-22T11:38:12.281Z"
   },
   {
    "duration": 11,
    "start_time": "2022-04-22T11:38:34.979Z"
   },
   {
    "duration": 13,
    "start_time": "2022-04-22T11:38:43.245Z"
   },
   {
    "duration": 205,
    "start_time": "2022-04-22T11:40:10.349Z"
   },
   {
    "duration": 4,
    "start_time": "2022-04-22T11:40:57.482Z"
   },
   {
    "duration": 5,
    "start_time": "2022-04-22T11:41:09.496Z"
   },
   {
    "duration": 9,
    "start_time": "2022-04-22T11:45:57.420Z"
   },
   {
    "duration": 70,
    "start_time": "2022-04-22T11:47:06.079Z"
   },
   {
    "duration": 63,
    "start_time": "2022-04-22T11:47:23.344Z"
   },
   {
    "duration": 119,
    "start_time": "2022-04-22T11:47:31.279Z"
   },
   {
    "duration": 129,
    "start_time": "2022-04-22T11:47:39.700Z"
   },
   {
    "duration": 145,
    "start_time": "2022-04-22T11:48:10.983Z"
   },
   {
    "duration": 142,
    "start_time": "2022-04-22T11:48:22.053Z"
   },
   {
    "duration": 5,
    "start_time": "2022-04-22T11:50:46.124Z"
   },
   {
    "duration": 4,
    "start_time": "2022-04-22T11:50:58.519Z"
   },
   {
    "duration": 2,
    "start_time": "2022-04-22T12:10:57.614Z"
   },
   {
    "duration": 17,
    "start_time": "2022-04-22T12:18:44.962Z"
   },
   {
    "duration": 14,
    "start_time": "2022-04-22T12:19:20.213Z"
   },
   {
    "duration": 15,
    "start_time": "2022-04-22T12:19:49.873Z"
   },
   {
    "duration": 11,
    "start_time": "2022-04-22T12:20:10.334Z"
   },
   {
    "duration": 146,
    "start_time": "2022-04-22T12:20:49.572Z"
   },
   {
    "duration": 141,
    "start_time": "2022-04-22T12:21:02.630Z"
   },
   {
    "duration": 4,
    "start_time": "2022-04-22T12:23:34.347Z"
   },
   {
    "duration": 1348,
    "start_time": "2022-04-22T17:13:59.430Z"
   },
   {
    "duration": 3142,
    "start_time": "2022-04-22T17:14:00.780Z"
   },
   {
    "duration": 10,
    "start_time": "2022-04-22T17:14:03.924Z"
   },
   {
    "duration": 23,
    "start_time": "2022-04-22T17:14:03.990Z"
   },
   {
    "duration": 28,
    "start_time": "2022-04-22T17:14:04.014Z"
   },
   {
    "duration": 10,
    "start_time": "2022-04-22T17:14:04.044Z"
   },
   {
    "duration": 16,
    "start_time": "2022-04-22T17:14:04.056Z"
   },
   {
    "duration": 49,
    "start_time": "2022-04-22T17:14:04.073Z"
   },
   {
    "duration": 11,
    "start_time": "2022-04-22T17:14:04.125Z"
   },
   {
    "duration": 19,
    "start_time": "2022-04-22T17:14:04.139Z"
   },
   {
    "duration": 7,
    "start_time": "2022-04-22T17:14:04.159Z"
   },
   {
    "duration": 7,
    "start_time": "2022-04-22T17:14:04.168Z"
   },
   {
    "duration": 4,
    "start_time": "2022-04-22T17:14:04.177Z"
   },
   {
    "duration": 6,
    "start_time": "2022-04-22T17:14:04.183Z"
   },
   {
    "duration": 22,
    "start_time": "2022-04-22T17:14:04.223Z"
   },
   {
    "duration": 12,
    "start_time": "2022-04-22T17:14:04.247Z"
   },
   {
    "duration": 17,
    "start_time": "2022-04-22T17:14:04.261Z"
   },
   {
    "duration": 189,
    "start_time": "2022-04-22T17:14:04.280Z"
   },
   {
    "duration": 175,
    "start_time": "2022-04-22T17:14:04.472Z"
   },
   {
    "duration": 6,
    "start_time": "2022-04-22T17:14:04.649Z"
   },
   {
    "duration": 17,
    "start_time": "2022-04-22T17:14:04.656Z"
   },
   {
    "duration": 17,
    "start_time": "2022-04-22T17:14:04.675Z"
   },
   {
    "duration": 37,
    "start_time": "2022-04-22T17:14:04.694Z"
   },
   {
    "duration": 17,
    "start_time": "2022-04-22T17:14:04.733Z"
   },
   {
    "duration": 11,
    "start_time": "2022-04-22T17:14:04.752Z"
   },
   {
    "duration": 27,
    "start_time": "2022-04-22T17:14:04.765Z"
   },
   {
    "duration": 17,
    "start_time": "2022-04-22T17:14:04.794Z"
   },
   {
    "duration": 7,
    "start_time": "2022-04-22T17:14:04.815Z"
   },
   {
    "duration": 18,
    "start_time": "2022-04-22T17:14:04.823Z"
   },
   {
    "duration": 21,
    "start_time": "2022-04-22T17:14:04.843Z"
   },
   {
    "duration": 15,
    "start_time": "2022-04-22T17:14:04.865Z"
   },
   {
    "duration": 8,
    "start_time": "2022-04-22T17:14:04.882Z"
   },
   {
    "duration": 12,
    "start_time": "2022-04-22T17:14:04.892Z"
   },
   {
    "duration": 7,
    "start_time": "2022-04-22T17:14:04.906Z"
   },
   {
    "duration": 18,
    "start_time": "2022-04-22T17:14:04.915Z"
   },
   {
    "duration": 20,
    "start_time": "2022-04-22T17:14:04.936Z"
   },
   {
    "duration": 7,
    "start_time": "2022-04-22T17:14:04.957Z"
   },
   {
    "duration": 10,
    "start_time": "2022-04-22T17:14:04.966Z"
   },
   {
    "duration": 18,
    "start_time": "2022-04-22T17:14:04.977Z"
   },
   {
    "duration": 32,
    "start_time": "2022-04-22T17:14:04.997Z"
   },
   {
    "duration": 20,
    "start_time": "2022-04-22T17:14:05.034Z"
   },
   {
    "duration": 13,
    "start_time": "2022-04-22T17:14:05.056Z"
   },
   {
    "duration": 244,
    "start_time": "2022-04-22T17:14:05.071Z"
   },
   {
    "duration": 18,
    "start_time": "2022-04-22T17:14:05.317Z"
   },
   {
    "duration": 23,
    "start_time": "2022-04-22T17:14:05.337Z"
   },
   {
    "duration": 264,
    "start_time": "2022-04-22T17:14:05.362Z"
   },
   {
    "duration": 236,
    "start_time": "2022-04-22T17:14:05.627Z"
   },
   {
    "duration": 411,
    "start_time": "2022-04-22T17:14:05.865Z"
   },
   {
    "duration": 12,
    "start_time": "2022-04-22T17:14:06.278Z"
   },
   {
    "duration": 20,
    "start_time": "2022-04-22T17:14:06.292Z"
   },
   {
    "duration": 263,
    "start_time": "2022-04-22T17:14:06.314Z"
   },
   {
    "duration": 4,
    "start_time": "2022-04-22T17:14:06.579Z"
   },
   {
    "duration": 7,
    "start_time": "2022-04-22T17:14:06.585Z"
   },
   {
    "duration": 33,
    "start_time": "2022-04-22T17:14:06.593Z"
   },
   {
    "duration": 156,
    "start_time": "2022-04-22T17:14:06.628Z"
   },
   {
    "duration": 205,
    "start_time": "2022-04-22T17:14:06.785Z"
   },
   {
    "duration": 5,
    "start_time": "2022-04-22T17:14:06.992Z"
   },
   {
    "duration": 28,
    "start_time": "2022-04-22T17:14:06.999Z"
   },
   {
    "duration": 270,
    "start_time": "2022-04-22T17:14:07.029Z"
   },
   {
    "duration": 4,
    "start_time": "2022-04-22T17:14:07.301Z"
   },
   {
    "duration": 1128,
    "start_time": "2022-04-22T17:17:58.876Z"
   },
   {
    "duration": 2091,
    "start_time": "2022-04-22T17:18:00.006Z"
   },
   {
    "duration": 5,
    "start_time": "2022-04-22T17:18:02.099Z"
   },
   {
    "duration": 28,
    "start_time": "2022-04-22T17:18:02.170Z"
   },
   {
    "duration": 27,
    "start_time": "2022-04-22T17:18:02.200Z"
   },
   {
    "duration": 17,
    "start_time": "2022-04-22T17:18:02.232Z"
   },
   {
    "duration": 17,
    "start_time": "2022-04-22T17:18:02.251Z"
   },
   {
    "duration": 47,
    "start_time": "2022-04-22T17:18:02.270Z"
   },
   {
    "duration": 12,
    "start_time": "2022-04-22T17:18:02.319Z"
   },
   {
    "duration": 44,
    "start_time": "2022-04-22T17:18:02.333Z"
   },
   {
    "duration": 26,
    "start_time": "2022-04-22T17:18:02.379Z"
   },
   {
    "duration": 15,
    "start_time": "2022-04-22T17:18:02.407Z"
   },
   {
    "duration": 25,
    "start_time": "2022-04-22T17:18:02.429Z"
   },
   {
    "duration": 11,
    "start_time": "2022-04-22T17:18:02.456Z"
   },
   {
    "duration": 19,
    "start_time": "2022-04-22T17:18:02.468Z"
   },
   {
    "duration": 6,
    "start_time": "2022-04-22T17:18:02.489Z"
   },
   {
    "duration": 16,
    "start_time": "2022-04-22T17:18:02.497Z"
   },
   {
    "duration": 2,
    "start_time": "2022-04-22T17:18:02.515Z"
   },
   {
    "duration": 33,
    "start_time": "2022-04-22T17:18:02.519Z"
   },
   {
    "duration": 6,
    "start_time": "2022-04-22T17:18:02.554Z"
   },
   {
    "duration": 6,
    "start_time": "2022-04-22T17:18:02.562Z"
   },
   {
    "duration": 14,
    "start_time": "2022-04-22T17:18:02.569Z"
   },
   {
    "duration": 17,
    "start_time": "2022-04-22T17:18:02.584Z"
   },
   {
    "duration": 9,
    "start_time": "2022-04-22T17:18:02.602Z"
   },
   {
    "duration": 26,
    "start_time": "2022-04-22T17:18:02.613Z"
   },
   {
    "duration": 35,
    "start_time": "2022-04-22T17:18:02.643Z"
   },
   {
    "duration": 7,
    "start_time": "2022-04-22T17:18:02.680Z"
   },
   {
    "duration": 12,
    "start_time": "2022-04-22T17:18:02.691Z"
   },
   {
    "duration": 9,
    "start_time": "2022-04-22T17:18:02.704Z"
   },
   {
    "duration": 21,
    "start_time": "2022-04-22T17:18:02.715Z"
   },
   {
    "duration": 29,
    "start_time": "2022-04-22T17:18:02.737Z"
   },
   {
    "duration": 13,
    "start_time": "2022-04-22T17:18:02.768Z"
   },
   {
    "duration": 9,
    "start_time": "2022-04-22T17:18:02.782Z"
   },
   {
    "duration": 11,
    "start_time": "2022-04-22T17:18:02.792Z"
   },
   {
    "duration": 12,
    "start_time": "2022-04-22T17:18:02.805Z"
   },
   {
    "duration": 25,
    "start_time": "2022-04-22T17:18:02.818Z"
   },
   {
    "duration": 23,
    "start_time": "2022-04-22T17:18:02.845Z"
   },
   {
    "duration": 17,
    "start_time": "2022-04-22T17:18:02.870Z"
   },
   {
    "duration": 12,
    "start_time": "2022-04-22T17:18:02.888Z"
   },
   {
    "duration": 10,
    "start_time": "2022-04-22T17:18:02.902Z"
   },
   {
    "duration": 15,
    "start_time": "2022-04-22T17:18:02.914Z"
   },
   {
    "duration": 300,
    "start_time": "2022-04-22T17:18:02.932Z"
   },
   {
    "duration": 15,
    "start_time": "2022-04-22T17:18:03.235Z"
   },
   {
    "duration": 25,
    "start_time": "2022-04-22T17:18:03.252Z"
   },
   {
    "duration": 187,
    "start_time": "2022-04-22T17:18:03.279Z"
   },
   {
    "duration": 190,
    "start_time": "2022-04-22T17:18:03.468Z"
   },
   {
    "duration": 325,
    "start_time": "2022-04-22T17:18:03.660Z"
   },
   {
    "duration": 12,
    "start_time": "2022-04-22T17:18:03.987Z"
   },
   {
    "duration": 18,
    "start_time": "2022-04-22T17:18:04.000Z"
   },
   {
    "duration": 307,
    "start_time": "2022-04-22T17:18:04.031Z"
   },
   {
    "duration": 8,
    "start_time": "2022-04-22T17:18:04.342Z"
   },
   {
    "duration": 20,
    "start_time": "2022-04-22T17:18:04.352Z"
   },
   {
    "duration": 14,
    "start_time": "2022-04-22T17:18:04.374Z"
   },
   {
    "duration": 122,
    "start_time": "2022-04-22T17:18:04.390Z"
   },
   {
    "duration": 147,
    "start_time": "2022-04-22T17:18:04.527Z"
   },
   {
    "duration": 5,
    "start_time": "2022-04-22T17:18:04.675Z"
   },
   {
    "duration": 38,
    "start_time": "2022-04-22T17:18:04.681Z"
   },
   {
    "duration": 186,
    "start_time": "2022-04-22T17:18:04.721Z"
   },
   {
    "duration": 3,
    "start_time": "2022-04-22T17:18:04.909Z"
   },
   {
    "duration": 11,
    "start_time": "2022-04-22T17:19:24.863Z"
   },
   {
    "duration": 7,
    "start_time": "2022-04-22T17:19:34.547Z"
   },
   {
    "duration": 990,
    "start_time": "2022-04-22T17:25:12.264Z"
   },
   {
    "duration": 1929,
    "start_time": "2022-04-22T17:25:13.256Z"
   },
   {
    "duration": 5,
    "start_time": "2022-04-22T17:25:15.187Z"
   },
   {
    "duration": 18,
    "start_time": "2022-04-22T17:25:15.246Z"
   },
   {
    "duration": 24,
    "start_time": "2022-04-22T17:25:15.265Z"
   },
   {
    "duration": 10,
    "start_time": "2022-04-22T17:25:15.290Z"
   },
   {
    "duration": 13,
    "start_time": "2022-04-22T17:25:15.302Z"
   },
   {
    "duration": 50,
    "start_time": "2022-04-22T17:25:15.317Z"
   },
   {
    "duration": 7,
    "start_time": "2022-04-22T17:25:15.368Z"
   },
   {
    "duration": 19,
    "start_time": "2022-04-22T17:25:15.378Z"
   },
   {
    "duration": 29,
    "start_time": "2022-04-22T17:25:15.399Z"
   },
   {
    "duration": 18,
    "start_time": "2022-04-22T17:25:15.429Z"
   },
   {
    "duration": 11,
    "start_time": "2022-04-22T17:25:15.448Z"
   },
   {
    "duration": 10,
    "start_time": "2022-04-22T17:25:15.461Z"
   },
   {
    "duration": 13,
    "start_time": "2022-04-22T17:25:15.473Z"
   },
   {
    "duration": 8,
    "start_time": "2022-04-22T17:25:15.488Z"
   },
   {
    "duration": 20,
    "start_time": "2022-04-22T17:25:15.497Z"
   },
   {
    "duration": 123,
    "start_time": "2022-04-22T17:25:15.518Z"
   },
   {
    "duration": 121,
    "start_time": "2022-04-22T17:25:15.643Z"
   },
   {
    "duration": 7,
    "start_time": "2022-04-22T17:25:15.765Z"
   },
   {
    "duration": 15,
    "start_time": "2022-04-22T17:25:15.773Z"
   },
   {
    "duration": 10,
    "start_time": "2022-04-22T17:25:15.789Z"
   },
   {
    "duration": 25,
    "start_time": "2022-04-22T17:25:15.801Z"
   },
   {
    "duration": 11,
    "start_time": "2022-04-22T17:25:15.827Z"
   },
   {
    "duration": 14,
    "start_time": "2022-04-22T17:25:15.840Z"
   },
   {
    "duration": 13,
    "start_time": "2022-04-22T17:25:15.855Z"
   },
   {
    "duration": 4,
    "start_time": "2022-04-22T17:25:15.870Z"
   },
   {
    "duration": 12,
    "start_time": "2022-04-22T17:25:15.877Z"
   },
   {
    "duration": 10,
    "start_time": "2022-04-22T17:25:15.890Z"
   },
   {
    "duration": 28,
    "start_time": "2022-04-22T17:25:15.901Z"
   },
   {
    "duration": 9,
    "start_time": "2022-04-22T17:25:15.934Z"
   },
   {
    "duration": 13,
    "start_time": "2022-04-22T17:25:15.945Z"
   },
   {
    "duration": 4,
    "start_time": "2022-04-22T17:25:15.960Z"
   },
   {
    "duration": 12,
    "start_time": "2022-04-22T17:25:15.966Z"
   },
   {
    "duration": 8,
    "start_time": "2022-04-22T17:25:15.979Z"
   },
   {
    "duration": 8,
    "start_time": "2022-04-22T17:25:15.989Z"
   },
   {
    "duration": 25,
    "start_time": "2022-04-22T17:25:15.999Z"
   },
   {
    "duration": 13,
    "start_time": "2022-04-22T17:25:16.028Z"
   },
   {
    "duration": 18,
    "start_time": "2022-04-22T17:25:16.043Z"
   },
   {
    "duration": 8,
    "start_time": "2022-04-22T17:25:16.063Z"
   },
   {
    "duration": 11,
    "start_time": "2022-04-22T17:25:16.072Z"
   },
   {
    "duration": 251,
    "start_time": "2022-04-22T17:25:16.085Z"
   },
   {
    "duration": 13,
    "start_time": "2022-04-22T17:25:16.338Z"
   },
   {
    "duration": 13,
    "start_time": "2022-04-22T17:25:16.353Z"
   },
   {
    "duration": 184,
    "start_time": "2022-04-22T17:25:16.368Z"
   },
   {
    "duration": 226,
    "start_time": "2022-04-22T17:25:16.554Z"
   },
   {
    "duration": 309,
    "start_time": "2022-04-22T17:25:16.782Z"
   },
   {
    "duration": 11,
    "start_time": "2022-04-22T17:25:17.093Z"
   },
   {
    "duration": 23,
    "start_time": "2022-04-22T17:25:17.106Z"
   },
   {
    "duration": 203,
    "start_time": "2022-04-22T17:25:17.132Z"
   },
   {
    "duration": 4,
    "start_time": "2022-04-22T17:25:17.340Z"
   },
   {
    "duration": 7,
    "start_time": "2022-04-22T17:25:17.345Z"
   },
   {
    "duration": 10,
    "start_time": "2022-04-22T17:25:17.353Z"
   },
   {
    "duration": 120,
    "start_time": "2022-04-22T17:25:17.365Z"
   },
   {
    "duration": 128,
    "start_time": "2022-04-22T17:25:17.487Z"
   },
   {
    "duration": 12,
    "start_time": "2022-04-22T17:25:17.617Z"
   },
   {
    "duration": 17,
    "start_time": "2022-04-22T17:25:17.631Z"
   },
   {
    "duration": 197,
    "start_time": "2022-04-22T17:25:17.650Z"
   },
   {
    "duration": 5,
    "start_time": "2022-04-22T17:25:17.849Z"
   },
   {
    "duration": 1169,
    "start_time": "2022-04-22T18:49:16.486Z"
   },
   {
    "duration": 2060,
    "start_time": "2022-04-22T18:49:17.659Z"
   },
   {
    "duration": 6,
    "start_time": "2022-04-22T18:49:19.722Z"
   },
   {
    "duration": 29,
    "start_time": "2022-04-22T18:49:19.823Z"
   },
   {
    "duration": 31,
    "start_time": "2022-04-22T18:49:19.854Z"
   },
   {
    "duration": 15,
    "start_time": "2022-04-22T18:49:19.887Z"
   },
   {
    "duration": 26,
    "start_time": "2022-04-22T18:49:19.905Z"
   },
   {
    "duration": 81,
    "start_time": "2022-04-22T18:49:19.934Z"
   },
   {
    "duration": 8,
    "start_time": "2022-04-22T18:49:20.017Z"
   },
   {
    "duration": 50,
    "start_time": "2022-04-22T18:49:20.028Z"
   },
   {
    "duration": 10,
    "start_time": "2022-04-22T18:49:20.080Z"
   },
   {
    "duration": 12,
    "start_time": "2022-04-22T18:49:20.092Z"
   },
   {
    "duration": 8,
    "start_time": "2022-04-22T18:49:20.106Z"
   },
   {
    "duration": 17,
    "start_time": "2022-04-22T18:49:20.117Z"
   },
   {
    "duration": 31,
    "start_time": "2022-04-22T18:49:20.136Z"
   },
   {
    "duration": 11,
    "start_time": "2022-04-22T18:49:20.169Z"
   },
   {
    "duration": 24,
    "start_time": "2022-04-22T18:49:20.182Z"
   },
   {
    "duration": 158,
    "start_time": "2022-04-22T18:49:20.208Z"
   },
   {
    "duration": 203,
    "start_time": "2022-04-22T18:49:20.368Z"
   },
   {
    "duration": 6,
    "start_time": "2022-04-22T18:49:20.573Z"
   },
   {
    "duration": 19,
    "start_time": "2022-04-22T18:49:20.580Z"
   },
   {
    "duration": 18,
    "start_time": "2022-04-22T18:49:20.623Z"
   },
   {
    "duration": 28,
    "start_time": "2022-04-22T18:49:20.643Z"
   },
   {
    "duration": 10,
    "start_time": "2022-04-22T18:49:20.673Z"
   },
   {
    "duration": 9,
    "start_time": "2022-04-22T18:49:20.684Z"
   },
   {
    "duration": 14,
    "start_time": "2022-04-22T18:49:20.694Z"
   },
   {
    "duration": 17,
    "start_time": "2022-04-22T18:49:20.710Z"
   },
   {
    "duration": 19,
    "start_time": "2022-04-22T18:49:20.733Z"
   },
   {
    "duration": 19,
    "start_time": "2022-04-22T18:49:20.754Z"
   },
   {
    "duration": 20,
    "start_time": "2022-04-22T18:49:20.775Z"
   },
   {
    "duration": 10,
    "start_time": "2022-04-22T18:49:20.797Z"
   },
   {
    "duration": 55,
    "start_time": "2022-04-22T18:49:20.809Z"
   },
   {
    "duration": 6,
    "start_time": "2022-04-22T18:49:20.867Z"
   },
   {
    "duration": 15,
    "start_time": "2022-04-22T18:49:20.875Z"
   },
   {
    "duration": 13,
    "start_time": "2022-04-22T18:49:20.892Z"
   },
   {
    "duration": 7,
    "start_time": "2022-04-22T18:49:20.907Z"
   },
   {
    "duration": 40,
    "start_time": "2022-04-22T18:49:20.915Z"
   },
   {
    "duration": 18,
    "start_time": "2022-04-22T18:49:20.957Z"
   },
   {
    "duration": 17,
    "start_time": "2022-04-22T18:49:20.976Z"
   },
   {
    "duration": 12,
    "start_time": "2022-04-22T18:49:20.994Z"
   },
   {
    "duration": 26,
    "start_time": "2022-04-22T18:49:21.008Z"
   },
   {
    "duration": 325,
    "start_time": "2022-04-22T18:49:21.036Z"
   },
   {
    "duration": 13,
    "start_time": "2022-04-22T18:49:21.365Z"
   },
   {
    "duration": 14,
    "start_time": "2022-04-22T18:49:21.381Z"
   },
   {
    "duration": 302,
    "start_time": "2022-04-22T18:49:21.397Z"
   },
   {
    "duration": 275,
    "start_time": "2022-04-22T18:49:21.701Z"
   },
   {
    "duration": 316,
    "start_time": "2022-04-22T18:49:21.978Z"
   },
   {
    "duration": 15,
    "start_time": "2022-04-22T18:49:22.296Z"
   },
   {
    "duration": 38,
    "start_time": "2022-04-22T18:49:22.313Z"
   },
   {
    "duration": 299,
    "start_time": "2022-04-22T18:49:22.353Z"
   },
   {
    "duration": 5,
    "start_time": "2022-04-22T18:49:22.658Z"
   },
   {
    "duration": 21,
    "start_time": "2022-04-22T18:49:22.666Z"
   },
   {
    "duration": 15,
    "start_time": "2022-04-22T18:49:22.689Z"
   },
   {
    "duration": 165,
    "start_time": "2022-04-22T18:49:22.707Z"
   },
   {
    "duration": 225,
    "start_time": "2022-04-22T18:49:22.878Z"
   },
   {
    "duration": 8,
    "start_time": "2022-04-22T18:49:23.106Z"
   },
   {
    "duration": 39,
    "start_time": "2022-04-22T18:49:23.128Z"
   },
   {
    "duration": 279,
    "start_time": "2022-04-22T18:49:23.169Z"
   },
   {
    "duration": 4,
    "start_time": "2022-04-22T18:49:23.449Z"
   },
   {
    "duration": 9,
    "start_time": "2022-04-22T18:58:18.625Z"
   },
   {
    "duration": 12,
    "start_time": "2022-04-22T18:58:39.406Z"
   },
   {
    "duration": 6,
    "start_time": "2022-04-22T19:00:51.730Z"
   },
   {
    "duration": 5,
    "start_time": "2022-04-22T19:01:19.824Z"
   },
   {
    "duration": 4,
    "start_time": "2022-04-22T19:02:03.107Z"
   },
   {
    "duration": 98,
    "start_time": "2022-04-22T19:03:13.170Z"
   },
   {
    "duration": 3,
    "start_time": "2022-04-22T19:04:17.652Z"
   },
   {
    "duration": 5,
    "start_time": "2022-04-22T19:04:23.654Z"
   },
   {
    "duration": 31,
    "start_time": "2022-04-22T19:09:24.394Z"
   },
   {
    "duration": 9,
    "start_time": "2022-04-22T19:14:37.055Z"
   },
   {
    "duration": 19,
    "start_time": "2022-04-22T19:15:28.714Z"
   },
   {
    "duration": 8,
    "start_time": "2022-04-22T19:15:42.266Z"
   },
   {
    "duration": 9,
    "start_time": "2022-04-22T19:16:47.172Z"
   },
   {
    "duration": 8,
    "start_time": "2022-04-22T19:18:05.049Z"
   },
   {
    "duration": 9,
    "start_time": "2022-04-22T19:18:29.667Z"
   },
   {
    "duration": 4,
    "start_time": "2022-04-22T19:21:46.724Z"
   },
   {
    "duration": 2169,
    "start_time": "2022-04-22T19:21:53.995Z"
   },
   {
    "duration": 14,
    "start_time": "2022-04-22T19:22:21.865Z"
   },
   {
    "duration": 9,
    "start_time": "2022-04-22T19:23:33.892Z"
   },
   {
    "duration": 9,
    "start_time": "2022-04-22T19:24:11.087Z"
   },
   {
    "duration": 13,
    "start_time": "2022-04-22T19:24:22.259Z"
   },
   {
    "duration": 8,
    "start_time": "2022-04-22T19:24:51.179Z"
   },
   {
    "duration": 9,
    "start_time": "2022-04-22T19:25:10.676Z"
   },
   {
    "duration": 14,
    "start_time": "2022-04-22T19:25:39.658Z"
   },
   {
    "duration": 9,
    "start_time": "2022-04-22T19:26:16.611Z"
   },
   {
    "duration": 12,
    "start_time": "2022-04-22T19:26:45.167Z"
   },
   {
    "duration": 8,
    "start_time": "2022-04-22T19:30:13.506Z"
   },
   {
    "duration": 8,
    "start_time": "2022-04-22T19:31:37.767Z"
   },
   {
    "duration": 13,
    "start_time": "2022-04-22T19:32:00.502Z"
   },
   {
    "duration": 6,
    "start_time": "2022-04-22T19:32:58.496Z"
   },
   {
    "duration": 4,
    "start_time": "2022-04-22T19:33:05.358Z"
   },
   {
    "duration": 9,
    "start_time": "2022-04-22T19:33:30.257Z"
   },
   {
    "duration": 16,
    "start_time": "2022-04-22T19:33:52.817Z"
   },
   {
    "duration": 11,
    "start_time": "2022-04-22T19:34:19.441Z"
   },
   {
    "duration": 986,
    "start_time": "2022-04-22T19:34:43.981Z"
   },
   {
    "duration": 1943,
    "start_time": "2022-04-22T19:34:44.969Z"
   },
   {
    "duration": 72,
    "start_time": "2022-04-22T19:34:46.914Z"
   },
   {
    "duration": 18,
    "start_time": "2022-04-22T19:34:46.987Z"
   },
   {
    "duration": 34,
    "start_time": "2022-04-22T19:34:47.007Z"
   },
   {
    "duration": 13,
    "start_time": "2022-04-22T19:34:47.043Z"
   },
   {
    "duration": 19,
    "start_time": "2022-04-22T19:34:47.058Z"
   },
   {
    "duration": 53,
    "start_time": "2022-04-22T19:34:47.079Z"
   },
   {
    "duration": 7,
    "start_time": "2022-04-22T19:34:47.134Z"
   },
   {
    "duration": 19,
    "start_time": "2022-04-22T19:34:47.142Z"
   },
   {
    "duration": 6,
    "start_time": "2022-04-22T19:34:47.163Z"
   },
   {
    "duration": 6,
    "start_time": "2022-04-22T19:34:47.170Z"
   },
   {
    "duration": 5,
    "start_time": "2022-04-22T19:34:47.178Z"
   },
   {
    "duration": 50,
    "start_time": "2022-04-22T19:34:47.186Z"
   },
   {
    "duration": 13,
    "start_time": "2022-04-22T19:34:47.239Z"
   },
   {
    "duration": 8,
    "start_time": "2022-04-22T19:34:47.254Z"
   },
   {
    "duration": 17,
    "start_time": "2022-04-22T19:34:47.263Z"
   },
   {
    "duration": 142,
    "start_time": "2022-04-22T19:34:47.282Z"
   },
   {
    "duration": 126,
    "start_time": "2022-04-22T19:34:47.426Z"
   },
   {
    "duration": 5,
    "start_time": "2022-04-22T19:34:47.554Z"
   },
   {
    "duration": 15,
    "start_time": "2022-04-22T19:34:47.561Z"
   },
   {
    "duration": 13,
    "start_time": "2022-04-22T19:34:47.577Z"
   },
   {
    "duration": 16,
    "start_time": "2022-04-22T19:34:47.591Z"
   },
   {
    "duration": 13,
    "start_time": "2022-04-22T19:34:47.628Z"
   },
   {
    "duration": 8,
    "start_time": "2022-04-22T19:34:47.643Z"
   },
   {
    "duration": 13,
    "start_time": "2022-04-22T19:34:47.652Z"
   },
   {
    "duration": 5,
    "start_time": "2022-04-22T19:34:47.667Z"
   },
   {
    "duration": 12,
    "start_time": "2022-04-22T19:34:47.673Z"
   },
   {
    "duration": 10,
    "start_time": "2022-04-22T19:34:47.686Z"
   },
   {
    "duration": 17,
    "start_time": "2022-04-22T19:34:47.724Z"
   },
   {
    "duration": 6,
    "start_time": "2022-04-22T19:34:47.743Z"
   },
   {
    "duration": 12,
    "start_time": "2022-04-22T19:34:47.750Z"
   },
   {
    "duration": 4,
    "start_time": "2022-04-22T19:34:47.763Z"
   },
   {
    "duration": 10,
    "start_time": "2022-04-22T19:34:47.769Z"
   },
   {
    "duration": 9,
    "start_time": "2022-04-22T19:34:47.781Z"
   },
   {
    "duration": 5,
    "start_time": "2022-04-22T19:34:47.792Z"
   },
   {
    "duration": 8,
    "start_time": "2022-04-22T19:34:47.828Z"
   },
   {
    "duration": 17,
    "start_time": "2022-04-22T19:34:47.838Z"
   },
   {
    "duration": 12,
    "start_time": "2022-04-22T19:34:47.857Z"
   },
   {
    "duration": 11,
    "start_time": "2022-04-22T19:34:47.871Z"
   },
   {
    "duration": 45,
    "start_time": "2022-04-22T19:34:47.887Z"
   },
   {
    "duration": 256,
    "start_time": "2022-04-22T19:34:47.934Z"
   },
   {
    "duration": 11,
    "start_time": "2022-04-22T19:34:48.192Z"
   },
   {
    "duration": 12,
    "start_time": "2022-04-22T19:34:48.205Z"
   },
   {
    "duration": 185,
    "start_time": "2022-04-22T19:34:48.223Z"
   },
   {
    "duration": 206,
    "start_time": "2022-04-22T19:34:48.410Z"
   },
   {
    "duration": 389,
    "start_time": "2022-04-22T19:34:48.618Z"
   },
   {
    "duration": 14,
    "start_time": "2022-04-22T19:34:49.009Z"
   },
   {
    "duration": 17,
    "start_time": "2022-04-22T19:34:49.025Z"
   },
   {
    "duration": 183,
    "start_time": "2022-04-22T19:34:49.044Z"
   },
   {
    "duration": 5,
    "start_time": "2022-04-22T19:34:49.229Z"
   },
   {
    "duration": 11,
    "start_time": "2022-04-22T19:34:49.236Z"
   },
   {
    "duration": 12,
    "start_time": "2022-04-22T19:34:49.248Z"
   },
   {
    "duration": 132,
    "start_time": "2022-04-22T19:34:49.261Z"
   },
   {
    "duration": 179,
    "start_time": "2022-04-22T19:34:49.395Z"
   },
   {
    "duration": 4,
    "start_time": "2022-04-22T19:34:49.577Z"
   },
   {
    "duration": 12,
    "start_time": "2022-04-22T19:34:49.583Z"
   },
   {
    "duration": 245,
    "start_time": "2022-04-22T19:34:49.596Z"
   },
   {
    "duration": 4,
    "start_time": "2022-04-22T19:34:49.843Z"
   },
   {
    "duration": 11,
    "start_time": "2022-04-22T19:34:49.849Z"
   },
   {
    "duration": 13,
    "start_time": "2022-04-22T19:34:49.862Z"
   },
   {
    "duration": 107,
    "start_time": "2022-04-22T19:34:49.877Z"
   },
   {
    "duration": 0,
    "start_time": "2022-04-22T19:34:49.986Z"
   },
   {
    "duration": 0,
    "start_time": "2022-04-22T19:34:49.987Z"
   },
   {
    "duration": 0,
    "start_time": "2022-04-22T19:34:49.989Z"
   },
   {
    "duration": 0,
    "start_time": "2022-04-22T19:34:49.990Z"
   },
   {
    "duration": 0,
    "start_time": "2022-04-22T19:34:49.991Z"
   },
   {
    "duration": 0,
    "start_time": "2022-04-22T19:34:49.992Z"
   },
   {
    "duration": 0,
    "start_time": "2022-04-22T19:34:49.993Z"
   },
   {
    "duration": 0,
    "start_time": "2022-04-22T19:34:49.994Z"
   },
   {
    "duration": 0,
    "start_time": "2022-04-22T19:34:49.995Z"
   },
   {
    "duration": 10,
    "start_time": "2022-04-22T19:34:58.125Z"
   },
   {
    "duration": 11,
    "start_time": "2022-04-22T19:35:12.252Z"
   },
   {
    "duration": 9,
    "start_time": "2022-04-22T19:35:51.441Z"
   },
   {
    "duration": 10,
    "start_time": "2022-04-22T19:36:09.160Z"
   },
   {
    "duration": 16,
    "start_time": "2022-04-22T19:36:18.976Z"
   },
   {
    "duration": 14,
    "start_time": "2022-04-22T19:36:37.855Z"
   },
   {
    "duration": 14,
    "start_time": "2022-04-22T19:36:46.549Z"
   },
   {
    "duration": 14,
    "start_time": "2022-04-22T19:39:34.207Z"
   },
   {
    "duration": 12,
    "start_time": "2022-04-22T19:39:48.863Z"
   },
   {
    "duration": 11,
    "start_time": "2022-04-22T19:39:54.808Z"
   },
   {
    "duration": 16,
    "start_time": "2022-04-22T19:40:47.539Z"
   },
   {
    "duration": 6,
    "start_time": "2022-04-22T19:41:09.251Z"
   },
   {
    "duration": 6,
    "start_time": "2022-04-22T19:41:17.984Z"
   },
   {
    "duration": 8,
    "start_time": "2022-04-22T19:41:26.750Z"
   },
   {
    "duration": 10,
    "start_time": "2022-04-22T19:41:57.481Z"
   },
   {
    "duration": 10,
    "start_time": "2022-04-22T19:43:56.579Z"
   },
   {
    "duration": 10,
    "start_time": "2022-04-22T19:44:20.434Z"
   },
   {
    "duration": 11,
    "start_time": "2022-04-22T19:45:14.476Z"
   },
   {
    "duration": 11,
    "start_time": "2022-04-22T19:45:50.570Z"
   },
   {
    "duration": 18,
    "start_time": "2022-04-22T19:46:02.618Z"
   },
   {
    "duration": 21,
    "start_time": "2022-04-22T19:51:16.309Z"
   },
   {
    "duration": 18,
    "start_time": "2022-04-22T19:52:22.891Z"
   },
   {
    "duration": 4,
    "start_time": "2022-04-22T19:52:40.454Z"
   },
   {
    "duration": 4,
    "start_time": "2022-04-22T19:52:41.743Z"
   },
   {
    "duration": 3,
    "start_time": "2022-04-22T19:52:49.348Z"
   },
   {
    "duration": 4,
    "start_time": "2022-04-22T19:52:50.465Z"
   },
   {
    "duration": 24,
    "start_time": "2022-04-22T19:53:59.196Z"
   },
   {
    "duration": 4,
    "start_time": "2022-04-22T19:54:24.095Z"
   },
   {
    "duration": 5,
    "start_time": "2022-04-22T19:54:48.031Z"
   },
   {
    "duration": 48,
    "start_time": "2022-04-23T08:52:03.733Z"
   },
   {
    "duration": 1325,
    "start_time": "2022-04-23T08:52:18.496Z"
   },
   {
    "duration": 99528,
    "start_time": "2022-04-23T08:52:19.823Z"
   },
   {
    "duration": 102,
    "start_time": "2022-04-23T08:53:59.353Z"
   },
   {
    "duration": 0,
    "start_time": "2022-04-23T08:53:59.520Z"
   },
   {
    "duration": 0,
    "start_time": "2022-04-23T08:53:59.521Z"
   },
   {
    "duration": 0,
    "start_time": "2022-04-23T08:53:59.523Z"
   },
   {
    "duration": 0,
    "start_time": "2022-04-23T08:53:59.524Z"
   },
   {
    "duration": 0,
    "start_time": "2022-04-23T08:53:59.533Z"
   },
   {
    "duration": 0,
    "start_time": "2022-04-23T08:53:59.535Z"
   },
   {
    "duration": 0,
    "start_time": "2022-04-23T08:53:59.536Z"
   },
   {
    "duration": 0,
    "start_time": "2022-04-23T08:53:59.538Z"
   },
   {
    "duration": 0,
    "start_time": "2022-04-23T08:53:59.539Z"
   },
   {
    "duration": 0,
    "start_time": "2022-04-23T08:53:59.541Z"
   },
   {
    "duration": 0,
    "start_time": "2022-04-23T08:53:59.542Z"
   },
   {
    "duration": 1,
    "start_time": "2022-04-23T08:53:59.543Z"
   },
   {
    "duration": 0,
    "start_time": "2022-04-23T08:53:59.545Z"
   },
   {
    "duration": 0,
    "start_time": "2022-04-23T08:53:59.546Z"
   },
   {
    "duration": 0,
    "start_time": "2022-04-23T08:53:59.548Z"
   },
   {
    "duration": 0,
    "start_time": "2022-04-23T08:53:59.549Z"
   },
   {
    "duration": 0,
    "start_time": "2022-04-23T08:53:59.551Z"
   },
   {
    "duration": 0,
    "start_time": "2022-04-23T08:53:59.553Z"
   },
   {
    "duration": 0,
    "start_time": "2022-04-23T08:53:59.554Z"
   },
   {
    "duration": 0,
    "start_time": "2022-04-23T08:53:59.555Z"
   },
   {
    "duration": 0,
    "start_time": "2022-04-23T08:53:59.557Z"
   },
   {
    "duration": 0,
    "start_time": "2022-04-23T08:53:59.559Z"
   },
   {
    "duration": 0,
    "start_time": "2022-04-23T08:53:59.560Z"
   },
   {
    "duration": 0,
    "start_time": "2022-04-23T08:53:59.561Z"
   },
   {
    "duration": 0,
    "start_time": "2022-04-23T08:53:59.562Z"
   },
   {
    "duration": 0,
    "start_time": "2022-04-23T08:53:59.564Z"
   },
   {
    "duration": 0,
    "start_time": "2022-04-23T08:53:59.565Z"
   },
   {
    "duration": 0,
    "start_time": "2022-04-23T08:53:59.566Z"
   },
   {
    "duration": 0,
    "start_time": "2022-04-23T08:53:59.567Z"
   },
   {
    "duration": 0,
    "start_time": "2022-04-23T08:53:59.568Z"
   },
   {
    "duration": 0,
    "start_time": "2022-04-23T08:53:59.569Z"
   },
   {
    "duration": 0,
    "start_time": "2022-04-23T08:53:59.570Z"
   },
   {
    "duration": 0,
    "start_time": "2022-04-23T08:53:59.571Z"
   },
   {
    "duration": 0,
    "start_time": "2022-04-23T08:53:59.572Z"
   },
   {
    "duration": 0,
    "start_time": "2022-04-23T08:53:59.634Z"
   },
   {
    "duration": 0,
    "start_time": "2022-04-23T08:53:59.635Z"
   },
   {
    "duration": 0,
    "start_time": "2022-04-23T08:53:59.637Z"
   },
   {
    "duration": 0,
    "start_time": "2022-04-23T08:53:59.638Z"
   },
   {
    "duration": 0,
    "start_time": "2022-04-23T08:53:59.639Z"
   },
   {
    "duration": 0,
    "start_time": "2022-04-23T08:53:59.640Z"
   },
   {
    "duration": 0,
    "start_time": "2022-04-23T08:53:59.641Z"
   },
   {
    "duration": 0,
    "start_time": "2022-04-23T08:53:59.642Z"
   },
   {
    "duration": 0,
    "start_time": "2022-04-23T08:53:59.643Z"
   },
   {
    "duration": 0,
    "start_time": "2022-04-23T08:53:59.644Z"
   },
   {
    "duration": 0,
    "start_time": "2022-04-23T08:53:59.645Z"
   },
   {
    "duration": 0,
    "start_time": "2022-04-23T08:53:59.646Z"
   },
   {
    "duration": 0,
    "start_time": "2022-04-23T08:53:59.648Z"
   },
   {
    "duration": 0,
    "start_time": "2022-04-23T08:53:59.649Z"
   },
   {
    "duration": 0,
    "start_time": "2022-04-23T08:53:59.650Z"
   },
   {
    "duration": 0,
    "start_time": "2022-04-23T08:53:59.651Z"
   },
   {
    "duration": 0,
    "start_time": "2022-04-23T08:53:59.652Z"
   },
   {
    "duration": 0,
    "start_time": "2022-04-23T08:53:59.654Z"
   },
   {
    "duration": 0,
    "start_time": "2022-04-23T08:53:59.655Z"
   },
   {
    "duration": 0,
    "start_time": "2022-04-23T08:53:59.656Z"
   },
   {
    "duration": 0,
    "start_time": "2022-04-23T08:53:59.657Z"
   },
   {
    "duration": 0,
    "start_time": "2022-04-23T08:53:59.658Z"
   },
   {
    "duration": 0,
    "start_time": "2022-04-23T08:53:59.659Z"
   },
   {
    "duration": 0,
    "start_time": "2022-04-23T08:53:59.660Z"
   },
   {
    "duration": 0,
    "start_time": "2022-04-23T08:53:59.661Z"
   },
   {
    "duration": 0,
    "start_time": "2022-04-23T08:53:59.662Z"
   },
   {
    "duration": 0,
    "start_time": "2022-04-23T08:53:59.663Z"
   },
   {
    "duration": 0,
    "start_time": "2022-04-23T08:53:59.664Z"
   },
   {
    "duration": 0,
    "start_time": "2022-04-23T08:53:59.665Z"
   },
   {
    "duration": 0,
    "start_time": "2022-04-23T08:53:59.666Z"
   },
   {
    "duration": 0,
    "start_time": "2022-04-23T08:53:59.667Z"
   },
   {
    "duration": 0,
    "start_time": "2022-04-23T08:53:59.667Z"
   },
   {
    "duration": 0,
    "start_time": "2022-04-23T08:53:59.668Z"
   },
   {
    "duration": 0,
    "start_time": "2022-04-23T08:53:59.733Z"
   },
   {
    "duration": 0,
    "start_time": "2022-04-23T08:53:59.735Z"
   },
   {
    "duration": 0,
    "start_time": "2022-04-23T08:53:59.736Z"
   },
   {
    "duration": 0,
    "start_time": "2022-04-23T08:53:59.737Z"
   },
   {
    "duration": 0,
    "start_time": "2022-04-23T08:53:59.738Z"
   },
   {
    "duration": 0,
    "start_time": "2022-04-23T08:53:59.739Z"
   },
   {
    "duration": 0,
    "start_time": "2022-04-23T08:53:59.740Z"
   },
   {
    "duration": 0,
    "start_time": "2022-04-23T08:53:59.741Z"
   },
   {
    "duration": 0,
    "start_time": "2022-04-23T08:53:59.742Z"
   },
   {
    "duration": 0,
    "start_time": "2022-04-23T08:53:59.743Z"
   },
   {
    "duration": 1157,
    "start_time": "2022-04-23T08:54:26.450Z"
   },
   {
    "duration": 18216,
    "start_time": "2022-04-23T08:54:27.609Z"
   },
   {
    "duration": 6,
    "start_time": "2022-04-23T08:54:45.827Z"
   },
   {
    "duration": 39,
    "start_time": "2022-04-23T08:54:45.902Z"
   },
   {
    "duration": 45,
    "start_time": "2022-04-23T08:54:45.943Z"
   },
   {
    "duration": 12,
    "start_time": "2022-04-23T08:54:45.990Z"
   },
   {
    "duration": 17,
    "start_time": "2022-04-23T08:54:46.004Z"
   },
   {
    "duration": 54,
    "start_time": "2022-04-23T08:54:46.023Z"
   },
   {
    "duration": 7,
    "start_time": "2022-04-23T08:54:46.079Z"
   },
   {
    "duration": 21,
    "start_time": "2022-04-23T08:54:46.089Z"
   },
   {
    "duration": 28,
    "start_time": "2022-04-23T08:54:46.111Z"
   },
   {
    "duration": 8,
    "start_time": "2022-04-23T08:54:46.141Z"
   },
   {
    "duration": 6,
    "start_time": "2022-04-23T08:54:46.151Z"
   },
   {
    "duration": 9,
    "start_time": "2022-04-23T08:54:46.158Z"
   },
   {
    "duration": 16,
    "start_time": "2022-04-23T08:54:46.168Z"
   },
   {
    "duration": 51,
    "start_time": "2022-04-23T08:54:46.186Z"
   },
   {
    "duration": 19,
    "start_time": "2022-04-23T08:54:46.239Z"
   },
   {
    "duration": 175,
    "start_time": "2022-04-23T08:54:46.260Z"
   },
   {
    "duration": 159,
    "start_time": "2022-04-23T08:54:46.437Z"
   },
   {
    "duration": 6,
    "start_time": "2022-04-23T08:54:46.597Z"
   },
   {
    "duration": 36,
    "start_time": "2022-04-23T08:54:46.605Z"
   },
   {
    "duration": 12,
    "start_time": "2022-04-23T08:54:46.642Z"
   },
   {
    "duration": 25,
    "start_time": "2022-04-23T08:54:46.656Z"
   },
   {
    "duration": 11,
    "start_time": "2022-04-23T08:54:46.683Z"
   },
   {
    "duration": 9,
    "start_time": "2022-04-23T08:54:46.696Z"
   },
   {
    "duration": 36,
    "start_time": "2022-04-23T08:54:46.707Z"
   },
   {
    "duration": 6,
    "start_time": "2022-04-23T08:54:46.745Z"
   },
   {
    "duration": 13,
    "start_time": "2022-04-23T08:54:46.756Z"
   },
   {
    "duration": 12,
    "start_time": "2022-04-23T08:54:46.770Z"
   },
   {
    "duration": 56,
    "start_time": "2022-04-23T08:54:46.783Z"
   },
   {
    "duration": 7,
    "start_time": "2022-04-23T08:54:46.840Z"
   },
   {
    "duration": 14,
    "start_time": "2022-04-23T08:54:46.849Z"
   },
   {
    "duration": 7,
    "start_time": "2022-04-23T08:54:46.865Z"
   },
   {
    "duration": 13,
    "start_time": "2022-04-23T08:54:46.874Z"
   },
   {
    "duration": 43,
    "start_time": "2022-04-23T08:54:46.890Z"
   },
   {
    "duration": 8,
    "start_time": "2022-04-23T08:54:46.936Z"
   },
   {
    "duration": 10,
    "start_time": "2022-04-23T08:54:46.945Z"
   },
   {
    "duration": 20,
    "start_time": "2022-04-23T08:54:46.957Z"
   },
   {
    "duration": 15,
    "start_time": "2022-04-23T08:54:46.978Z"
   },
   {
    "duration": 14,
    "start_time": "2022-04-23T08:54:46.995Z"
   },
   {
    "duration": 38,
    "start_time": "2022-04-23T08:54:47.011Z"
   },
   {
    "duration": 318,
    "start_time": "2022-04-23T08:54:47.052Z"
   },
   {
    "duration": 15,
    "start_time": "2022-04-23T08:54:47.372Z"
   },
   {
    "duration": 14,
    "start_time": "2022-04-23T08:54:47.389Z"
   },
   {
    "duration": 241,
    "start_time": "2022-04-23T08:54:47.405Z"
   },
   {
    "duration": 262,
    "start_time": "2022-04-23T08:54:47.648Z"
   },
   {
    "duration": 385,
    "start_time": "2022-04-23T08:54:47.912Z"
   },
   {
    "duration": 14,
    "start_time": "2022-04-23T08:54:48.300Z"
   },
   {
    "duration": 31,
    "start_time": "2022-04-23T08:54:48.316Z"
   },
   {
    "duration": 240,
    "start_time": "2022-04-23T08:54:48.349Z"
   },
   {
    "duration": 5,
    "start_time": "2022-04-23T08:54:48.591Z"
   },
   {
    "duration": 11,
    "start_time": "2022-04-23T08:54:48.597Z"
   },
   {
    "duration": 26,
    "start_time": "2022-04-23T08:54:48.609Z"
   },
   {
    "duration": 151,
    "start_time": "2022-04-23T08:54:48.637Z"
   },
   {
    "duration": 179,
    "start_time": "2022-04-23T08:54:48.789Z"
   },
   {
    "duration": 4,
    "start_time": "2022-04-23T08:54:48.970Z"
   },
   {
    "duration": 20,
    "start_time": "2022-04-23T08:54:48.976Z"
   },
   {
    "duration": 254,
    "start_time": "2022-04-23T08:54:48.998Z"
   },
   {
    "duration": 5,
    "start_time": "2022-04-23T08:54:49.254Z"
   },
   {
    "duration": 21,
    "start_time": "2022-04-23T08:54:49.260Z"
   },
   {
    "duration": 22,
    "start_time": "2022-04-23T08:54:49.283Z"
   },
   {
    "duration": 14,
    "start_time": "2022-04-23T08:54:49.307Z"
   },
   {
    "duration": 29,
    "start_time": "2022-04-23T08:54:49.322Z"
   },
   {
    "duration": 23,
    "start_time": "2022-04-23T08:54:49.353Z"
   },
   {
    "duration": 28,
    "start_time": "2022-04-23T08:54:49.378Z"
   },
   {
    "duration": 21,
    "start_time": "2022-04-23T08:54:49.408Z"
   },
   {
    "duration": 38,
    "start_time": "2022-04-23T08:54:49.431Z"
   },
   {
    "duration": 17,
    "start_time": "2022-04-23T08:54:49.471Z"
   },
   {
    "duration": 22,
    "start_time": "2022-04-23T08:54:49.490Z"
   },
   {
    "duration": 25,
    "start_time": "2022-04-23T08:54:49.514Z"
   },
   {
    "duration": 20,
    "start_time": "2022-04-23T08:54:49.541Z"
   },
   {
    "duration": 23,
    "start_time": "2022-04-23T08:54:49.563Z"
   },
   {
    "duration": 12,
    "start_time": "2022-04-23T08:54:49.587Z"
   },
   {
    "duration": 18,
    "start_time": "2022-04-23T08:54:49.601Z"
   },
   {
    "duration": 17,
    "start_time": "2022-04-23T08:54:49.621Z"
   },
   {
    "duration": 28,
    "start_time": "2022-04-23T08:54:49.641Z"
   },
   {
    "duration": 31,
    "start_time": "2022-04-23T08:54:49.671Z"
   },
   {
    "duration": 26,
    "start_time": "2022-04-23T08:54:49.705Z"
   },
   {
    "duration": 24,
    "start_time": "2022-04-23T08:54:49.733Z"
   },
   {
    "duration": 14,
    "start_time": "2022-04-23T08:54:49.760Z"
   },
   {
    "duration": 5,
    "start_time": "2022-04-23T09:01:27.337Z"
   },
   {
    "duration": 6,
    "start_time": "2022-04-23T09:01:29.040Z"
   },
   {
    "duration": 4,
    "start_time": "2022-04-23T09:08:34.014Z"
   },
   {
    "duration": 5,
    "start_time": "2022-04-23T09:08:35.447Z"
   },
   {
    "duration": 4,
    "start_time": "2022-04-23T09:09:33.935Z"
   },
   {
    "duration": 5,
    "start_time": "2022-04-23T09:09:34.873Z"
   },
   {
    "duration": 6,
    "start_time": "2022-04-23T09:13:38.460Z"
   },
   {
    "duration": 6,
    "start_time": "2022-04-23T09:46:17.515Z"
   },
   {
    "duration": 5,
    "start_time": "2022-04-23T09:51:10.619Z"
   },
   {
    "duration": 6,
    "start_time": "2022-04-23T09:51:44.215Z"
   },
   {
    "duration": 5,
    "start_time": "2022-04-23T09:52:38.210Z"
   },
   {
    "duration": 9,
    "start_time": "2022-04-23T09:53:01.445Z"
   },
   {
    "duration": 6,
    "start_time": "2022-04-23T10:10:50.049Z"
   },
   {
    "duration": 6,
    "start_time": "2022-04-23T10:11:01.708Z"
   },
   {
    "duration": 6,
    "start_time": "2022-04-23T10:11:31.052Z"
   },
   {
    "duration": 6,
    "start_time": "2022-04-23T10:11:42.767Z"
   },
   {
    "duration": 5,
    "start_time": "2022-04-23T10:20:12.614Z"
   },
   {
    "duration": 6,
    "start_time": "2022-04-23T10:20:13.955Z"
   },
   {
    "duration": 7,
    "start_time": "2022-04-23T10:20:32.658Z"
   },
   {
    "duration": 1197,
    "start_time": "2022-04-23T10:28:32.594Z"
   },
   {
    "duration": 2509,
    "start_time": "2022-04-23T10:28:33.793Z"
   },
   {
    "duration": 5,
    "start_time": "2022-04-23T10:28:36.305Z"
   },
   {
    "duration": 27,
    "start_time": "2022-04-23T10:28:36.385Z"
   },
   {
    "duration": 85,
    "start_time": "2022-04-23T10:28:36.414Z"
   },
   {
    "duration": 12,
    "start_time": "2022-04-23T10:28:36.501Z"
   },
   {
    "duration": 18,
    "start_time": "2022-04-23T10:28:36.514Z"
   },
   {
    "duration": 63,
    "start_time": "2022-04-23T10:28:36.541Z"
   },
   {
    "duration": 7,
    "start_time": "2022-04-23T10:28:36.606Z"
   },
   {
    "duration": 32,
    "start_time": "2022-04-23T10:28:36.616Z"
   },
   {
    "duration": 8,
    "start_time": "2022-04-23T10:28:36.651Z"
   },
   {
    "duration": 11,
    "start_time": "2022-04-23T10:28:36.660Z"
   },
   {
    "duration": 5,
    "start_time": "2022-04-23T10:28:36.673Z"
   },
   {
    "duration": 10,
    "start_time": "2022-04-23T10:28:36.680Z"
   },
   {
    "duration": 48,
    "start_time": "2022-04-23T10:28:36.693Z"
   },
   {
    "duration": 11,
    "start_time": "2022-04-23T10:28:36.742Z"
   },
   {
    "duration": 18,
    "start_time": "2022-04-23T10:28:36.755Z"
   },
   {
    "duration": 188,
    "start_time": "2022-04-23T10:28:36.775Z"
   },
   {
    "duration": 164,
    "start_time": "2022-04-23T10:28:36.965Z"
   },
   {
    "duration": 10,
    "start_time": "2022-04-23T10:28:37.131Z"
   },
   {
    "duration": 21,
    "start_time": "2022-04-23T10:28:37.143Z"
   },
   {
    "duration": 13,
    "start_time": "2022-04-23T10:28:37.165Z"
   },
   {
    "duration": 23,
    "start_time": "2022-04-23T10:28:37.179Z"
   },
   {
    "duration": 30,
    "start_time": "2022-04-23T10:28:37.203Z"
   },
   {
    "duration": 15,
    "start_time": "2022-04-23T10:28:37.235Z"
   },
   {
    "duration": 15,
    "start_time": "2022-04-23T10:28:37.252Z"
   },
   {
    "duration": 8,
    "start_time": "2022-04-23T10:28:37.270Z"
   },
   {
    "duration": 13,
    "start_time": "2022-04-23T10:28:37.284Z"
   },
   {
    "duration": 46,
    "start_time": "2022-04-23T10:28:37.298Z"
   },
   {
    "duration": 18,
    "start_time": "2022-04-23T10:28:37.346Z"
   },
   {
    "duration": 7,
    "start_time": "2022-04-23T10:28:37.366Z"
   },
   {
    "duration": 15,
    "start_time": "2022-04-23T10:28:37.375Z"
   },
   {
    "duration": 8,
    "start_time": "2022-04-23T10:28:37.392Z"
   },
   {
    "duration": 40,
    "start_time": "2022-04-23T10:28:37.402Z"
   },
   {
    "duration": 20,
    "start_time": "2022-04-23T10:28:37.444Z"
   },
   {
    "duration": 7,
    "start_time": "2022-04-23T10:28:37.465Z"
   },
   {
    "duration": 15,
    "start_time": "2022-04-23T10:28:37.474Z"
   },
   {
    "duration": 27,
    "start_time": "2022-04-23T10:28:37.491Z"
   },
   {
    "duration": 30,
    "start_time": "2022-04-23T10:28:37.520Z"
   },
   {
    "duration": 17,
    "start_time": "2022-04-23T10:28:37.552Z"
   },
   {
    "duration": 14,
    "start_time": "2022-04-23T10:28:37.571Z"
   },
   {
    "duration": 325,
    "start_time": "2022-04-23T10:28:37.587Z"
   },
   {
    "duration": 13,
    "start_time": "2022-04-23T10:28:37.914Z"
   },
   {
    "duration": 16,
    "start_time": "2022-04-23T10:28:37.937Z"
   },
   {
    "duration": 234,
    "start_time": "2022-04-23T10:28:37.955Z"
   },
   {
    "duration": 287,
    "start_time": "2022-04-23T10:28:38.191Z"
   },
   {
    "duration": 327,
    "start_time": "2022-04-23T10:28:38.480Z"
   },
   {
    "duration": 37,
    "start_time": "2022-04-23T10:28:38.809Z"
   },
   {
    "duration": 15,
    "start_time": "2022-04-23T10:28:38.848Z"
   },
   {
    "duration": 232,
    "start_time": "2022-04-23T10:28:38.864Z"
   },
   {
    "duration": 5,
    "start_time": "2022-04-23T10:28:39.097Z"
   },
   {
    "duration": 8,
    "start_time": "2022-04-23T10:28:39.103Z"
   },
   {
    "duration": 14,
    "start_time": "2022-04-23T10:28:39.112Z"
   },
   {
    "duration": 148,
    "start_time": "2022-04-23T10:28:39.128Z"
   },
   {
    "duration": 183,
    "start_time": "2022-04-23T10:28:39.278Z"
   },
   {
    "duration": 4,
    "start_time": "2022-04-23T10:28:39.463Z"
   },
   {
    "duration": 13,
    "start_time": "2022-04-23T10:28:39.468Z"
   },
   {
    "duration": 256,
    "start_time": "2022-04-23T10:28:39.483Z"
   },
   {
    "duration": 5,
    "start_time": "2022-04-23T10:28:39.741Z"
   },
   {
    "duration": 14,
    "start_time": "2022-04-23T10:28:39.748Z"
   },
   {
    "duration": 10,
    "start_time": "2022-04-23T10:28:39.763Z"
   },
   {
    "duration": 13,
    "start_time": "2022-04-23T10:28:39.775Z"
   },
   {
    "duration": 52,
    "start_time": "2022-04-23T10:28:39.790Z"
   },
   {
    "duration": 24,
    "start_time": "2022-04-23T10:28:39.844Z"
   },
   {
    "duration": 13,
    "start_time": "2022-04-23T10:28:39.869Z"
   },
   {
    "duration": 21,
    "start_time": "2022-04-23T10:28:39.883Z"
   },
   {
    "duration": 60,
    "start_time": "2022-04-23T10:28:39.905Z"
   },
   {
    "duration": 6,
    "start_time": "2022-04-23T10:28:39.967Z"
   },
   {
    "duration": 5,
    "start_time": "2022-04-23T10:28:39.975Z"
   },
   {
    "duration": 5,
    "start_time": "2022-04-23T10:28:39.982Z"
   },
   {
    "duration": 10,
    "start_time": "2022-04-23T10:28:39.988Z"
   },
   {
    "duration": 10,
    "start_time": "2022-04-23T10:28:40.000Z"
   },
   {
    "duration": 13,
    "start_time": "2022-04-23T10:28:40.012Z"
   },
   {
    "duration": 10,
    "start_time": "2022-04-23T10:28:40.027Z"
   },
   {
    "duration": 20,
    "start_time": "2022-04-23T10:28:40.040Z"
   },
   {
    "duration": 18,
    "start_time": "2022-04-23T10:28:40.063Z"
   },
   {
    "duration": 8,
    "start_time": "2022-04-23T10:28:40.083Z"
   },
   {
    "duration": 7,
    "start_time": "2022-04-23T10:28:40.093Z"
   },
   {
    "duration": 6,
    "start_time": "2022-04-23T10:28:40.101Z"
   },
   {
    "duration": 7,
    "start_time": "2022-04-23T10:28:40.109Z"
   },
   {
    "duration": 9,
    "start_time": "2022-04-23T10:28:40.117Z"
   },
   {
    "duration": 20,
    "start_time": "2022-04-23T10:28:40.132Z"
   },
   {
    "duration": 15,
    "start_time": "2022-04-23T10:28:40.154Z"
   },
   {
    "duration": 1246,
    "start_time": "2022-04-23T20:04:57.460Z"
   },
   {
    "duration": 104281,
    "start_time": "2022-04-23T20:04:58.708Z"
   },
   {
    "duration": 106,
    "start_time": "2022-04-23T20:06:42.991Z"
   },
   {
    "duration": 0,
    "start_time": "2022-04-23T20:06:43.164Z"
   },
   {
    "duration": 0,
    "start_time": "2022-04-23T20:06:43.165Z"
   },
   {
    "duration": 0,
    "start_time": "2022-04-23T20:06:43.167Z"
   },
   {
    "duration": 0,
    "start_time": "2022-04-23T20:06:43.168Z"
   },
   {
    "duration": 0,
    "start_time": "2022-04-23T20:06:43.169Z"
   },
   {
    "duration": 0,
    "start_time": "2022-04-23T20:06:43.170Z"
   },
   {
    "duration": 0,
    "start_time": "2022-04-23T20:06:43.172Z"
   },
   {
    "duration": 0,
    "start_time": "2022-04-23T20:06:43.173Z"
   },
   {
    "duration": 0,
    "start_time": "2022-04-23T20:06:43.174Z"
   },
   {
    "duration": 0,
    "start_time": "2022-04-23T20:06:43.175Z"
   },
   {
    "duration": 0,
    "start_time": "2022-04-23T20:06:43.176Z"
   },
   {
    "duration": 0,
    "start_time": "2022-04-23T20:06:43.178Z"
   },
   {
    "duration": 0,
    "start_time": "2022-04-23T20:06:43.179Z"
   },
   {
    "duration": 0,
    "start_time": "2022-04-23T20:06:43.180Z"
   },
   {
    "duration": 0,
    "start_time": "2022-04-23T20:06:43.181Z"
   },
   {
    "duration": 0,
    "start_time": "2022-04-23T20:06:43.182Z"
   },
   {
    "duration": 0,
    "start_time": "2022-04-23T20:06:43.183Z"
   },
   {
    "duration": 0,
    "start_time": "2022-04-23T20:06:43.184Z"
   },
   {
    "duration": 0,
    "start_time": "2022-04-23T20:06:43.185Z"
   },
   {
    "duration": 0,
    "start_time": "2022-04-23T20:06:43.186Z"
   },
   {
    "duration": 0,
    "start_time": "2022-04-23T20:06:43.187Z"
   },
   {
    "duration": 0,
    "start_time": "2022-04-23T20:06:43.188Z"
   },
   {
    "duration": 0,
    "start_time": "2022-04-23T20:06:43.189Z"
   },
   {
    "duration": 0,
    "start_time": "2022-04-23T20:06:43.190Z"
   },
   {
    "duration": 0,
    "start_time": "2022-04-23T20:06:43.191Z"
   },
   {
    "duration": 0,
    "start_time": "2022-04-23T20:06:43.192Z"
   },
   {
    "duration": 0,
    "start_time": "2022-04-23T20:06:43.234Z"
   },
   {
    "duration": 0,
    "start_time": "2022-04-23T20:06:43.235Z"
   },
   {
    "duration": 0,
    "start_time": "2022-04-23T20:06:43.236Z"
   },
   {
    "duration": 0,
    "start_time": "2022-04-23T20:06:43.237Z"
   },
   {
    "duration": 0,
    "start_time": "2022-04-23T20:06:43.238Z"
   },
   {
    "duration": 0,
    "start_time": "2022-04-23T20:06:43.239Z"
   },
   {
    "duration": 0,
    "start_time": "2022-04-23T20:06:43.240Z"
   },
   {
    "duration": 0,
    "start_time": "2022-04-23T20:06:43.241Z"
   },
   {
    "duration": 0,
    "start_time": "2022-04-23T20:06:43.243Z"
   },
   {
    "duration": 0,
    "start_time": "2022-04-23T20:06:43.244Z"
   },
   {
    "duration": 0,
    "start_time": "2022-04-23T20:06:43.245Z"
   },
   {
    "duration": 0,
    "start_time": "2022-04-23T20:06:43.246Z"
   },
   {
    "duration": 0,
    "start_time": "2022-04-23T20:06:43.247Z"
   },
   {
    "duration": 0,
    "start_time": "2022-04-23T20:06:43.248Z"
   },
   {
    "duration": 0,
    "start_time": "2022-04-23T20:06:43.249Z"
   },
   {
    "duration": 0,
    "start_time": "2022-04-23T20:06:43.250Z"
   },
   {
    "duration": 0,
    "start_time": "2022-04-23T20:06:43.251Z"
   },
   {
    "duration": 0,
    "start_time": "2022-04-23T20:06:43.252Z"
   },
   {
    "duration": 0,
    "start_time": "2022-04-23T20:06:43.253Z"
   },
   {
    "duration": 0,
    "start_time": "2022-04-23T20:06:43.254Z"
   },
   {
    "duration": 0,
    "start_time": "2022-04-23T20:06:43.255Z"
   },
   {
    "duration": 0,
    "start_time": "2022-04-23T20:06:43.256Z"
   },
   {
    "duration": 0,
    "start_time": "2022-04-23T20:06:43.257Z"
   },
   {
    "duration": 0,
    "start_time": "2022-04-23T20:06:43.258Z"
   },
   {
    "duration": 0,
    "start_time": "2022-04-23T20:06:43.259Z"
   },
   {
    "duration": 0,
    "start_time": "2022-04-23T20:06:43.260Z"
   },
   {
    "duration": 0,
    "start_time": "2022-04-23T20:06:43.261Z"
   },
   {
    "duration": 0,
    "start_time": "2022-04-23T20:06:43.262Z"
   },
   {
    "duration": 0,
    "start_time": "2022-04-23T20:06:43.263Z"
   },
   {
    "duration": 0,
    "start_time": "2022-04-23T20:06:43.264Z"
   },
   {
    "duration": 0,
    "start_time": "2022-04-23T20:06:43.265Z"
   },
   {
    "duration": 0,
    "start_time": "2022-04-23T20:06:43.266Z"
   },
   {
    "duration": 0,
    "start_time": "2022-04-23T20:06:43.267Z"
   },
   {
    "duration": 0,
    "start_time": "2022-04-23T20:06:43.268Z"
   },
   {
    "duration": 0,
    "start_time": "2022-04-23T20:06:43.269Z"
   },
   {
    "duration": 0,
    "start_time": "2022-04-23T20:06:43.340Z"
   },
   {
    "duration": 0,
    "start_time": "2022-04-23T20:06:43.341Z"
   },
   {
    "duration": 0,
    "start_time": "2022-04-23T20:06:43.342Z"
   },
   {
    "duration": 0,
    "start_time": "2022-04-23T20:06:43.343Z"
   },
   {
    "duration": 0,
    "start_time": "2022-04-23T20:06:43.344Z"
   },
   {
    "duration": 0,
    "start_time": "2022-04-23T20:06:43.345Z"
   },
   {
    "duration": 0,
    "start_time": "2022-04-23T20:06:43.346Z"
   },
   {
    "duration": 0,
    "start_time": "2022-04-23T20:06:43.347Z"
   },
   {
    "duration": 0,
    "start_time": "2022-04-23T20:06:43.348Z"
   },
   {
    "duration": 0,
    "start_time": "2022-04-23T20:06:43.349Z"
   },
   {
    "duration": 0,
    "start_time": "2022-04-23T20:06:43.351Z"
   },
   {
    "duration": 0,
    "start_time": "2022-04-23T20:06:43.352Z"
   },
   {
    "duration": 0,
    "start_time": "2022-04-23T20:06:43.354Z"
   },
   {
    "duration": 0,
    "start_time": "2022-04-23T20:06:43.355Z"
   },
   {
    "duration": 0,
    "start_time": "2022-04-23T20:06:43.357Z"
   },
   {
    "duration": 0,
    "start_time": "2022-04-23T20:06:43.358Z"
   },
   {
    "duration": 0,
    "start_time": "2022-04-23T20:06:43.359Z"
   },
   {
    "duration": 0,
    "start_time": "2022-04-23T20:06:43.361Z"
   },
   {
    "duration": 0,
    "start_time": "2022-04-23T20:06:43.362Z"
   },
   {
    "duration": 87244,
    "start_time": "2022-04-23T20:11:33.095Z"
   },
   {
    "duration": 5,
    "start_time": "2022-04-23T20:13:20.409Z"
   },
   {
    "duration": 34,
    "start_time": "2022-04-23T20:13:24.028Z"
   },
   {
    "duration": 53,
    "start_time": "2022-04-23T20:13:24.065Z"
   },
   {
    "duration": 14,
    "start_time": "2022-04-23T20:13:24.120Z"
   },
   {
    "duration": 31,
    "start_time": "2022-04-23T20:13:24.137Z"
   },
   {
    "duration": 71,
    "start_time": "2022-04-23T20:13:24.170Z"
   },
   {
    "duration": 8,
    "start_time": "2022-04-23T20:13:24.244Z"
   },
   {
    "duration": 29,
    "start_time": "2022-04-23T20:13:24.254Z"
   },
   {
    "duration": 7,
    "start_time": "2022-04-23T20:13:24.285Z"
   },
   {
    "duration": 8,
    "start_time": "2022-04-23T20:13:24.294Z"
   },
   {
    "duration": 5,
    "start_time": "2022-04-23T20:13:24.304Z"
   },
   {
    "duration": 9,
    "start_time": "2022-04-23T20:13:24.335Z"
   },
   {
    "duration": 22,
    "start_time": "2022-04-23T20:13:24.346Z"
   },
   {
    "duration": 7,
    "start_time": "2022-04-23T20:13:24.370Z"
   },
   {
    "duration": 20,
    "start_time": "2022-04-23T20:13:24.381Z"
   },
   {
    "duration": 222,
    "start_time": "2022-04-23T20:13:24.403Z"
   },
   {
    "duration": 165,
    "start_time": "2022-04-23T20:13:24.627Z"
   },
   {
    "duration": 7,
    "start_time": "2022-04-23T20:13:24.794Z"
   },
   {
    "duration": 42,
    "start_time": "2022-04-23T20:13:24.803Z"
   },
   {
    "duration": 15,
    "start_time": "2022-04-23T20:13:24.847Z"
   },
   {
    "duration": 25,
    "start_time": "2022-04-23T20:13:24.864Z"
   },
   {
    "duration": 15,
    "start_time": "2022-04-23T20:13:24.891Z"
   },
   {
    "duration": 27,
    "start_time": "2022-04-23T20:13:24.908Z"
   },
   {
    "duration": 17,
    "start_time": "2022-04-23T20:13:24.938Z"
   },
   {
    "duration": 18,
    "start_time": "2022-04-23T20:13:24.958Z"
   },
   {
    "duration": 28,
    "start_time": "2022-04-23T20:13:24.978Z"
   },
   {
    "duration": 28,
    "start_time": "2022-04-23T20:13:25.008Z"
   },
   {
    "duration": 15,
    "start_time": "2022-04-23T20:13:25.038Z"
   },
   {
    "duration": 11,
    "start_time": "2022-04-23T20:13:25.056Z"
   },
   {
    "duration": 26,
    "start_time": "2022-04-23T20:13:25.069Z"
   },
   {
    "duration": 12,
    "start_time": "2022-04-23T20:13:25.097Z"
   },
   {
    "duration": 33,
    "start_time": "2022-04-23T20:13:25.110Z"
   },
   {
    "duration": 16,
    "start_time": "2022-04-23T20:13:25.146Z"
   },
   {
    "duration": 6,
    "start_time": "2022-04-23T20:13:25.165Z"
   },
   {
    "duration": 9,
    "start_time": "2022-04-23T20:13:25.173Z"
   },
   {
    "duration": 16,
    "start_time": "2022-04-23T20:13:25.183Z"
   },
   {
    "duration": 46,
    "start_time": "2022-04-23T20:13:25.201Z"
   },
   {
    "duration": 16,
    "start_time": "2022-04-23T20:13:25.249Z"
   },
   {
    "duration": 14,
    "start_time": "2022-04-23T20:13:25.267Z"
   },
   {
    "duration": 335,
    "start_time": "2022-04-23T20:13:25.283Z"
   },
   {
    "duration": 20,
    "start_time": "2022-04-23T20:13:25.620Z"
   },
   {
    "duration": 20,
    "start_time": "2022-04-23T20:13:25.646Z"
   },
   {
    "duration": 247,
    "start_time": "2022-04-23T20:13:25.667Z"
   },
   {
    "duration": 329,
    "start_time": "2022-04-23T20:13:25.916Z"
   },
   {
    "duration": 347,
    "start_time": "2022-04-23T20:13:26.247Z"
   },
   {
    "duration": 14,
    "start_time": "2022-04-23T20:13:26.596Z"
   },
   {
    "duration": 37,
    "start_time": "2022-04-23T20:13:26.612Z"
   },
   {
    "duration": 254,
    "start_time": "2022-04-23T20:13:26.651Z"
   },
   {
    "duration": 5,
    "start_time": "2022-04-23T20:13:26.907Z"
   },
   {
    "duration": 22,
    "start_time": "2022-04-23T20:13:26.913Z"
   },
   {
    "duration": 13,
    "start_time": "2022-04-23T20:13:26.937Z"
   },
   {
    "duration": 157,
    "start_time": "2022-04-23T20:13:26.952Z"
   },
   {
    "duration": 194,
    "start_time": "2022-04-23T20:13:27.112Z"
   },
   {
    "duration": 5,
    "start_time": "2022-04-23T20:13:27.308Z"
   },
   {
    "duration": 31,
    "start_time": "2022-04-23T20:13:27.314Z"
   },
   {
    "duration": 273,
    "start_time": "2022-04-23T20:13:27.347Z"
   },
   {
    "duration": 6,
    "start_time": "2022-04-23T20:13:27.622Z"
   },
   {
    "duration": 28,
    "start_time": "2022-04-23T20:13:27.629Z"
   },
   {
    "duration": 14,
    "start_time": "2022-04-23T20:13:27.659Z"
   },
   {
    "duration": 11,
    "start_time": "2022-04-23T20:13:27.675Z"
   },
   {
    "duration": 16,
    "start_time": "2022-04-23T20:13:27.688Z"
   },
   {
    "duration": 30,
    "start_time": "2022-04-23T20:13:27.706Z"
   },
   {
    "duration": 11,
    "start_time": "2022-04-23T20:13:27.738Z"
   },
   {
    "duration": 26,
    "start_time": "2022-04-23T20:13:27.751Z"
   },
   {
    "duration": 21,
    "start_time": "2022-04-23T20:13:27.779Z"
   },
   {
    "duration": 35,
    "start_time": "2022-04-23T20:13:27.801Z"
   },
   {
    "duration": 13,
    "start_time": "2022-04-23T20:13:27.838Z"
   },
   {
    "duration": 6,
    "start_time": "2022-04-23T20:13:27.855Z"
   },
   {
    "duration": 10,
    "start_time": "2022-04-23T20:13:27.863Z"
   },
   {
    "duration": 9,
    "start_time": "2022-04-23T20:13:27.875Z"
   },
   {
    "duration": 8,
    "start_time": "2022-04-23T20:13:27.885Z"
   },
   {
    "duration": 13,
    "start_time": "2022-04-23T20:13:27.895Z"
   },
   {
    "duration": 34,
    "start_time": "2022-04-23T20:13:27.910Z"
   },
   {
    "duration": 17,
    "start_time": "2022-04-23T20:13:27.946Z"
   },
   {
    "duration": 11,
    "start_time": "2022-04-23T20:13:27.965Z"
   },
   {
    "duration": 8,
    "start_time": "2022-04-23T20:13:27.978Z"
   },
   {
    "duration": 9,
    "start_time": "2022-04-23T20:13:27.988Z"
   },
   {
    "duration": 9,
    "start_time": "2022-04-23T20:13:27.998Z"
   },
   {
    "duration": 10,
    "start_time": "2022-04-23T20:13:28.009Z"
   },
   {
    "duration": 15,
    "start_time": "2022-04-23T20:13:28.020Z"
   },
   {
    "duration": 21,
    "start_time": "2022-04-23T20:13:28.037Z"
   },
   {
    "duration": 7,
    "start_time": "2022-04-23T20:32:53.851Z"
   },
   {
    "duration": 16,
    "start_time": "2022-04-23T20:35:30.574Z"
   },
   {
    "duration": 16,
    "start_time": "2022-04-23T20:35:46.604Z"
   },
   {
    "duration": 15,
    "start_time": "2022-04-23T20:36:10.163Z"
   },
   {
    "duration": 8,
    "start_time": "2022-04-23T20:36:31.422Z"
   },
   {
    "duration": 8,
    "start_time": "2022-04-23T20:36:39.188Z"
   },
   {
    "duration": 9,
    "start_time": "2022-04-23T20:37:00.038Z"
   },
   {
    "duration": 8,
    "start_time": "2022-04-23T20:37:06.658Z"
   },
   {
    "duration": 47,
    "start_time": "2022-04-23T21:18:12.033Z"
   },
   {
    "duration": 14,
    "start_time": "2022-04-23T21:18:22.482Z"
   },
   {
    "duration": 70,
    "start_time": "2022-04-24T06:14:35.386Z"
   },
   {
    "duration": 1579,
    "start_time": "2022-04-24T06:14:41.402Z"
   },
   {
    "duration": 118,
    "start_time": "2022-04-24T06:14:45.333Z"
   },
   {
    "duration": 25,
    "start_time": "2022-04-24T06:14:55.699Z"
   },
   {
    "duration": 21,
    "start_time": "2022-04-24T06:15:21.372Z"
   },
   {
    "duration": 22,
    "start_time": "2022-04-24T06:16:43.909Z"
   },
   {
    "duration": 21,
    "start_time": "2022-04-24T06:16:49.846Z"
   },
   {
    "duration": 22,
    "start_time": "2022-04-24T06:17:00.762Z"
   },
   {
    "duration": 24,
    "start_time": "2022-04-24T06:18:32.154Z"
   },
   {
    "duration": 104,
    "start_time": "2022-04-24T06:21:43.680Z"
   },
   {
    "duration": 21,
    "start_time": "2022-04-24T06:21:47.690Z"
   },
   {
    "duration": 4,
    "start_time": "2022-04-24T06:24:14.950Z"
   },
   {
    "duration": 11,
    "start_time": "2022-04-24T06:24:25.794Z"
   },
   {
    "duration": 3,
    "start_time": "2022-04-24T06:24:41.917Z"
   },
   {
    "duration": 11,
    "start_time": "2022-04-24T06:24:42.670Z"
   },
   {
    "duration": 3,
    "start_time": "2022-04-24T06:24:48.827Z"
   },
   {
    "duration": 11,
    "start_time": "2022-04-24T06:24:49.793Z"
   },
   {
    "duration": 4,
    "start_time": "2022-04-24T06:24:56.228Z"
   },
   {
    "duration": 11,
    "start_time": "2022-04-24T06:24:57.056Z"
   },
   {
    "duration": 28,
    "start_time": "2022-04-24T06:26:17.806Z"
   },
   {
    "duration": 12,
    "start_time": "2022-04-24T06:30:21.745Z"
   },
   {
    "duration": 5,
    "start_time": "2022-04-24T06:32:11.347Z"
   },
   {
    "duration": 4548,
    "start_time": "2022-04-24T06:32:12.041Z"
   },
   {
    "duration": 9,
    "start_time": "2022-04-24T06:32:17.774Z"
   },
   {
    "duration": 29,
    "start_time": "2022-04-24T06:32:19.795Z"
   },
   {
    "duration": 82,
    "start_time": "2022-04-24T06:32:23.992Z"
   },
   {
    "duration": 16,
    "start_time": "2022-04-24T06:32:25.305Z"
   },
   {
    "duration": 20,
    "start_time": "2022-04-24T06:32:26.526Z"
   },
   {
    "duration": 78,
    "start_time": "2022-04-24T06:32:26.996Z"
   },
   {
    "duration": 10,
    "start_time": "2022-04-24T06:32:27.674Z"
   },
   {
    "duration": 28,
    "start_time": "2022-04-24T06:32:30.178Z"
   },
   {
    "duration": 9,
    "start_time": "2022-04-24T06:32:31.401Z"
   },
   {
    "duration": 9,
    "start_time": "2022-04-24T06:32:31.898Z"
   },
   {
    "duration": 5,
    "start_time": "2022-04-24T06:32:32.521Z"
   },
   {
    "duration": 8,
    "start_time": "2022-04-24T06:32:35.991Z"
   },
   {
    "duration": 9,
    "start_time": "2022-04-24T06:32:47.297Z"
   },
   {
    "duration": 18,
    "start_time": "2022-04-24T06:32:49.525Z"
   },
   {
    "duration": 22,
    "start_time": "2022-04-24T06:33:00.359Z"
   },
   {
    "duration": 11,
    "start_time": "2022-04-24T06:33:19.049Z"
   },
   {
    "duration": 26,
    "start_time": "2022-04-24T06:33:21.269Z"
   },
   {
    "duration": 206,
    "start_time": "2022-04-24T06:33:42.191Z"
   },
   {
    "duration": 210,
    "start_time": "2022-04-24T06:35:09.139Z"
   },
   {
    "duration": 525,
    "start_time": "2022-04-24T06:35:41.902Z"
   },
   {
    "duration": 207,
    "start_time": "2022-04-24T06:35:47.399Z"
   },
   {
    "duration": 196,
    "start_time": "2022-04-24T06:36:12.473Z"
   },
   {
    "duration": 196,
    "start_time": "2022-04-24T06:36:23.831Z"
   },
   {
    "duration": 17,
    "start_time": "2022-04-24T06:38:19.542Z"
   },
   {
    "duration": 58,
    "start_time": "2022-04-24T06:38:24.473Z"
   },
   {
    "duration": 15,
    "start_time": "2022-04-24T06:38:26.974Z"
   },
   {
    "duration": 9,
    "start_time": "2022-04-24T06:38:27.734Z"
   },
   {
    "duration": 17,
    "start_time": "2022-04-24T06:38:28.079Z"
   },
   {
    "duration": 9,
    "start_time": "2022-04-24T06:38:30.589Z"
   },
   {
    "duration": 17,
    "start_time": "2022-04-24T06:38:30.951Z"
   },
   {
    "duration": 12,
    "start_time": "2022-04-24T06:38:54.654Z"
   },
   {
    "duration": 16,
    "start_time": "2022-04-24T06:39:16.788Z"
   },
   {
    "duration": 6,
    "start_time": "2022-04-24T06:39:24.638Z"
   },
   {
    "duration": 16,
    "start_time": "2022-04-24T06:39:33.370Z"
   },
   {
    "duration": 6,
    "start_time": "2022-04-24T06:40:11.765Z"
   },
   {
    "duration": 20,
    "start_time": "2022-04-24T06:40:20.388Z"
   },
   {
    "duration": 15,
    "start_time": "2022-04-24T06:40:20.701Z"
   },
   {
    "duration": 9,
    "start_time": "2022-04-24T06:40:21.107Z"
   },
   {
    "duration": 7,
    "start_time": "2022-04-24T06:40:23.612Z"
   },
   {
    "duration": 19,
    "start_time": "2022-04-24T06:40:24.111Z"
   },
   {
    "duration": 17,
    "start_time": "2022-04-24T06:40:26.828Z"
   },
   {
    "duration": 15,
    "start_time": "2022-04-24T06:41:17.820Z"
   },
   {
    "duration": 14,
    "start_time": "2022-04-24T06:41:18.716Z"
   },
   {
    "duration": 437,
    "start_time": "2022-04-24T06:41:22.143Z"
   },
   {
    "duration": 331,
    "start_time": "2022-04-24T06:42:06.271Z"
   },
   {
    "duration": 269,
    "start_time": "2022-04-24T06:43:13.721Z"
   },
   {
    "duration": 346,
    "start_time": "2022-04-24T06:43:24.467Z"
   },
   {
    "duration": 332,
    "start_time": "2022-04-24T06:44:31.636Z"
   },
   {
    "duration": 455,
    "start_time": "2022-04-24T06:45:00.589Z"
   },
   {
    "duration": 19,
    "start_time": "2022-04-24T06:45:33.999Z"
   },
   {
    "duration": 17,
    "start_time": "2022-04-24T06:45:34.884Z"
   },
   {
    "duration": 307,
    "start_time": "2022-04-24T06:45:35.702Z"
   },
   {
    "duration": 417,
    "start_time": "2022-04-24T06:46:22.189Z"
   },
   {
    "duration": 444,
    "start_time": "2022-04-24T06:47:02.112Z"
   },
   {
    "duration": 457,
    "start_time": "2022-04-24T06:47:07.872Z"
   },
   {
    "duration": 17,
    "start_time": "2022-04-24T06:47:14.826Z"
   },
   {
    "duration": 16,
    "start_time": "2022-04-24T06:47:17.066Z"
   },
   {
    "duration": 354,
    "start_time": "2022-04-24T06:48:19.420Z"
   },
   {
    "duration": 6,
    "start_time": "2022-04-24T06:48:26.037Z"
   },
   {
    "duration": 6,
    "start_time": "2022-04-24T06:48:27.083Z"
   },
   {
    "duration": 12,
    "start_time": "2022-04-24T06:48:34.741Z"
   },
   {
    "duration": 235,
    "start_time": "2022-04-24T06:48:38.405Z"
   },
   {
    "duration": 260,
    "start_time": "2022-04-24T06:49:33.055Z"
   },
   {
    "duration": 259,
    "start_time": "2022-04-24T06:49:46.749Z"
   },
   {
    "duration": 5,
    "start_time": "2022-04-24T06:50:05.782Z"
   },
   {
    "duration": 15,
    "start_time": "2022-04-24T06:50:11.917Z"
   },
   {
    "duration": 274,
    "start_time": "2022-04-24T06:51:07.938Z"
   },
   {
    "duration": 6,
    "start_time": "2022-04-24T06:51:18.300Z"
   },
   {
    "duration": 10,
    "start_time": "2022-04-24T06:51:40.475Z"
   },
   {
    "duration": 12,
    "start_time": "2022-04-24T06:51:40.894Z"
   },
   {
    "duration": 14,
    "start_time": "2022-04-24T06:51:41.273Z"
   },
   {
    "duration": 18,
    "start_time": "2022-04-24T06:51:41.666Z"
   },
   {
    "duration": 13,
    "start_time": "2022-04-24T06:51:45.221Z"
   },
   {
    "duration": 18,
    "start_time": "2022-04-24T06:51:48.452Z"
   },
   {
    "duration": 150,
    "start_time": "2022-04-24T06:51:49.063Z"
   },
   {
    "duration": 38,
    "start_time": "2022-04-24T06:51:49.589Z"
   },
   {
    "duration": 7,
    "start_time": "2022-04-24T06:51:53.113Z"
   },
   {
    "duration": 8,
    "start_time": "2022-04-24T06:51:53.540Z"
   },
   {
    "duration": 9,
    "start_time": "2022-04-24T06:51:56.556Z"
   },
   {
    "duration": 8,
    "start_time": "2022-04-24T06:51:57.270Z"
   },
   {
    "duration": 7,
    "start_time": "2022-04-24T06:52:01.994Z"
   },
   {
    "duration": 7,
    "start_time": "2022-04-24T06:52:02.425Z"
   },
   {
    "duration": 8,
    "start_time": "2022-04-24T06:52:03.226Z"
   },
   {
    "duration": 10,
    "start_time": "2022-04-24T06:52:07.791Z"
   },
   {
    "duration": 10,
    "start_time": "2022-04-24T06:52:09.561Z"
   },
   {
    "duration": 6,
    "start_time": "2022-04-24T06:52:14.826Z"
   },
   {
    "duration": 7,
    "start_time": "2022-04-24T06:52:15.824Z"
   },
   {
    "duration": 6,
    "start_time": "2022-04-24T06:52:16.529Z"
   },
   {
    "duration": 9,
    "start_time": "2022-04-24T06:52:19.469Z"
   },
   {
    "duration": 6,
    "start_time": "2022-04-24T06:52:19.941Z"
   },
   {
    "duration": 7,
    "start_time": "2022-04-24T06:52:23.790Z"
   },
   {
    "duration": 8,
    "start_time": "2022-04-24T06:52:25.256Z"
   },
   {
    "duration": 1450,
    "start_time": "2022-04-24T07:12:06.707Z"
   },
   {
    "duration": 3310,
    "start_time": "2022-04-24T07:12:08.160Z"
   },
   {
    "duration": 8,
    "start_time": "2022-04-24T07:12:11.472Z"
   },
   {
    "duration": 32,
    "start_time": "2022-04-24T07:12:11.552Z"
   },
   {
    "duration": 50,
    "start_time": "2022-04-24T07:12:11.587Z"
   },
   {
    "duration": 17,
    "start_time": "2022-04-24T07:12:11.639Z"
   },
   {
    "duration": 23,
    "start_time": "2022-04-24T07:12:11.659Z"
   },
   {
    "duration": 107,
    "start_time": "2022-04-24T07:12:11.686Z"
   },
   {
    "duration": 11,
    "start_time": "2022-04-24T07:12:11.795Z"
   },
   {
    "duration": 37,
    "start_time": "2022-04-24T07:12:11.811Z"
   },
   {
    "duration": 45,
    "start_time": "2022-04-24T07:12:11.851Z"
   },
   {
    "duration": 10,
    "start_time": "2022-04-24T07:12:11.898Z"
   },
   {
    "duration": 7,
    "start_time": "2022-04-24T07:12:11.910Z"
   },
   {
    "duration": 13,
    "start_time": "2022-04-24T07:12:11.919Z"
   },
   {
    "duration": 9,
    "start_time": "2022-04-24T07:12:11.934Z"
   },
   {
    "duration": 66,
    "start_time": "2022-04-24T07:12:11.945Z"
   },
   {
    "duration": 11,
    "start_time": "2022-04-24T07:12:12.013Z"
   },
   {
    "duration": 25,
    "start_time": "2022-04-24T07:12:12.026Z"
   },
   {
    "duration": 251,
    "start_time": "2022-04-24T07:12:12.053Z"
   },
   {
    "duration": 213,
    "start_time": "2022-04-24T07:12:12.307Z"
   },
   {
    "duration": 16,
    "start_time": "2022-04-24T07:12:12.522Z"
   },
   {
    "duration": 32,
    "start_time": "2022-04-24T07:12:12.540Z"
   },
   {
    "duration": 24,
    "start_time": "2022-04-24T07:12:12.574Z"
   },
   {
    "duration": 13,
    "start_time": "2022-04-24T07:12:12.600Z"
   },
   {
    "duration": 28,
    "start_time": "2022-04-24T07:12:12.616Z"
   },
   {
    "duration": 10,
    "start_time": "2022-04-24T07:12:12.646Z"
   },
   {
    "duration": 48,
    "start_time": "2022-04-24T07:12:12.658Z"
   },
   {
    "duration": 14,
    "start_time": "2022-04-24T07:12:12.713Z"
   },
   {
    "duration": 16,
    "start_time": "2022-04-24T07:12:12.730Z"
   },
   {
    "duration": 10,
    "start_time": "2022-04-24T07:12:12.748Z"
   },
   {
    "duration": 46,
    "start_time": "2022-04-24T07:12:12.760Z"
   },
   {
    "duration": 10,
    "start_time": "2022-04-24T07:12:12.809Z"
   },
   {
    "duration": 22,
    "start_time": "2022-04-24T07:12:12.822Z"
   },
   {
    "duration": 14,
    "start_time": "2022-04-24T07:12:12.847Z"
   },
   {
    "duration": 12,
    "start_time": "2022-04-24T07:12:12.893Z"
   },
   {
    "duration": 12,
    "start_time": "2022-04-24T07:12:12.907Z"
   },
   {
    "duration": 26,
    "start_time": "2022-04-24T07:12:12.922Z"
   },
   {
    "duration": 50,
    "start_time": "2022-04-24T07:12:12.951Z"
   },
   {
    "duration": 15,
    "start_time": "2022-04-24T07:12:13.003Z"
   },
   {
    "duration": 16,
    "start_time": "2022-04-24T07:12:13.020Z"
   },
   {
    "duration": 486,
    "start_time": "2022-04-24T07:12:13.038Z"
   },
   {
    "duration": 21,
    "start_time": "2022-04-24T07:12:13.527Z"
   },
   {
    "duration": 49,
    "start_time": "2022-04-24T07:12:13.551Z"
   },
   {
    "duration": 477,
    "start_time": "2022-04-24T07:12:13.602Z"
   },
   {
    "duration": 450,
    "start_time": "2022-04-24T07:12:14.082Z"
   },
   {
    "duration": 614,
    "start_time": "2022-04-24T07:12:14.535Z"
   },
   {
    "duration": 23,
    "start_time": "2022-04-24T07:12:15.152Z"
   },
   {
    "duration": 23,
    "start_time": "2022-04-24T07:12:15.192Z"
   },
   {
    "duration": 380,
    "start_time": "2022-04-24T07:12:15.218Z"
   },
   {
    "duration": 7,
    "start_time": "2022-04-24T07:12:15.601Z"
   },
   {
    "duration": 9,
    "start_time": "2022-04-24T07:12:15.611Z"
   },
   {
    "duration": 14,
    "start_time": "2022-04-24T07:12:15.622Z"
   },
   {
    "duration": 260,
    "start_time": "2022-04-24T07:12:15.639Z"
   },
   {
    "duration": 284,
    "start_time": "2022-04-24T07:12:15.901Z"
   },
   {
    "duration": 8,
    "start_time": "2022-04-24T07:12:16.187Z"
   },
   {
    "duration": 17,
    "start_time": "2022-04-24T07:12:16.198Z"
   },
   {
    "duration": 478,
    "start_time": "2022-04-24T07:12:16.217Z"
   },
   {
    "duration": 5,
    "start_time": "2022-04-24T07:12:16.698Z"
   },
   {
    "duration": 12,
    "start_time": "2022-04-24T07:12:16.706Z"
   },
   {
    "duration": 9,
    "start_time": "2022-04-24T07:12:16.721Z"
   },
   {
    "duration": 13,
    "start_time": "2022-04-24T07:12:16.733Z"
   },
   {
    "duration": 51,
    "start_time": "2022-04-24T07:12:16.749Z"
   },
   {
    "duration": 18,
    "start_time": "2022-04-24T07:12:16.803Z"
   },
   {
    "duration": 16,
    "start_time": "2022-04-24T07:12:16.823Z"
   },
   {
    "duration": 57,
    "start_time": "2022-04-24T07:12:16.842Z"
   },
   {
    "duration": 30,
    "start_time": "2022-04-24T07:12:16.902Z"
   },
   {
    "duration": 8,
    "start_time": "2022-04-24T07:12:16.935Z"
   },
   {
    "duration": 47,
    "start_time": "2022-04-24T07:12:16.946Z"
   },
   {
    "duration": 7,
    "start_time": "2022-04-24T07:12:16.996Z"
   },
   {
    "duration": 14,
    "start_time": "2022-04-24T07:12:17.006Z"
   },
   {
    "duration": 9,
    "start_time": "2022-04-24T07:12:17.023Z"
   },
   {
    "duration": 10,
    "start_time": "2022-04-24T07:12:17.035Z"
   },
   {
    "duration": 8,
    "start_time": "2022-04-24T07:12:17.047Z"
   },
   {
    "duration": 10,
    "start_time": "2022-04-24T07:12:17.094Z"
   },
   {
    "duration": 12,
    "start_time": "2022-04-24T07:12:17.106Z"
   },
   {
    "duration": 6,
    "start_time": "2022-04-24T07:12:17.121Z"
   },
   {
    "duration": 8,
    "start_time": "2022-04-24T07:12:17.130Z"
   },
   {
    "duration": 7,
    "start_time": "2022-04-24T07:12:17.141Z"
   },
   {
    "duration": 45,
    "start_time": "2022-04-24T07:12:17.151Z"
   },
   {
    "duration": 11,
    "start_time": "2022-04-24T07:12:17.198Z"
   },
   {
    "duration": 7,
    "start_time": "2022-04-24T07:12:17.211Z"
   },
   {
    "duration": 8,
    "start_time": "2022-04-24T07:12:17.226Z"
   },
   {
    "duration": 6,
    "start_time": "2022-04-24T08:10:18.233Z"
   },
   {
    "duration": 11,
    "start_time": "2022-04-24T08:11:11.111Z"
   },
   {
    "duration": 8,
    "start_time": "2022-04-24T08:11:19.057Z"
   },
   {
    "duration": 10,
    "start_time": "2022-04-24T08:11:19.910Z"
   },
   {
    "duration": 12,
    "start_time": "2022-04-24T08:11:20.762Z"
   },
   {
    "duration": 958,
    "start_time": "2022-04-24T13:43:00.069Z"
   },
   {
    "duration": 36462,
    "start_time": "2022-04-24T13:43:01.028Z"
   },
   {
    "duration": 5,
    "start_time": "2022-04-24T13:43:37.492Z"
   },
   {
    "duration": 19,
    "start_time": "2022-04-24T13:43:37.550Z"
   },
   {
    "duration": 36,
    "start_time": "2022-04-24T13:43:37.571Z"
   },
   {
    "duration": 11,
    "start_time": "2022-04-24T13:43:37.608Z"
   },
   {
    "duration": 14,
    "start_time": "2022-04-24T13:43:37.621Z"
   },
   {
    "duration": 44,
    "start_time": "2022-04-24T13:43:37.636Z"
   },
   {
    "duration": 30,
    "start_time": "2022-04-24T13:43:37.682Z"
   },
   {
    "duration": 19,
    "start_time": "2022-04-24T13:43:37.715Z"
   },
   {
    "duration": 6,
    "start_time": "2022-04-24T13:43:37.736Z"
   },
   {
    "duration": 6,
    "start_time": "2022-04-24T13:43:37.743Z"
   },
   {
    "duration": 4,
    "start_time": "2022-04-24T13:43:37.751Z"
   },
   {
    "duration": 6,
    "start_time": "2022-04-24T13:43:37.756Z"
   },
   {
    "duration": 47,
    "start_time": "2022-04-24T13:43:37.763Z"
   },
   {
    "duration": 14,
    "start_time": "2022-04-24T13:43:37.811Z"
   },
   {
    "duration": 8,
    "start_time": "2022-04-24T13:43:37.826Z"
   },
   {
    "duration": 16,
    "start_time": "2022-04-24T13:43:37.836Z"
   },
   {
    "duration": 163,
    "start_time": "2022-04-24T13:43:37.853Z"
   },
   {
    "duration": 133,
    "start_time": "2022-04-24T13:43:38.017Z"
   },
   {
    "duration": 10,
    "start_time": "2022-04-24T13:43:38.152Z"
   },
   {
    "duration": 16,
    "start_time": "2022-04-24T13:43:38.164Z"
   },
   {
    "duration": 9,
    "start_time": "2022-04-24T13:43:38.182Z"
   },
   {
    "duration": 6,
    "start_time": "2022-04-24T13:43:38.207Z"
   },
   {
    "duration": 15,
    "start_time": "2022-04-24T13:43:38.214Z"
   },
   {
    "duration": 5,
    "start_time": "2022-04-24T13:43:38.231Z"
   },
   {
    "duration": 11,
    "start_time": "2022-04-24T13:43:38.238Z"
   },
   {
    "duration": 6,
    "start_time": "2022-04-24T13:43:38.253Z"
   },
   {
    "duration": 10,
    "start_time": "2022-04-24T13:43:38.261Z"
   },
   {
    "duration": 3,
    "start_time": "2022-04-24T13:43:38.308Z"
   },
   {
    "duration": 11,
    "start_time": "2022-04-24T13:43:38.313Z"
   },
   {
    "duration": 4,
    "start_time": "2022-04-24T13:43:38.326Z"
   },
   {
    "duration": 10,
    "start_time": "2022-04-24T13:43:38.332Z"
   },
   {
    "duration": 8,
    "start_time": "2022-04-24T13:43:38.343Z"
   },
   {
    "duration": 5,
    "start_time": "2022-04-24T13:43:38.353Z"
   },
   {
    "duration": 7,
    "start_time": "2022-04-24T13:43:38.360Z"
   },
   {
    "duration": 12,
    "start_time": "2022-04-24T13:43:38.407Z"
   },
   {
    "duration": 11,
    "start_time": "2022-04-24T13:43:38.421Z"
   },
   {
    "duration": 9,
    "start_time": "2022-04-24T13:43:38.434Z"
   },
   {
    "duration": 10,
    "start_time": "2022-04-24T13:43:38.445Z"
   },
   {
    "duration": 306,
    "start_time": "2022-04-24T13:43:38.456Z"
   },
   {
    "duration": 13,
    "start_time": "2022-04-24T13:43:38.763Z"
   },
   {
    "duration": 13,
    "start_time": "2022-04-24T13:43:38.777Z"
   },
   {
    "duration": 224,
    "start_time": "2022-04-24T13:43:38.791Z"
   },
   {
    "duration": 198,
    "start_time": "2022-04-24T13:43:39.017Z"
   },
   {
    "duration": 342,
    "start_time": "2022-04-24T13:43:39.217Z"
   },
   {
    "duration": 12,
    "start_time": "2022-04-24T13:43:39.560Z"
   },
   {
    "duration": 13,
    "start_time": "2022-04-24T13:43:39.574Z"
   },
   {
    "duration": 230,
    "start_time": "2022-04-24T13:43:39.588Z"
   },
   {
    "duration": 4,
    "start_time": "2022-04-24T13:43:39.820Z"
   },
   {
    "duration": 5,
    "start_time": "2022-04-24T13:43:39.826Z"
   },
   {
    "duration": 8,
    "start_time": "2022-04-24T13:43:39.833Z"
   },
   {
    "duration": 132,
    "start_time": "2022-04-24T13:43:39.843Z"
   },
   {
    "duration": 162,
    "start_time": "2022-04-24T13:43:39.976Z"
   },
   {
    "duration": 4,
    "start_time": "2022-04-24T13:43:40.140Z"
   },
   {
    "duration": 10,
    "start_time": "2022-04-24T13:43:40.146Z"
   },
   {
    "duration": 231,
    "start_time": "2022-04-24T13:43:40.157Z"
   },
   {
    "duration": 4,
    "start_time": "2022-04-24T13:43:40.390Z"
   },
   {
    "duration": 6,
    "start_time": "2022-04-24T13:43:40.408Z"
   },
   {
    "duration": 6,
    "start_time": "2022-04-24T13:43:40.415Z"
   },
   {
    "duration": 6,
    "start_time": "2022-04-24T13:43:40.423Z"
   },
   {
    "duration": 9,
    "start_time": "2022-04-24T13:43:40.431Z"
   },
   {
    "duration": 8,
    "start_time": "2022-04-24T13:43:40.442Z"
   },
   {
    "duration": 8,
    "start_time": "2022-04-24T13:43:40.452Z"
   },
   {
    "duration": 50,
    "start_time": "2022-04-24T13:43:40.461Z"
   },
   {
    "duration": 18,
    "start_time": "2022-04-24T13:43:40.513Z"
   },
   {
    "duration": 4,
    "start_time": "2022-04-24T13:43:40.532Z"
   },
   {
    "duration": 4,
    "start_time": "2022-04-24T13:43:40.538Z"
   },
   {
    "duration": 4,
    "start_time": "2022-04-24T13:43:40.544Z"
   },
   {
    "duration": 6,
    "start_time": "2022-04-24T13:43:40.549Z"
   },
   {
    "duration": 8,
    "start_time": "2022-04-24T13:43:40.556Z"
   },
   {
    "duration": 44,
    "start_time": "2022-04-24T13:43:40.565Z"
   },
   {
    "duration": 6,
    "start_time": "2022-04-24T13:43:40.610Z"
   },
   {
    "duration": 5,
    "start_time": "2022-04-24T13:43:40.617Z"
   },
   {
    "duration": 6,
    "start_time": "2022-04-24T13:43:40.623Z"
   },
   {
    "duration": 4,
    "start_time": "2022-04-24T13:43:40.631Z"
   },
   {
    "duration": 4,
    "start_time": "2022-04-24T13:43:40.636Z"
   },
   {
    "duration": 4,
    "start_time": "2022-04-24T13:43:40.642Z"
   },
   {
    "duration": 6,
    "start_time": "2022-04-24T13:43:40.648Z"
   },
   {
    "duration": 7,
    "start_time": "2022-04-24T13:43:40.655Z"
   },
   {
    "duration": 44,
    "start_time": "2022-04-24T13:43:40.664Z"
   },
   {
    "duration": 5,
    "start_time": "2022-04-24T13:43:40.714Z"
   },
   {
    "duration": 1728,
    "start_time": "2022-04-24T17:51:43.529Z"
   },
   {
    "duration": 4623,
    "start_time": "2022-04-24T17:51:45.260Z"
   },
   {
    "duration": 8,
    "start_time": "2022-04-24T17:51:49.885Z"
   },
   {
    "duration": 31,
    "start_time": "2022-04-24T17:51:49.964Z"
   },
   {
    "duration": 33,
    "start_time": "2022-04-24T17:51:49.997Z"
   },
   {
    "duration": 16,
    "start_time": "2022-04-24T17:51:50.032Z"
   },
   {
    "duration": 25,
    "start_time": "2022-04-24T17:51:50.050Z"
   },
   {
    "duration": 88,
    "start_time": "2022-04-24T17:51:50.077Z"
   },
   {
    "duration": 25,
    "start_time": "2022-04-24T17:51:50.167Z"
   },
   {
    "duration": 29,
    "start_time": "2022-04-24T17:51:50.197Z"
   },
   {
    "duration": 25,
    "start_time": "2022-04-24T17:51:50.228Z"
   },
   {
    "duration": 34,
    "start_time": "2022-04-24T17:51:50.255Z"
   },
   {
    "duration": 10,
    "start_time": "2022-04-24T17:51:50.291Z"
   },
   {
    "duration": 21,
    "start_time": "2022-04-24T17:51:50.303Z"
   },
   {
    "duration": 13,
    "start_time": "2022-04-24T17:51:50.326Z"
   },
   {
    "duration": 34,
    "start_time": "2022-04-24T17:51:50.344Z"
   },
   {
    "duration": 13,
    "start_time": "2022-04-24T17:51:50.381Z"
   },
   {
    "duration": 30,
    "start_time": "2022-04-24T17:51:50.396Z"
   },
   {
    "duration": 166,
    "start_time": "2022-04-24T17:51:50.428Z"
   },
   {
    "duration": 154,
    "start_time": "2022-04-24T17:51:50.596Z"
   },
   {
    "duration": 13,
    "start_time": "2022-04-24T17:51:50.751Z"
   },
   {
    "duration": 28,
    "start_time": "2022-04-24T17:51:50.766Z"
   },
   {
    "duration": 12,
    "start_time": "2022-04-24T17:51:50.796Z"
   },
   {
    "duration": 16,
    "start_time": "2022-04-24T17:51:50.809Z"
   },
   {
    "duration": 16,
    "start_time": "2022-04-24T17:51:50.827Z"
   },
   {
    "duration": 6,
    "start_time": "2022-04-24T17:51:50.845Z"
   },
   {
    "duration": 41,
    "start_time": "2022-04-24T17:51:50.853Z"
   },
   {
    "duration": 9,
    "start_time": "2022-04-24T17:51:50.899Z"
   },
   {
    "duration": 13,
    "start_time": "2022-04-24T17:51:50.910Z"
   },
   {
    "duration": 7,
    "start_time": "2022-04-24T17:51:50.925Z"
   },
   {
    "duration": 17,
    "start_time": "2022-04-24T17:51:50.934Z"
   },
   {
    "duration": 13,
    "start_time": "2022-04-24T17:51:50.953Z"
   },
   {
    "duration": 12,
    "start_time": "2022-04-24T17:51:50.993Z"
   },
   {
    "duration": 15,
    "start_time": "2022-04-24T17:51:51.007Z"
   },
   {
    "duration": 10,
    "start_time": "2022-04-24T17:51:51.025Z"
   },
   {
    "duration": 17,
    "start_time": "2022-04-24T17:51:51.036Z"
   },
   {
    "duration": 42,
    "start_time": "2022-04-24T17:51:51.056Z"
   },
   {
    "duration": 15,
    "start_time": "2022-04-24T17:51:51.100Z"
   },
   {
    "duration": 13,
    "start_time": "2022-04-24T17:51:51.117Z"
   },
   {
    "duration": 13,
    "start_time": "2022-04-24T17:51:51.132Z"
   },
   {
    "duration": 374,
    "start_time": "2022-04-24T17:51:51.146Z"
   },
   {
    "duration": 15,
    "start_time": "2022-04-24T17:51:51.521Z"
   },
   {
    "duration": 16,
    "start_time": "2022-04-24T17:51:51.538Z"
   },
   {
    "duration": 231,
    "start_time": "2022-04-24T17:51:51.556Z"
   },
   {
    "duration": 227,
    "start_time": "2022-04-24T17:51:51.795Z"
   },
   {
    "duration": 390,
    "start_time": "2022-04-24T17:51:52.024Z"
   },
   {
    "duration": 14,
    "start_time": "2022-04-24T17:51:52.416Z"
   },
   {
    "duration": 15,
    "start_time": "2022-04-24T17:51:52.433Z"
   },
   {
    "duration": 297,
    "start_time": "2022-04-24T17:51:52.452Z"
   },
   {
    "duration": 7,
    "start_time": "2022-04-24T17:51:52.750Z"
   },
   {
    "duration": 8,
    "start_time": "2022-04-24T17:51:52.759Z"
   },
   {
    "duration": 15,
    "start_time": "2022-04-24T17:51:52.769Z"
   },
   {
    "duration": 159,
    "start_time": "2022-04-24T17:51:52.786Z"
   },
   {
    "duration": 183,
    "start_time": "2022-04-24T17:51:52.947Z"
   },
   {
    "duration": 7,
    "start_time": "2022-04-24T17:51:53.133Z"
   },
   {
    "duration": 14,
    "start_time": "2022-04-24T17:51:53.142Z"
   },
   {
    "duration": 279,
    "start_time": "2022-04-24T17:51:53.158Z"
   },
   {
    "duration": 5,
    "start_time": "2022-04-24T17:51:53.439Z"
   },
   {
    "duration": 11,
    "start_time": "2022-04-24T17:51:53.446Z"
   },
   {
    "duration": 13,
    "start_time": "2022-04-24T17:51:53.459Z"
   },
   {
    "duration": 22,
    "start_time": "2022-04-24T17:51:53.474Z"
   },
   {
    "duration": 128,
    "start_time": "2022-04-24T17:51:53.498Z"
   },
   {
    "duration": 0,
    "start_time": "2022-04-24T17:51:53.629Z"
   },
   {
    "duration": 0,
    "start_time": "2022-04-24T17:51:53.630Z"
   },
   {
    "duration": 0,
    "start_time": "2022-04-24T17:51:53.631Z"
   },
   {
    "duration": 0,
    "start_time": "2022-04-24T17:51:53.633Z"
   },
   {
    "duration": 0,
    "start_time": "2022-04-24T17:51:53.634Z"
   },
   {
    "duration": 0,
    "start_time": "2022-04-24T17:51:53.636Z"
   },
   {
    "duration": 0,
    "start_time": "2022-04-24T17:51:53.637Z"
   },
   {
    "duration": 0,
    "start_time": "2022-04-24T17:51:53.638Z"
   },
   {
    "duration": 0,
    "start_time": "2022-04-24T17:51:53.639Z"
   },
   {
    "duration": 0,
    "start_time": "2022-04-24T17:51:53.641Z"
   },
   {
    "duration": 0,
    "start_time": "2022-04-24T17:51:53.642Z"
   },
   {
    "duration": 0,
    "start_time": "2022-04-24T17:51:53.644Z"
   },
   {
    "duration": 0,
    "start_time": "2022-04-24T17:51:53.645Z"
   },
   {
    "duration": 0,
    "start_time": "2022-04-24T17:51:53.645Z"
   },
   {
    "duration": 0,
    "start_time": "2022-04-24T17:51:53.647Z"
   },
   {
    "duration": 0,
    "start_time": "2022-04-24T17:51:53.648Z"
   },
   {
    "duration": 0,
    "start_time": "2022-04-24T17:51:53.649Z"
   },
   {
    "duration": 0,
    "start_time": "2022-04-24T17:51:53.650Z"
   },
   {
    "duration": 0,
    "start_time": "2022-04-24T17:51:53.650Z"
   },
   {
    "duration": 0,
    "start_time": "2022-04-24T17:51:53.651Z"
   },
   {
    "duration": 13,
    "start_time": "2022-04-24T17:52:17.799Z"
   },
   {
    "duration": 11,
    "start_time": "2022-04-24T17:52:20.075Z"
   },
   {
    "duration": 11,
    "start_time": "2022-04-24T17:52:21.126Z"
   },
   {
    "duration": 26,
    "start_time": "2022-04-24T17:52:21.951Z"
   },
   {
    "duration": 21,
    "start_time": "2022-04-24T17:52:23.539Z"
   },
   {
    "duration": 5,
    "start_time": "2022-04-24T17:52:25.863Z"
   },
   {
    "duration": 5,
    "start_time": "2022-04-24T17:52:26.087Z"
   },
   {
    "duration": 5,
    "start_time": "2022-04-24T17:52:26.341Z"
   },
   {
    "duration": 6,
    "start_time": "2022-04-24T17:52:26.540Z"
   },
   {
    "duration": 7,
    "start_time": "2022-04-24T17:52:27.062Z"
   },
   {
    "duration": 6,
    "start_time": "2022-04-24T17:52:27.304Z"
   },
   {
    "duration": 6,
    "start_time": "2022-04-24T17:52:27.588Z"
   },
   {
    "duration": 7,
    "start_time": "2022-04-24T17:52:27.837Z"
   },
   {
    "duration": 8,
    "start_time": "2022-04-24T17:52:28.092Z"
   },
   {
    "duration": 6,
    "start_time": "2022-04-24T17:52:28.918Z"
   },
   {
    "duration": 6,
    "start_time": "2022-04-24T17:52:29.216Z"
   },
   {
    "duration": 7,
    "start_time": "2022-04-24T17:52:29.481Z"
   },
   {
    "duration": 5,
    "start_time": "2022-04-24T17:52:30.049Z"
   },
   {
    "duration": 5,
    "start_time": "2022-04-24T17:52:30.285Z"
   },
   {
    "duration": 5,
    "start_time": "2022-04-24T17:52:30.486Z"
   },
   {
    "duration": 6,
    "start_time": "2022-04-24T17:52:30.716Z"
   },
   {
    "duration": 22,
    "start_time": "2022-04-24T18:08:05.894Z"
   },
   {
    "duration": 15,
    "start_time": "2022-04-24T18:08:58.119Z"
   },
   {
    "duration": 226,
    "start_time": "2022-04-24T18:09:16.376Z"
   },
   {
    "duration": 220,
    "start_time": "2022-04-24T18:10:20.564Z"
   },
   {
    "duration": 16,
    "start_time": "2022-04-24T18:11:49.597Z"
   },
   {
    "duration": 15,
    "start_time": "2022-04-24T18:12:11.111Z"
   },
   {
    "duration": 1039,
    "start_time": "2022-04-25T12:33:18.226Z"
   },
   {
    "duration": 104083,
    "start_time": "2022-04-25T12:33:19.268Z"
   },
   {
    "duration": 138,
    "start_time": "2022-04-25T12:35:03.356Z"
   },
   {
    "duration": 0,
    "start_time": "2022-04-25T12:35:03.574Z"
   },
   {
    "duration": 0,
    "start_time": "2022-04-25T12:35:03.575Z"
   },
   {
    "duration": 0,
    "start_time": "2022-04-25T12:35:03.576Z"
   },
   {
    "duration": 0,
    "start_time": "2022-04-25T12:35:03.577Z"
   },
   {
    "duration": 0,
    "start_time": "2022-04-25T12:35:03.577Z"
   },
   {
    "duration": 0,
    "start_time": "2022-04-25T12:35:03.578Z"
   },
   {
    "duration": 0,
    "start_time": "2022-04-25T12:35:03.579Z"
   },
   {
    "duration": 0,
    "start_time": "2022-04-25T12:35:03.580Z"
   },
   {
    "duration": 0,
    "start_time": "2022-04-25T12:35:03.580Z"
   },
   {
    "duration": 0,
    "start_time": "2022-04-25T12:35:03.581Z"
   },
   {
    "duration": 0,
    "start_time": "2022-04-25T12:35:03.582Z"
   },
   {
    "duration": 0,
    "start_time": "2022-04-25T12:35:03.583Z"
   },
   {
    "duration": 0,
    "start_time": "2022-04-25T12:35:03.585Z"
   },
   {
    "duration": 0,
    "start_time": "2022-04-25T12:35:03.587Z"
   },
   {
    "duration": 0,
    "start_time": "2022-04-25T12:35:03.587Z"
   },
   {
    "duration": 0,
    "start_time": "2022-04-25T12:35:03.588Z"
   },
   {
    "duration": 0,
    "start_time": "2022-04-25T12:35:03.590Z"
   },
   {
    "duration": 0,
    "start_time": "2022-04-25T12:35:03.591Z"
   },
   {
    "duration": 0,
    "start_time": "2022-04-25T12:35:03.593Z"
   },
   {
    "duration": 0,
    "start_time": "2022-04-25T12:35:03.594Z"
   },
   {
    "duration": 0,
    "start_time": "2022-04-25T12:35:03.595Z"
   },
   {
    "duration": 0,
    "start_time": "2022-04-25T12:35:03.597Z"
   },
   {
    "duration": 0,
    "start_time": "2022-04-25T12:35:03.598Z"
   },
   {
    "duration": 0,
    "start_time": "2022-04-25T12:35:03.600Z"
   },
   {
    "duration": 0,
    "start_time": "2022-04-25T12:35:03.601Z"
   },
   {
    "duration": 0,
    "start_time": "2022-04-25T12:35:03.602Z"
   },
   {
    "duration": 0,
    "start_time": "2022-04-25T12:35:03.604Z"
   },
   {
    "duration": 0,
    "start_time": "2022-04-25T12:35:03.605Z"
   },
   {
    "duration": 0,
    "start_time": "2022-04-25T12:35:03.607Z"
   },
   {
    "duration": 0,
    "start_time": "2022-04-25T12:35:03.609Z"
   },
   {
    "duration": 0,
    "start_time": "2022-04-25T12:35:03.647Z"
   },
   {
    "duration": 0,
    "start_time": "2022-04-25T12:35:03.648Z"
   },
   {
    "duration": 0,
    "start_time": "2022-04-25T12:35:03.649Z"
   },
   {
    "duration": 0,
    "start_time": "2022-04-25T12:35:03.651Z"
   },
   {
    "duration": 0,
    "start_time": "2022-04-25T12:35:03.652Z"
   },
   {
    "duration": 0,
    "start_time": "2022-04-25T12:35:03.653Z"
   },
   {
    "duration": 0,
    "start_time": "2022-04-25T12:35:03.653Z"
   },
   {
    "duration": 0,
    "start_time": "2022-04-25T12:35:03.654Z"
   },
   {
    "duration": 0,
    "start_time": "2022-04-25T12:35:03.657Z"
   },
   {
    "duration": 0,
    "start_time": "2022-04-25T12:35:03.657Z"
   },
   {
    "duration": 0,
    "start_time": "2022-04-25T12:35:03.658Z"
   },
   {
    "duration": 0,
    "start_time": "2022-04-25T12:35:03.659Z"
   },
   {
    "duration": 0,
    "start_time": "2022-04-25T12:35:03.659Z"
   },
   {
    "duration": 0,
    "start_time": "2022-04-25T12:35:03.660Z"
   },
   {
    "duration": 0,
    "start_time": "2022-04-25T12:35:03.661Z"
   },
   {
    "duration": 0,
    "start_time": "2022-04-25T12:35:03.661Z"
   },
   {
    "duration": 0,
    "start_time": "2022-04-25T12:35:03.662Z"
   },
   {
    "duration": 0,
    "start_time": "2022-04-25T12:35:03.667Z"
   },
   {
    "duration": 0,
    "start_time": "2022-04-25T12:35:03.669Z"
   },
   {
    "duration": 0,
    "start_time": "2022-04-25T12:35:03.670Z"
   },
   {
    "duration": 0,
    "start_time": "2022-04-25T12:35:03.671Z"
   },
   {
    "duration": 0,
    "start_time": "2022-04-25T12:35:03.672Z"
   },
   {
    "duration": 0,
    "start_time": "2022-04-25T12:35:03.673Z"
   },
   {
    "duration": 0,
    "start_time": "2022-04-25T12:35:03.674Z"
   },
   {
    "duration": 0,
    "start_time": "2022-04-25T12:35:03.675Z"
   },
   {
    "duration": 0,
    "start_time": "2022-04-25T12:35:03.676Z"
   },
   {
    "duration": 0,
    "start_time": "2022-04-25T12:35:03.677Z"
   },
   {
    "duration": 0,
    "start_time": "2022-04-25T12:35:03.679Z"
   },
   {
    "duration": 0,
    "start_time": "2022-04-25T12:35:03.680Z"
   },
   {
    "duration": 0,
    "start_time": "2022-04-25T12:35:03.681Z"
   },
   {
    "duration": 0,
    "start_time": "2022-04-25T12:35:03.682Z"
   },
   {
    "duration": 0,
    "start_time": "2022-04-25T12:35:03.683Z"
   },
   {
    "duration": 0,
    "start_time": "2022-04-25T12:35:03.684Z"
   },
   {
    "duration": 0,
    "start_time": "2022-04-25T12:35:03.686Z"
   },
   {
    "duration": 0,
    "start_time": "2022-04-25T12:35:03.687Z"
   },
   {
    "duration": 0,
    "start_time": "2022-04-25T12:35:03.688Z"
   },
   {
    "duration": 0,
    "start_time": "2022-04-25T12:35:03.689Z"
   },
   {
    "duration": 0,
    "start_time": "2022-04-25T12:35:03.690Z"
   },
   {
    "duration": 0,
    "start_time": "2022-04-25T12:35:03.691Z"
   },
   {
    "duration": 0,
    "start_time": "2022-04-25T12:35:03.692Z"
   },
   {
    "duration": 0,
    "start_time": "2022-04-25T12:35:03.693Z"
   },
   {
    "duration": 0,
    "start_time": "2022-04-25T12:35:03.693Z"
   },
   {
    "duration": 0,
    "start_time": "2022-04-25T12:35:03.694Z"
   },
   {
    "duration": 0,
    "start_time": "2022-04-25T12:35:03.695Z"
   },
   {
    "duration": 0,
    "start_time": "2022-04-25T12:35:03.696Z"
   },
   {
    "duration": 0,
    "start_time": "2022-04-25T12:35:03.697Z"
   },
   {
    "duration": 0,
    "start_time": "2022-04-25T12:35:03.698Z"
   },
   {
    "duration": 0,
    "start_time": "2022-04-25T12:35:03.699Z"
   },
   {
    "duration": 0,
    "start_time": "2022-04-25T12:35:03.700Z"
   },
   {
    "duration": 104113,
    "start_time": "2022-04-25T12:36:11.635Z"
   },
   {
    "duration": 1072,
    "start_time": "2022-04-25T12:39:00.417Z"
   },
   {
    "duration": 118465,
    "start_time": "2022-04-25T12:39:01.491Z"
   },
   {
    "duration": 5,
    "start_time": "2022-04-25T12:42:38.273Z"
   },
   {
    "duration": 103,
    "start_time": "2022-04-25T12:42:41.921Z"
   },
   {
    "duration": 58,
    "start_time": "2022-04-25T12:42:42.026Z"
   },
   {
    "duration": 20,
    "start_time": "2022-04-25T12:42:42.086Z"
   },
   {
    "duration": 29,
    "start_time": "2022-04-25T12:42:42.110Z"
   },
   {
    "duration": 60,
    "start_time": "2022-04-25T12:42:42.141Z"
   },
   {
    "duration": 7,
    "start_time": "2022-04-25T12:42:42.202Z"
   },
   {
    "duration": 17,
    "start_time": "2022-04-25T12:42:42.210Z"
   },
   {
    "duration": 26,
    "start_time": "2022-04-25T12:42:42.228Z"
   },
   {
    "duration": 23,
    "start_time": "2022-04-25T12:42:42.260Z"
   },
   {
    "duration": 9,
    "start_time": "2022-04-25T12:42:42.286Z"
   },
   {
    "duration": 14,
    "start_time": "2022-04-25T12:42:42.296Z"
   },
   {
    "duration": 6,
    "start_time": "2022-04-25T12:42:42.313Z"
   },
   {
    "duration": 13,
    "start_time": "2022-04-25T12:42:42.321Z"
   },
   {
    "duration": 18,
    "start_time": "2022-04-25T12:42:42.336Z"
   },
   {
    "duration": 33,
    "start_time": "2022-04-25T12:42:42.358Z"
   },
   {
    "duration": 133,
    "start_time": "2022-04-25T12:42:42.393Z"
   },
   {
    "duration": 137,
    "start_time": "2022-04-25T12:42:42.527Z"
   },
   {
    "duration": 10,
    "start_time": "2022-04-25T12:42:42.673Z"
   },
   {
    "duration": 35,
    "start_time": "2022-04-25T12:42:42.685Z"
   },
   {
    "duration": 10,
    "start_time": "2022-04-25T12:42:42.721Z"
   },
   {
    "duration": 10,
    "start_time": "2022-04-25T12:42:42.733Z"
   },
   {
    "duration": 38,
    "start_time": "2022-04-25T12:42:42.744Z"
   },
   {
    "duration": 9,
    "start_time": "2022-04-25T12:42:42.783Z"
   },
   {
    "duration": 17,
    "start_time": "2022-04-25T12:42:42.793Z"
   },
   {
    "duration": 10,
    "start_time": "2022-04-25T12:42:42.812Z"
   },
   {
    "duration": 12,
    "start_time": "2022-04-25T12:42:42.823Z"
   },
   {
    "duration": 7,
    "start_time": "2022-04-25T12:42:42.836Z"
   },
   {
    "duration": 28,
    "start_time": "2022-04-25T12:42:42.851Z"
   },
   {
    "duration": 9,
    "start_time": "2022-04-25T12:42:42.880Z"
   },
   {
    "duration": 10,
    "start_time": "2022-04-25T12:42:42.891Z"
   },
   {
    "duration": 9,
    "start_time": "2022-04-25T12:42:42.902Z"
   },
   {
    "duration": 6,
    "start_time": "2022-04-25T12:42:42.912Z"
   },
   {
    "duration": 8,
    "start_time": "2022-04-25T12:42:42.919Z"
   },
   {
    "duration": 24,
    "start_time": "2022-04-25T12:42:42.929Z"
   },
   {
    "duration": 23,
    "start_time": "2022-04-25T12:42:42.955Z"
   },
   {
    "duration": 9,
    "start_time": "2022-04-25T12:42:42.979Z"
   },
   {
    "duration": 9,
    "start_time": "2022-04-25T12:42:42.990Z"
   },
   {
    "duration": 309,
    "start_time": "2022-04-25T12:42:43.001Z"
   },
   {
    "duration": 11,
    "start_time": "2022-04-25T12:42:43.312Z"
   },
   {
    "duration": 12,
    "start_time": "2022-04-25T12:42:43.324Z"
   },
   {
    "duration": 254,
    "start_time": "2022-04-25T12:42:43.337Z"
   },
   {
    "duration": 337,
    "start_time": "2022-04-25T12:42:43.594Z"
   },
   {
    "duration": 374,
    "start_time": "2022-04-25T12:42:43.933Z"
   },
   {
    "duration": 13,
    "start_time": "2022-04-25T12:42:44.308Z"
   },
   {
    "duration": 15,
    "start_time": "2022-04-25T12:42:44.322Z"
   },
   {
    "duration": 216,
    "start_time": "2022-04-25T12:42:44.338Z"
   },
   {
    "duration": 6,
    "start_time": "2022-04-25T12:42:44.556Z"
   },
   {
    "duration": 15,
    "start_time": "2022-04-25T12:42:44.566Z"
   },
   {
    "duration": 12,
    "start_time": "2022-04-25T12:42:44.582Z"
   },
   {
    "duration": 126,
    "start_time": "2022-04-25T12:42:44.596Z"
   },
   {
    "duration": 157,
    "start_time": "2022-04-25T12:42:44.723Z"
   },
   {
    "duration": 3,
    "start_time": "2022-04-25T12:42:44.882Z"
   },
   {
    "duration": 11,
    "start_time": "2022-04-25T12:42:44.887Z"
   },
   {
    "duration": 246,
    "start_time": "2022-04-25T12:42:44.899Z"
   },
   {
    "duration": 7,
    "start_time": "2022-04-25T12:42:45.146Z"
   },
   {
    "duration": 23,
    "start_time": "2022-04-25T12:42:45.154Z"
   },
   {
    "duration": 10,
    "start_time": "2022-04-25T12:42:45.179Z"
   },
   {
    "duration": 9,
    "start_time": "2022-04-25T12:42:45.190Z"
   },
   {
    "duration": 10,
    "start_time": "2022-04-25T12:42:45.200Z"
   },
   {
    "duration": 9,
    "start_time": "2022-04-25T12:42:45.211Z"
   },
   {
    "duration": 30,
    "start_time": "2022-04-25T12:42:45.222Z"
   },
   {
    "duration": 22,
    "start_time": "2022-04-25T12:42:45.253Z"
   },
   {
    "duration": 20,
    "start_time": "2022-04-25T12:42:45.277Z"
   },
   {
    "duration": 5,
    "start_time": "2022-04-25T12:42:45.299Z"
   },
   {
    "duration": 6,
    "start_time": "2022-04-25T12:42:45.305Z"
   },
   {
    "duration": 4,
    "start_time": "2022-04-25T12:42:45.313Z"
   },
   {
    "duration": 33,
    "start_time": "2022-04-25T12:42:45.318Z"
   },
   {
    "duration": 32,
    "start_time": "2022-04-25T12:42:45.353Z"
   },
   {
    "duration": 7,
    "start_time": "2022-04-25T12:42:45.386Z"
   },
   {
    "duration": 5,
    "start_time": "2022-04-25T12:42:45.394Z"
   },
   {
    "duration": 4,
    "start_time": "2022-04-25T12:42:45.401Z"
   },
   {
    "duration": 6,
    "start_time": "2022-04-25T12:42:45.407Z"
   },
   {
    "duration": 5,
    "start_time": "2022-04-25T12:42:45.414Z"
   },
   {
    "duration": 4,
    "start_time": "2022-04-25T12:42:45.420Z"
   },
   {
    "duration": 5,
    "start_time": "2022-04-25T12:42:45.426Z"
   },
   {
    "duration": 19,
    "start_time": "2022-04-25T12:42:45.432Z"
   },
   {
    "duration": 25,
    "start_time": "2022-04-25T12:42:45.452Z"
   },
   {
    "duration": 5,
    "start_time": "2022-04-25T12:42:45.479Z"
   },
   {
    "duration": 6,
    "start_time": "2022-04-25T12:42:45.485Z"
   }
  ],
  "kernelspec": {
   "display_name": "Python 3 (ipykernel)",
   "language": "python",
   "name": "python3"
  },
  "language_info": {
   "codemirror_mode": {
    "name": "ipython",
    "version": 3
   },
   "file_extension": ".py",
   "mimetype": "text/x-python",
   "name": "python",
   "nbconvert_exporter": "python",
   "pygments_lexer": "ipython3",
   "version": "3.9.7"
  },
  "toc": {
   "base_numbering": 1,
   "nav_menu": {},
   "number_sections": true,
   "sideBar": true,
   "skip_h1_title": true,
   "title_cell": "Table of Contents",
   "title_sidebar": "Contents",
   "toc_cell": false,
   "toc_position": {
    "height": "calc(100% - 180px)",
    "left": "10px",
    "top": "150px",
    "width": "319.332px"
   },
   "toc_section_display": true,
   "toc_window_display": true
  }
 },
 "nbformat": 4,
 "nbformat_minor": 2
}
